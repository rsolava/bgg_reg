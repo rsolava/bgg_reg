{
 "cells": [
  {
   "cell_type": "markdown",
   "id": "e68dbe95",
   "metadata": {},
   "source": [
    "## Gathering BGG Data\n",
    "\n",
    "This notebook gives the web scraping pipeline to get data for each board game on BGG"
   ]
  },
  {
   "cell_type": "code",
   "execution_count": 31,
   "id": "2c359b49",
   "metadata": {},
   "outputs": [],
   "source": [
    "import requests, bs4\n",
    "from bs4 import BeautifulSoup as bs\n",
    "import pandas as pd\n",
    "import re\n",
    "import time, os\n",
    "import ast\n",
    "import matplotlib.pyplot as plt\n",
    "\n",
    "import statsmodels.api as sm\n",
    "import seaborn as sns\n",
    "import numpy as np\n",
    "from sklearn.tree import DecisionTreeRegressor\n",
    "from sklearn.ensemble import RandomForestRegressor\n",
    "from sklearn.model_selection import train_test_split\n",
    "from scipy import stats"
   ]
  },
  {
   "cell_type": "code",
   "execution_count": 102,
   "id": "cab04946",
   "metadata": {},
   "outputs": [],
   "source": [
    "from selenium import webdriver\n",
    "from selenium.webdriver.common.keys import Keys"
   ]
  },
  {
   "cell_type": "code",
   "execution_count": 103,
   "id": "035277b4",
   "metadata": {},
   "outputs": [],
   "source": [
    "#url = \"https://boardgamegeek.com/boardgame/586/front/stats\"\n",
    "\n",
    "#response = requests.get(url)\n",
    "#status = response.status_code\n",
    "#if status == 200:\n",
    "#  page = response.text\n",
    "#  soup = bs(page)\n",
    "#else:\n",
    "#  print(f\"Oops! Received status code {status}\")"
   ]
  },
  {
   "cell_type": "code",
   "execution_count": null,
   "id": "e6d44f29",
   "metadata": {},
   "outputs": [],
   "source": []
  },
  {
   "cell_type": "code",
   "execution_count": 153,
   "id": "575791aa",
   "metadata": {},
   "outputs": [
    {
     "name": "stderr",
     "output_type": "stream",
     "text": [
      "<ipython-input-153-3ed8d520c4d8>:4: DeprecationWarning: executable_path has been deprecated, please pass in a Service object\n",
      "  driver = webdriver.Chrome(chromedriver)\n"
     ]
    }
   ],
   "source": [
    "chromedriver = \"/Applications/chromedriver\" # path to the chromedriver executable\n",
    "os.environ[\"webdriver.chrome.driver\"] = chromedriver\n",
    "\n",
    "driver = webdriver.Chrome(chromedriver)"
   ]
  },
  {
   "cell_type": "markdown",
   "id": "3309d70c",
   "metadata": {},
   "source": [
    "## Stats Page\n",
    "\n",
    "We'll begin by exploring the stats page for one game. From here, we should be able to get\n",
    "\n",
    "* Number owned\n",
    "* Average rating\n",
    "* Weight\n",
    "* Recommended age\n",
    "* Min, max estimated time\n",
    "* Min, max player count\n",
    "* Community min, max and best player counts\n",
    "\n",
    "Other features to consider:\n",
    "\n",
    "* \\# of ratings\n",
    "* Std deviation of ratings\n",
    "* \\# of comments\n",
    "* \\# of plays\n",
    "* \\# of fans\n",
    "* \\# of page views\n",
    "* Prev. owned\n",
    "* Wishlist"
   ]
  },
  {
   "cell_type": "code",
   "execution_count": 105,
   "id": "399b0a52",
   "metadata": {},
   "outputs": [],
   "source": [
    "\n",
    "driver.get(\"https://boardgamegeek.com/boardgame/122691/magnum-opus/stats\")\n",
    "\n",
    "soup = bs(driver.page_source,'html5lib')"
   ]
  },
  {
   "cell_type": "code",
   "execution_count": null,
   "id": "45b67168",
   "metadata": {},
   "outputs": [],
   "source": []
  },
  {
   "cell_type": "code",
   "execution_count": 106,
   "id": "2113d60c",
   "metadata": {},
   "outputs": [
    {
     "data": {
      "text/plain": [
       "'316'"
      ]
     },
     "execution_count": 106,
     "metadata": {},
     "output_type": "execute_result"
    }
   ],
   "source": [
    "soup.find_all(href=re.compile(\"status=own\"))[0].text"
   ]
  },
  {
   "cell_type": "code",
   "execution_count": 107,
   "id": "4b8d175a",
   "metadata": {},
   "outputs": [
    {
     "data": {
      "text/plain": [
       "'6.967'"
      ]
     },
     "execution_count": 107,
     "metadata": {},
     "output_type": "execute_result"
    }
   ],
   "source": [
    "soup.find(text=re.compile(\"Avg. Rating\")).next.next.text.strip()"
   ]
  },
  {
   "cell_type": "code",
   "execution_count": 108,
   "id": "fe7237aa",
   "metadata": {},
   "outputs": [],
   "source": [
    "def get_num_owned(soup):\n",
    "    try:\n",
    "        num_str = soup.find(href=re.compile(\"status=own\")).text\n",
    "        num = int(num_str.replace(\",\",\"\"))\n",
    "        return num\n",
    "    except:\n",
    "        return None"
   ]
  },
  {
   "cell_type": "code",
   "execution_count": 109,
   "id": "31804ed2",
   "metadata": {},
   "outputs": [
    {
     "data": {
      "text/plain": [
       "316"
      ]
     },
     "execution_count": 109,
     "metadata": {},
     "output_type": "execute_result"
    }
   ],
   "source": [
    "get_num_owned(soup)"
   ]
  },
  {
   "cell_type": "code",
   "execution_count": 110,
   "id": "10231bc8",
   "metadata": {},
   "outputs": [],
   "source": [
    "def get_rating(soup):\n",
    "    try:\n",
    "        return float(soup.find(text=re.compile(\"Avg. Rating\")).next.next.text.strip())\n",
    "    except:\n",
    "        return None"
   ]
  },
  {
   "cell_type": "code",
   "execution_count": 111,
   "id": "817788df",
   "metadata": {},
   "outputs": [
    {
     "data": {
      "text/plain": [
       "6.967"
      ]
     },
     "execution_count": 111,
     "metadata": {},
     "output_type": "execute_result"
    }
   ],
   "source": [
    "get_rating(soup)"
   ]
  },
  {
   "cell_type": "markdown",
   "id": "ba60bf4f",
   "metadata": {},
   "source": [
    "### Gameplay items\n",
    "\n",
    "The gameplay item class contains 4 relevant pieces of information for us.\n",
    "\n",
    "* Player count\n",
    "* Play time\n",
    "* Player age\n",
    "* Weight"
   ]
  },
  {
   "cell_type": "code",
   "execution_count": 112,
   "id": "1269637e",
   "metadata": {},
   "outputs": [
    {
     "name": "stdout",
     "output_type": "stream",
     "text": [
      "[' \\t\\t\\t\\t \\t\\t\\t\\t\\t     2–4  \\t\\t\\t\\t\\tPlayers \\t\\t\\t\\t \\t\\t\\t\\t \\t\\t\\t\\t\\t \\t\\t\\t\\t\\t\\t \\t\\t\\t\\t\\t\\t\\tCommunity: \\t\\t\\t\\t\\t\\t\\t \\t\\t\\t\\t\\t\\t\\t\\t(no votes) \\t\\t\\t\\t\\t\\t\\t \\t\\t\\t\\t\\t\\t\\t \\t\\t\\t\\t\\t\\t\\t\\t3–4 \\t\\t\\t\\t\\t\\t\\t \\t\\t\\t\\t\\t\\t\\t \\t\\t\\t\\t\\t\\t\\t\\t— \\t\\t\\t\\t\\t\\t\\t\\tBest: 4 \\t\\t\\t\\t\\t\\t\\t \\t\\t\\t\\t\\t\\t \\t\\t\\t\\t\\t \\t\\t\\t\\t \\t\\t\\t', ' \\t\\t\\t\\t \\t\\t\\t\\t\\t \\t\\t\\t\\t\\t \\t\\t\\t\\t\\t\\t     60  Min \\t\\t\\t\\t\\t \\t\\t\\t\\t \\t\\t\\t\\t \\t\\t\\t\\t\\t \\t\\t\\t\\t\\t\\tPlaying Time \\t\\t\\t\\t\\t \\t\\t\\t\\t\\t \\t\\t\\t\\t \\t\\t\\t', ' \\t\\t\\t\\t \\t\\t\\t\\t\\tAge: \\t\\t\\t\\t\\t \\t\\t\\t\\t\\t \\t\\t\\t\\t\\t\\t12+ \\t\\t\\t\\t\\t \\t\\t\\t\\t \\t\\t\\t\\t \\t\\t\\t\\t\\t \\t\\t\\t\\t\\t \\t\\t\\t\\t\\t\\t \\t\\t\\t\\t\\t\\t\\tCommunity: 12+ \\t\\t\\t\\t\\t\\t \\t\\t\\t\\t\\t \\t\\t\\t\\t \\t\\t\\t', \" \\t\\t\\t\\t \\t\\t\\t\\t\\tWeight: \\t\\t\\t\\t\\t \\t\\t\\t\\t\\t\\t–– \\t\\t\\t\\t\\t \\t\\t\\t\\t\\t \\t\\t\\t\\t\\t\\t \\t\\t\\t\\t\\t\\t\\t2.54 \\t\\t\\t\\t\\t\\t \\t\\t\\t\\t\\t\\t/ 5 Complexity Rating \\t\\t\\t\\t\\t  \\t\\t\\t\\t \\t\\t\\t\\t \\t\\t\\t\\t\\t \\t\\t\\t\\t\\t\\t \\t\\t\\t\\t\\t\\t\\t'Complexity' Rating Results \\t\\t\\t\\t\\t\\t \\t\\t\\t\\t\\t  \\t\\t\\t\\t\\t \\t\\t\\t\\t\\t\\t Learn more about complexity ratings \\t\\t\\t\\t\\t \\t\\t\\t\\t \\t\\t\\t\"]\n"
     ]
    }
   ],
   "source": [
    "gameplay_list = soup.find_all(class_=\"gameplay-item\")\n",
    "\n",
    "print([x.text for x in gameplay_list])"
   ]
  },
  {
   "cell_type": "markdown",
   "id": "2c1be9c7",
   "metadata": {},
   "source": [
    "Game weight and player age are fairly straight forward"
   ]
  },
  {
   "cell_type": "code",
   "execution_count": 113,
   "id": "ed749989",
   "metadata": {},
   "outputs": [
    {
     "data": {
      "text/plain": [
       "2.54"
      ]
     },
     "execution_count": 113,
     "metadata": {},
     "output_type": "execute_result"
    }
   ],
   "source": [
    "float(gameplay_list[3].find(text=re.compile(\"/ 5\")).previous.strip())"
   ]
  },
  {
   "cell_type": "code",
   "execution_count": 114,
   "id": "e8188acd",
   "metadata": {},
   "outputs": [],
   "source": [
    "def get_weight(soup):\n",
    "    try:\n",
    "        gameplay_list = soup.find_all(class_=\"gameplay-item\")\n",
    "\n",
    "        return float(gameplay_list[3].find(text=re.compile(\"/ 5\")).previous.strip())\n",
    "    \n",
    "    except:\n",
    "        return None"
   ]
  },
  {
   "cell_type": "code",
   "execution_count": 115,
   "id": "ffa31ee3",
   "metadata": {},
   "outputs": [
    {
     "data": {
      "text/plain": [
       "2.54"
      ]
     },
     "execution_count": 115,
     "metadata": {},
     "output_type": "execute_result"
    }
   ],
   "source": [
    "get_weight(soup)"
   ]
  },
  {
   "cell_type": "code",
   "execution_count": 116,
   "id": "6212b548",
   "metadata": {},
   "outputs": [],
   "source": [
    "#Fix this, so not dependant on +\n",
    "def get_age(soup):\n",
    "    try:\n",
    "        gameplay_list = soup.find_all(class_=\"gameplay-item\")\n",
    "        return int(gameplay_list[2].find(text=re.compile(\"\\+\")).strip().replace(\"+\",\"\"))\n",
    "    except:\n",
    "        return None"
   ]
  },
  {
   "cell_type": "code",
   "execution_count": 117,
   "id": "20b228df",
   "metadata": {},
   "outputs": [],
   "source": [
    "x = get_age(soup)"
   ]
  },
  {
   "cell_type": "code",
   "execution_count": 118,
   "id": "2f2f6c54",
   "metadata": {},
   "outputs": [
    {
     "name": "stdout",
     "output_type": "stream",
     "text": [
      "12\n"
     ]
    }
   ],
   "source": [
    "print(x)"
   ]
  },
  {
   "cell_type": "markdown",
   "id": "9cae10bd",
   "metadata": {},
   "source": [
    "Note this is only the age \"on the box\". There is also a community recommended age, which I am not scraping at this time. (Something to look at later)"
   ]
  },
  {
   "cell_type": "markdown",
   "id": "9bc6d7db",
   "metadata": {},
   "source": [
    "Play time and player counts are trickier. The way the html is structured changes based on if the minimum and maximum values are the same. For example the player count may appear as \n",
    "\n",
    "2 Players\n",
    "\n",
    "OR\n",
    "\n",
    "2 - 6 Players\n",
    "\n",
    "So we have to deal with those cases here."
   ]
  },
  {
   "cell_type": "code",
   "execution_count": 28,
   "id": "10cf2656",
   "metadata": {},
   "outputs": [
    {
     "data": {
      "text/plain": [
       "[<span class=\"ng-binding ng-scope\" ng-if=\"min &gt; 0\">60</span>]"
      ]
     },
     "execution_count": 28,
     "metadata": {},
     "output_type": "execute_result"
    }
   ],
   "source": [
    "gameplay_list[1].find_all(class_=re.compile(\"ng-binding ng-scope\"))"
   ]
  },
  {
   "cell_type": "code",
   "execution_count": null,
   "id": "26ef858c",
   "metadata": {},
   "outputs": [],
   "source": []
  },
  {
   "cell_type": "code",
   "execution_count": 267,
   "id": "7e1cac87",
   "metadata": {},
   "outputs": [],
   "source": [
    "def get_minmax_time(soup):\n",
    "    try:\n",
    "        gameplay_list = soup.find_all(class_=\"gameplay-item\")\n",
    "        time_values = gameplay_list[1].find_all(class_=re.compile(\"ng-binding ng-scope\"))\n",
    "        if len(time_values) == 3:\n",
    "            return int(time_values[0].text), int(time_values[1].text.replace(\"–\",\"\"))\n",
    "        else:\n",
    "            #If only one value, same min and max time\n",
    "            value = int(time_values[0].text)\n",
    "            return value,value\n",
    "    except:\n",
    "        return None, None"
   ]
  },
  {
   "cell_type": "code",
   "execution_count": 30,
   "id": "79e7c213",
   "metadata": {},
   "outputs": [
    {
     "data": {
      "text/plain": [
       "(60, 60)"
      ]
     },
     "execution_count": 30,
     "metadata": {},
     "output_type": "execute_result"
    }
   ],
   "source": [
    "get_minmax_time(soup)"
   ]
  },
  {
   "cell_type": "code",
   "execution_count": 31,
   "id": "99d6f0e7",
   "metadata": {},
   "outputs": [
    {
     "data": {
      "text/plain": [
       "[<span class=\"ng-binding ng-scope\" ng-if=\"min &gt; 0\">2</span>,\n",
       " <span class=\"ng-binding ng-scope\" ng-if=\"max&gt;0 &amp;&amp; min != max\"><!-- ngIf: min>0 --><span class=\"ng-binding ng-scope\" ng-if=\"min&gt;0\">–</span><!-- end ngIf: min>0 -->3</span>,\n",
       " <span class=\"ng-binding ng-scope\" ng-if=\"min&gt;0\">–</span>]"
      ]
     },
     "execution_count": 31,
     "metadata": {},
     "output_type": "execute_result"
    }
   ],
   "source": [
    "gameplay_list[0].find_all(class_=re.compile(\"ng-binding ng-scope\"))"
   ]
  },
  {
   "cell_type": "code",
   "execution_count": 268,
   "id": "82355ca2",
   "metadata": {},
   "outputs": [],
   "source": [
    "def get_minmax_players(soup):\n",
    "    try:\n",
    "        gameplay_list = soup.find_all(class_=\"gameplay-item\")\n",
    "        players_values = gameplay_list[0].find_all(class_=re.compile(\"ng-binding ng-scope\"))\n",
    "        if len(players_values) == 3:\n",
    "            return int(players_values[0].text), int(players_values[1].text.replace(\"–\",\"\"))\n",
    "        else:\n",
    "            #If only one player count, min and max are the same\n",
    "            value = int(players_values[0].text)\n",
    "            return value, value\n",
    "    except:\n",
    "        return None, None\n",
    "    \n"
   ]
  },
  {
   "cell_type": "code",
   "execution_count": null,
   "id": "3eb02386",
   "metadata": {},
   "outputs": [],
   "source": []
  },
  {
   "cell_type": "code",
   "execution_count": 33,
   "id": "2bb2940c",
   "metadata": {},
   "outputs": [
    {
     "data": {
      "text/plain": [
       "(2, 3)"
      ]
     },
     "execution_count": 33,
     "metadata": {},
     "output_type": "execute_result"
    }
   ],
   "source": [
    "get_minmax_players(soup)"
   ]
  },
  {
   "cell_type": "markdown",
   "id": "548fa9e5",
   "metadata": {},
   "source": [
    "There is also community recommended number of players (a min, max and best count). This is again something to look at later."
   ]
  },
  {
   "cell_type": "markdown",
   "id": "29beeb55",
   "metadata": {},
   "source": [
    "## Credits Page\n",
    "\n",
    "Like we did for the stats page, we'll now try to collect the data for one credits page. Features we are looking to scrape are:\n",
    "\n",
    "* Designer(s)\n",
    "* Publisher(s)\n",
    "* Categories\n",
    "* Mechanisms\n",
    "\n",
    "The should all be fairly similar, but note that each of these may have more than one entry. A slight challenge to account for."
   ]
  },
  {
   "cell_type": "code",
   "execution_count": 92,
   "id": "e077e826",
   "metadata": {},
   "outputs": [],
   "source": [
    "\n",
    "driver.get(\"https://boardgamegeek.com/boardgame/122691/magnum-opus/credits\")\n",
    "\n",
    "soup = bs(driver.page_source,'html5lib')"
   ]
  },
  {
   "cell_type": "code",
   "execution_count": 93,
   "id": "5fbe396d",
   "metadata": {},
   "outputs": [],
   "source": [
    "def get_publishers(soup):\n",
    "    try:\n",
    "        pubs = soup.find(attrs={\"name\":\"boardgamepublisher\"}).find_next(\"div\").find_all(\"a\")\n",
    "        pubs = [x.text.strip() for x in pubs]\n",
    "        return pubs\n",
    "    except:\n",
    "        return None\n"
   ]
  },
  {
   "cell_type": "code",
   "execution_count": 94,
   "id": "b43b351a",
   "metadata": {},
   "outputs": [
    {
     "data": {
      "text/plain": [
       "['Clever Mojo Games', 'Game Salute']"
      ]
     },
     "execution_count": 94,
     "metadata": {},
     "output_type": "execute_result"
    }
   ],
   "source": [
    "get_publishers(soup)"
   ]
  },
  {
   "cell_type": "code",
   "execution_count": 95,
   "id": "18669a8c",
   "metadata": {},
   "outputs": [],
   "source": [
    "def get_designers(soup):\n",
    "    try:\n",
    "        designers = soup.find(attrs={\"name\":\"boardgamedesigner\"}).find_next(\"div\").find_all(\"a\")\n",
    "        designers = [x.text.strip() for x in designers]\n",
    "        return designers\n",
    "    except:\n",
    "        return None"
   ]
  },
  {
   "cell_type": "code",
   "execution_count": 96,
   "id": "c2f82f28",
   "metadata": {},
   "outputs": [
    {
     "data": {
      "text/plain": [
       "['Ian Stedman']"
      ]
     },
     "execution_count": 96,
     "metadata": {},
     "output_type": "execute_result"
    }
   ],
   "source": [
    "get_designers(soup)"
   ]
  },
  {
   "cell_type": "code",
   "execution_count": 97,
   "id": "0e4f1994",
   "metadata": {},
   "outputs": [],
   "source": [
    "def get_categories(soup):\n",
    "    try:\n",
    "        cats = soup.find(attrs={\"name\":\"boardgamecategory\"}).find_next(\"div\").find_all(\"a\")\n",
    "        cats = [x.text.strip() for x in cats]\n",
    "        return cats\n",
    "    except:\n",
    "        return None"
   ]
  },
  {
   "cell_type": "code",
   "execution_count": 98,
   "id": "cf25267f",
   "metadata": {},
   "outputs": [
    {
     "data": {
      "text/plain": [
       "['Card Game', 'Fantasy', 'Medieval', 'Mythology']"
      ]
     },
     "execution_count": 98,
     "metadata": {},
     "output_type": "execute_result"
    }
   ],
   "source": [
    "get_categories(soup)"
   ]
  },
  {
   "cell_type": "code",
   "execution_count": 242,
   "id": "dfb2a686",
   "metadata": {},
   "outputs": [],
   "source": [
    "def get_mechanics(soup):\n",
    "    try:\n",
    "        mechs = soup.find(attrs={\"name\":\"boardgamemechanic\"}).find_next(\"div\").find_all(\"a\")\n",
    "        mechs = [x.text.strip() for x in mechs]\n",
    "        return mechs\n",
    "    except:\n",
    "        return None"
   ]
  },
  {
   "cell_type": "code",
   "execution_count": 244,
   "id": "15cbc187",
   "metadata": {},
   "outputs": [],
   "source": [
    "get_mechanics(soup)"
   ]
  },
  {
   "cell_type": "markdown",
   "id": "6162bbf3",
   "metadata": {},
   "source": [
    "## URL Collections\n",
    "\n",
    "Now let's collect the name, url, and year for all the games.\n",
    "\n",
    "We'll start by creating an empty dataframe to fill in with the information as we get it."
   ]
  },
  {
   "cell_type": "code",
   "execution_count": 177,
   "id": "731f1f2c",
   "metadata": {},
   "outputs": [
    {
     "data": {
      "text/html": [
       "<div>\n",
       "<style scoped>\n",
       "    .dataframe tbody tr th:only-of-type {\n",
       "        vertical-align: middle;\n",
       "    }\n",
       "\n",
       "    .dataframe tbody tr th {\n",
       "        vertical-align: top;\n",
       "    }\n",
       "\n",
       "    .dataframe thead th {\n",
       "        text-align: right;\n",
       "    }\n",
       "</style>\n",
       "<table border=\"1\" class=\"dataframe\">\n",
       "  <thead>\n",
       "    <tr style=\"text-align: right;\">\n",
       "      <th></th>\n",
       "      <th>name</th>\n",
       "      <th>url</th>\n",
       "      <th>year</th>\n",
       "      <th>num_owned</th>\n",
       "      <th>rating</th>\n",
       "      <th>weight</th>\n",
       "      <th>player_age</th>\n",
       "      <th>min_players</th>\n",
       "      <th>max_players</th>\n",
       "      <th>min_time</th>\n",
       "      <th>max_time</th>\n",
       "      <th>designers</th>\n",
       "      <th>publishers</th>\n",
       "      <th>categories</th>\n",
       "      <th>mechanics</th>\n",
       "    </tr>\n",
       "  </thead>\n",
       "  <tbody>\n",
       "  </tbody>\n",
       "</table>\n",
       "</div>"
      ],
      "text/plain": [
       "Empty DataFrame\n",
       "Columns: [name, url, year, num_owned, rating, weight, player_age, min_players, max_players, min_time, max_time, designers, publishers, categories, mechanics]\n",
       "Index: []"
      ]
     },
     "execution_count": 177,
     "metadata": {},
     "output_type": "execute_result"
    }
   ],
   "source": [
    "column_names = [\"name\",\"url\",\"year\", \"num_owned\", \"rating\", \"weight\", \"player_age\", \"min_players\",\"max_players\",\n",
    "               \"min_time\",\"max_time\",\"designers\",\"publishers\",\"categories\",\"mechanics\"]\n",
    "\n",
    "df = pd.DataFrame(columns = column_names)\n",
    "\n",
    "df"
   ]
  },
  {
   "cell_type": "code",
   "execution_count": 178,
   "id": "537b9d90",
   "metadata": {},
   "outputs": [
    {
     "name": "stdout",
     "output_type": "stream",
     "text": [
      "0.9389671361502347 % pages read, 2 in total\n",
      "5.633802816901409 % pages read, 12 in total\n",
      "10.328638497652582 % pages read, 22 in total\n",
      "15.023474178403756 % pages read, 32 in total\n",
      "19.718309859154928 % pages read, 42 in total\n",
      "24.413145539906104 % pages read, 52 in total\n",
      "29.107981220657276 % pages read, 62 in total\n",
      "33.80281690140845 % pages read, 72 in total\n",
      "38.497652582159624 % pages read, 82 in total\n",
      "43.1924882629108 % pages read, 92 in total\n",
      "47.88732394366197 % pages read, 102 in total\n",
      "52.58215962441315 % pages read, 112 in total\n",
      "57.27699530516433 % pages read, 122 in total\n",
      "61.97183098591549 % pages read, 132 in total\n",
      "66.66666666666666 % pages read, 142 in total\n",
      "71.36150234741784 % pages read, 152 in total\n",
      "76.05633802816901 % pages read, 162 in total\n",
      "80.75117370892019 % pages read, 172 in total\n",
      "85.44600938967136 % pages read, 182 in total\n",
      "90.14084507042254 % pages read, 192 in total\n",
      "94.83568075117371 % pages read, 202 in total\n",
      "99.53051643192488 % pages read, 212 in total\n"
     ]
    }
   ],
   "source": [
    "import time\n",
    "\n",
    "base_url = \"https://boardgamegeek.com/browse/boardgame/page/\"\n",
    "start = 1\n",
    "stop = 214\n",
    "\n",
    "for i in range(start, stop+1):\n",
    "    if  (i - start) % 10 == 2:\n",
    "        print((i-start)/(stop-start)*100, \"% pages read,\", (i-start), \"in total\")\n",
    "        df.to_csv(\"games.csv\", index=False)\n",
    "    url = base_url + str(i)\n",
    "    driver.get(url)\n",
    "    soup = bs(driver.page_source,'html5lib')\n",
    "    rows = []\n",
    "    for x in soup.find_all(\"div\", attrs={\"id\":re.compile(\"results_objectname\")}):\n",
    "        try:\n",
    "            game_url = x.find(\"a\")[\"href\"]\n",
    "        except:\n",
    "            game_url = None\n",
    "        try:\n",
    "            game_name = x.find(\"a\").text\n",
    "        except:\n",
    "            game_name = None\n",
    "        try:\n",
    "            game_year = int(x.find(class_=\"smallerfont dull\").text.replace(\"(\",\"\").replace(\")\",\"\"))\n",
    "        except:\n",
    "            game_year = None\n",
    "        rows.append([game_name,game_url, game_year])\n",
    "    df_temp = pd.DataFrame(rows, columns = [\"name\",\"url\",\"year\"])\n",
    "    df = pd.concat([df,df_temp])\n",
    "    time.sleep(5)\n",
    "\n",
    "df.to_csv(\"games.csv\", index=False)"
   ]
  },
  {
   "cell_type": "code",
   "execution_count": 183,
   "id": "17abd2c5",
   "metadata": {},
   "outputs": [
    {
     "data": {
      "text/html": [
       "<div>\n",
       "<style scoped>\n",
       "    .dataframe tbody tr th:only-of-type {\n",
       "        vertical-align: middle;\n",
       "    }\n",
       "\n",
       "    .dataframe tbody tr th {\n",
       "        vertical-align: top;\n",
       "    }\n",
       "\n",
       "    .dataframe thead th {\n",
       "        text-align: right;\n",
       "    }\n",
       "</style>\n",
       "<table border=\"1\" class=\"dataframe\">\n",
       "  <thead>\n",
       "    <tr style=\"text-align: right;\">\n",
       "      <th></th>\n",
       "      <th>name</th>\n",
       "      <th>url</th>\n",
       "      <th>year</th>\n",
       "      <th>num_owned</th>\n",
       "      <th>rating</th>\n",
       "      <th>weight</th>\n",
       "      <th>player_age</th>\n",
       "      <th>min_players</th>\n",
       "      <th>max_players</th>\n",
       "      <th>min_time</th>\n",
       "      <th>max_time</th>\n",
       "      <th>designers</th>\n",
       "      <th>publishers</th>\n",
       "      <th>categories</th>\n",
       "      <th>mechanics</th>\n",
       "    </tr>\n",
       "  </thead>\n",
       "  <tbody>\n",
       "    <tr>\n",
       "      <th>0</th>\n",
       "      <td>Gloomhaven</td>\n",
       "      <td>/boardgame/174430/gloomhaven</td>\n",
       "      <td>2017</td>\n",
       "      <td>None</td>\n",
       "      <td>None</td>\n",
       "      <td>None</td>\n",
       "      <td>None</td>\n",
       "      <td>None</td>\n",
       "      <td>None</td>\n",
       "      <td>None</td>\n",
       "      <td>None</td>\n",
       "      <td>None</td>\n",
       "      <td>None</td>\n",
       "      <td>None</td>\n",
       "      <td>None</td>\n",
       "    </tr>\n",
       "    <tr>\n",
       "      <th>1</th>\n",
       "      <td>Pandemic Legacy: Season 1</td>\n",
       "      <td>/boardgame/161936/pandemic-legacy-season-1</td>\n",
       "      <td>2015</td>\n",
       "      <td>None</td>\n",
       "      <td>None</td>\n",
       "      <td>None</td>\n",
       "      <td>None</td>\n",
       "      <td>None</td>\n",
       "      <td>None</td>\n",
       "      <td>None</td>\n",
       "      <td>None</td>\n",
       "      <td>None</td>\n",
       "      <td>None</td>\n",
       "      <td>None</td>\n",
       "      <td>None</td>\n",
       "    </tr>\n",
       "    <tr>\n",
       "      <th>2</th>\n",
       "      <td>Brass: Birmingham</td>\n",
       "      <td>/boardgame/224517/brass-birmingham</td>\n",
       "      <td>2018</td>\n",
       "      <td>None</td>\n",
       "      <td>None</td>\n",
       "      <td>None</td>\n",
       "      <td>None</td>\n",
       "      <td>None</td>\n",
       "      <td>None</td>\n",
       "      <td>None</td>\n",
       "      <td>None</td>\n",
       "      <td>None</td>\n",
       "      <td>None</td>\n",
       "      <td>None</td>\n",
       "      <td>None</td>\n",
       "    </tr>\n",
       "    <tr>\n",
       "      <th>3</th>\n",
       "      <td>Terraforming Mars</td>\n",
       "      <td>/boardgame/167791/terraforming-mars</td>\n",
       "      <td>2016</td>\n",
       "      <td>None</td>\n",
       "      <td>None</td>\n",
       "      <td>None</td>\n",
       "      <td>None</td>\n",
       "      <td>None</td>\n",
       "      <td>None</td>\n",
       "      <td>None</td>\n",
       "      <td>None</td>\n",
       "      <td>None</td>\n",
       "      <td>None</td>\n",
       "      <td>None</td>\n",
       "      <td>None</td>\n",
       "    </tr>\n",
       "    <tr>\n",
       "      <th>4</th>\n",
       "      <td>Gloomhaven: Jaws of the Lion</td>\n",
       "      <td>/boardgame/291457/gloomhaven-jaws-lion</td>\n",
       "      <td>2020</td>\n",
       "      <td>None</td>\n",
       "      <td>None</td>\n",
       "      <td>None</td>\n",
       "      <td>None</td>\n",
       "      <td>None</td>\n",
       "      <td>None</td>\n",
       "      <td>None</td>\n",
       "      <td>None</td>\n",
       "      <td>None</td>\n",
       "      <td>None</td>\n",
       "      <td>None</td>\n",
       "      <td>None</td>\n",
       "    </tr>\n",
       "    <tr>\n",
       "      <th>...</th>\n",
       "      <td>...</td>\n",
       "      <td>...</td>\n",
       "      <td>...</td>\n",
       "      <td>...</td>\n",
       "      <td>...</td>\n",
       "      <td>...</td>\n",
       "      <td>...</td>\n",
       "      <td>...</td>\n",
       "      <td>...</td>\n",
       "      <td>...</td>\n",
       "      <td>...</td>\n",
       "      <td>...</td>\n",
       "      <td>...</td>\n",
       "      <td>...</td>\n",
       "      <td>...</td>\n",
       "    </tr>\n",
       "    <tr>\n",
       "      <th>95</th>\n",
       "      <td>Labyrinth</td>\n",
       "      <td>/boardgame/6546/labyrinth</td>\n",
       "      <td>1940.0</td>\n",
       "      <td>None</td>\n",
       "      <td>None</td>\n",
       "      <td>None</td>\n",
       "      <td>None</td>\n",
       "      <td>None</td>\n",
       "      <td>None</td>\n",
       "      <td>None</td>\n",
       "      <td>None</td>\n",
       "      <td>None</td>\n",
       "      <td>None</td>\n",
       "      <td>None</td>\n",
       "      <td>None</td>\n",
       "    </tr>\n",
       "    <tr>\n",
       "      <th>96</th>\n",
       "      <td>Dirty Minds: The Game of Naughty Clues</td>\n",
       "      <td>/boardgame/2956/dirty-minds-game-naughty-clues</td>\n",
       "      <td>1990.0</td>\n",
       "      <td>None</td>\n",
       "      <td>None</td>\n",
       "      <td>None</td>\n",
       "      <td>None</td>\n",
       "      <td>None</td>\n",
       "      <td>None</td>\n",
       "      <td>None</td>\n",
       "      <td>None</td>\n",
       "      <td>None</td>\n",
       "      <td>None</td>\n",
       "      <td>None</td>\n",
       "      <td>None</td>\n",
       "    </tr>\n",
       "    <tr>\n",
       "      <th>97</th>\n",
       "      <td>MindTrap</td>\n",
       "      <td>/boardgame/1923/mindtrap</td>\n",
       "      <td>1991.0</td>\n",
       "      <td>None</td>\n",
       "      <td>None</td>\n",
       "      <td>None</td>\n",
       "      <td>None</td>\n",
       "      <td>None</td>\n",
       "      <td>None</td>\n",
       "      <td>None</td>\n",
       "      <td>None</td>\n",
       "      <td>None</td>\n",
       "      <td>None</td>\n",
       "      <td>None</td>\n",
       "      <td>None</td>\n",
       "    </tr>\n",
       "    <tr>\n",
       "      <th>98</th>\n",
       "      <td>Phase 10</td>\n",
       "      <td>/boardgame/1258/phase-10</td>\n",
       "      <td>1982.0</td>\n",
       "      <td>None</td>\n",
       "      <td>None</td>\n",
       "      <td>None</td>\n",
       "      <td>None</td>\n",
       "      <td>None</td>\n",
       "      <td>None</td>\n",
       "      <td>None</td>\n",
       "      <td>None</td>\n",
       "      <td>None</td>\n",
       "      <td>None</td>\n",
       "      <td>None</td>\n",
       "      <td>None</td>\n",
       "    </tr>\n",
       "    <tr>\n",
       "      <th>99</th>\n",
       "      <td>The Ungame</td>\n",
       "      <td>/boardgame/6283/ungame</td>\n",
       "      <td>1973.0</td>\n",
       "      <td>None</td>\n",
       "      <td>None</td>\n",
       "      <td>None</td>\n",
       "      <td>None</td>\n",
       "      <td>None</td>\n",
       "      <td>None</td>\n",
       "      <td>None</td>\n",
       "      <td>None</td>\n",
       "      <td>None</td>\n",
       "      <td>None</td>\n",
       "      <td>None</td>\n",
       "      <td>None</td>\n",
       "    </tr>\n",
       "  </tbody>\n",
       "</table>\n",
       "<p>21400 rows × 15 columns</p>\n",
       "</div>"
      ],
      "text/plain": [
       "                                      name  \\\n",
       "0                               Gloomhaven   \n",
       "1                Pandemic Legacy: Season 1   \n",
       "2                        Brass: Birmingham   \n",
       "3                        Terraforming Mars   \n",
       "4             Gloomhaven: Jaws of the Lion   \n",
       "..                                     ...   \n",
       "95                               Labyrinth   \n",
       "96  Dirty Minds: The Game of Naughty Clues   \n",
       "97                                MindTrap   \n",
       "98                                Phase 10   \n",
       "99                              The Ungame   \n",
       "\n",
       "                                               url    year num_owned rating  \\\n",
       "0                     /boardgame/174430/gloomhaven    2017      None   None   \n",
       "1       /boardgame/161936/pandemic-legacy-season-1    2015      None   None   \n",
       "2               /boardgame/224517/brass-birmingham    2018      None   None   \n",
       "3              /boardgame/167791/terraforming-mars    2016      None   None   \n",
       "4           /boardgame/291457/gloomhaven-jaws-lion    2020      None   None   \n",
       "..                                             ...     ...       ...    ...   \n",
       "95                       /boardgame/6546/labyrinth  1940.0      None   None   \n",
       "96  /boardgame/2956/dirty-minds-game-naughty-clues  1990.0      None   None   \n",
       "97                        /boardgame/1923/mindtrap  1991.0      None   None   \n",
       "98                        /boardgame/1258/phase-10  1982.0      None   None   \n",
       "99                          /boardgame/6283/ungame  1973.0      None   None   \n",
       "\n",
       "   weight player_age min_players max_players min_time max_time designers  \\\n",
       "0    None       None        None        None     None     None      None   \n",
       "1    None       None        None        None     None     None      None   \n",
       "2    None       None        None        None     None     None      None   \n",
       "3    None       None        None        None     None     None      None   \n",
       "4    None       None        None        None     None     None      None   \n",
       "..    ...        ...         ...         ...      ...      ...       ...   \n",
       "95   None       None        None        None     None     None      None   \n",
       "96   None       None        None        None     None     None      None   \n",
       "97   None       None        None        None     None     None      None   \n",
       "98   None       None        None        None     None     None      None   \n",
       "99   None       None        None        None     None     None      None   \n",
       "\n",
       "   publishers categories mechanics  \n",
       "0        None       None      None  \n",
       "1        None       None      None  \n",
       "2        None       None      None  \n",
       "3        None       None      None  \n",
       "4        None       None      None  \n",
       "..        ...        ...       ...  \n",
       "95       None       None      None  \n",
       "96       None       None      None  \n",
       "97       None       None      None  \n",
       "98       None       None      None  \n",
       "99       None       None      None  \n",
       "\n",
       "[21400 rows x 15 columns]"
      ]
     },
     "execution_count": 183,
     "metadata": {},
     "output_type": "execute_result"
    }
   ],
   "source": []
  },
  {
   "cell_type": "code",
   "execution_count": 246,
   "id": "f770afc7",
   "metadata": {},
   "outputs": [
    {
     "data": {
      "text/html": [
       "<div>\n",
       "<style scoped>\n",
       "    .dataframe tbody tr th:only-of-type {\n",
       "        vertical-align: middle;\n",
       "    }\n",
       "\n",
       "    .dataframe tbody tr th {\n",
       "        vertical-align: top;\n",
       "    }\n",
       "\n",
       "    .dataframe thead th {\n",
       "        text-align: right;\n",
       "    }\n",
       "</style>\n",
       "<table border=\"1\" class=\"dataframe\">\n",
       "  <thead>\n",
       "    <tr style=\"text-align: right;\">\n",
       "      <th></th>\n",
       "      <th>name</th>\n",
       "      <th>url</th>\n",
       "      <th>year</th>\n",
       "      <th>num_owned</th>\n",
       "      <th>rating</th>\n",
       "      <th>weight</th>\n",
       "      <th>player_age</th>\n",
       "      <th>min_players</th>\n",
       "      <th>max_players</th>\n",
       "      <th>min_time</th>\n",
       "      <th>max_time</th>\n",
       "      <th>designers</th>\n",
       "      <th>publishers</th>\n",
       "      <th>categories</th>\n",
       "      <th>mechanics</th>\n",
       "    </tr>\n",
       "  </thead>\n",
       "  <tbody>\n",
       "    <tr>\n",
       "      <th>0</th>\n",
       "      <td>The Piggyback Brigade</td>\n",
       "      <td>/boardgame/1806/piggyback-brigade</td>\n",
       "      <td>2000</td>\n",
       "      <td>None</td>\n",
       "      <td>None</td>\n",
       "      <td>None</td>\n",
       "      <td>None</td>\n",
       "      <td>None</td>\n",
       "      <td>None</td>\n",
       "      <td>None</td>\n",
       "      <td>None</td>\n",
       "      <td>None</td>\n",
       "      <td>None</td>\n",
       "      <td>None</td>\n",
       "      <td>None</td>\n",
       "    </tr>\n",
       "    <tr>\n",
       "      <th>1</th>\n",
       "      <td>Skräll</td>\n",
       "      <td>/boardgame/31421/skrall</td>\n",
       "      <td>2007.0</td>\n",
       "      <td>None</td>\n",
       "      <td>None</td>\n",
       "      <td>None</td>\n",
       "      <td>None</td>\n",
       "      <td>None</td>\n",
       "      <td>None</td>\n",
       "      <td>None</td>\n",
       "      <td>None</td>\n",
       "      <td>None</td>\n",
       "      <td>None</td>\n",
       "      <td>None</td>\n",
       "      <td>None</td>\n",
       "    </tr>\n",
       "    <tr>\n",
       "      <th>2</th>\n",
       "      <td>Descent on Crete: May 1941</td>\n",
       "      <td>/boardgame/5860/descent-crete-may-1941</td>\n",
       "      <td>1978.0</td>\n",
       "      <td>None</td>\n",
       "      <td>None</td>\n",
       "      <td>None</td>\n",
       "      <td>None</td>\n",
       "      <td>None</td>\n",
       "      <td>None</td>\n",
       "      <td>None</td>\n",
       "      <td>None</td>\n",
       "      <td>None</td>\n",
       "      <td>None</td>\n",
       "      <td>None</td>\n",
       "      <td>None</td>\n",
       "    </tr>\n",
       "    <tr>\n",
       "      <th>3</th>\n",
       "      <td>Castro</td>\n",
       "      <td>/boardgame/149863/castro</td>\n",
       "      <td>2013</td>\n",
       "      <td>None</td>\n",
       "      <td>None</td>\n",
       "      <td>None</td>\n",
       "      <td>None</td>\n",
       "      <td>None</td>\n",
       "      <td>None</td>\n",
       "      <td>None</td>\n",
       "      <td>None</td>\n",
       "      <td>None</td>\n",
       "      <td>None</td>\n",
       "      <td>None</td>\n",
       "      <td>None</td>\n",
       "    </tr>\n",
       "    <tr>\n",
       "      <th>4</th>\n",
       "      <td>1655: Habemus Papam</td>\n",
       "      <td>/boardgame/82955/1655-habemus-papam</td>\n",
       "      <td>2010</td>\n",
       "      <td>None</td>\n",
       "      <td>None</td>\n",
       "      <td>None</td>\n",
       "      <td>None</td>\n",
       "      <td>None</td>\n",
       "      <td>None</td>\n",
       "      <td>None</td>\n",
       "      <td>None</td>\n",
       "      <td>None</td>\n",
       "      <td>None</td>\n",
       "      <td>None</td>\n",
       "      <td>None</td>\n",
       "    </tr>\n",
       "  </tbody>\n",
       "</table>\n",
       "</div>"
      ],
      "text/plain": [
       "                         name                                     url    year  \\\n",
       "0       The Piggyback Brigade       /boardgame/1806/piggyback-brigade    2000   \n",
       "1                      Skräll                 /boardgame/31421/skrall  2007.0   \n",
       "2  Descent on Crete: May 1941  /boardgame/5860/descent-crete-may-1941  1978.0   \n",
       "3                      Castro                /boardgame/149863/castro    2013   \n",
       "4         1655: Habemus Papam     /boardgame/82955/1655-habemus-papam    2010   \n",
       "\n",
       "  num_owned rating weight player_age min_players max_players min_time  \\\n",
       "0      None   None   None       None        None        None     None   \n",
       "1      None   None   None       None        None        None     None   \n",
       "2      None   None   None       None        None        None     None   \n",
       "3      None   None   None       None        None        None     None   \n",
       "4      None   None   None       None        None        None     None   \n",
       "\n",
       "  max_time designers publishers categories mechanics  \n",
       "0     None      None       None       None      None  \n",
       "1     None      None       None       None      None  \n",
       "2     None      None       None       None      None  \n",
       "3     None      None       None       None      None  \n",
       "4     None      None       None       None      None  "
      ]
     },
     "execution_count": 246,
     "metadata": {},
     "output_type": "execute_result"
    }
   ],
   "source": [
    "df2 = df.sample(frac=1)\n",
    "df2.reset_index(inplace=True,drop=True)\n",
    "df2.head()"
   ]
  },
  {
   "cell_type": "markdown",
   "id": "828dc6f7",
   "metadata": {},
   "source": [
    "df.dtypes"
   ]
  },
  {
   "cell_type": "code",
   "execution_count": null,
   "id": "b971d5e4",
   "metadata": {},
   "outputs": [],
   "source": []
  },
  {
   "cell_type": "markdown",
   "id": "98353c95",
   "metadata": {},
   "source": [
    "Now let's scrape all the pages"
   ]
  },
  {
   "cell_type": "code",
   "execution_count": 536,
   "id": "b734a4e5",
   "metadata": {},
   "outputs": [
    {
     "name": "stderr",
     "output_type": "stream",
     "text": [
      "<ipython-input-536-456363c97cd4>:4: DeprecationWarning: executable_path has been deprecated, please pass in a Service object\n",
      "  driver = webdriver.Chrome(chromedriver)\n"
     ]
    },
    {
     "name": "stdout",
     "output_type": "stream",
     "text": [
      "15880 games scraped 74.20560747663552 %\n",
      "15900 games scraped 74.29906542056075 %\n",
      "15920 games scraped 74.39252336448598 %\n",
      "15940 games scraped 74.48598130841123 %\n",
      "15960 games scraped 74.57943925233644 %\n",
      "15980 games scraped 74.67289719626167 %\n",
      "16000 games scraped 74.76635514018692 %\n",
      "16020 games scraped 74.85981308411215 %\n",
      "16040 games scraped 74.95327102803738 %\n",
      "16060 games scraped 75.04672897196262 %\n",
      "16080 games scraped 75.14018691588785 %\n",
      "16100 games scraped 75.23364485981308 %\n",
      "16120 games scraped 75.32710280373833 %\n",
      "16140 games scraped 75.42056074766356 %\n",
      "16160 games scraped 75.51401869158877 %\n",
      "16180 games scraped 75.60747663551402 %\n",
      "16200 games scraped 75.70093457943925 %\n",
      "16220 games scraped 75.79439252336448 %\n",
      "16240 games scraped 75.88785046728972 %\n",
      "16260 games scraped 75.98130841121495 %\n",
      "16280 games scraped 76.07476635514018 %\n",
      "16300 games scraped 76.16822429906543 %\n",
      "16320 games scraped 76.26168224299066 %\n",
      "16340 games scraped 76.35514018691589 %\n",
      "16360 games scraped 76.44859813084112 %\n",
      "16380 games scraped 76.54205607476635 %\n",
      "16400 games scraped 76.63551401869158 %\n",
      "16420 games scraped 76.72897196261682 %\n",
      "16440 games scraped 76.82242990654206 %\n",
      "16460 games scraped 76.91588785046729 %\n",
      "16480 games scraped 77.00934579439253 %\n",
      "16500 games scraped 77.10280373831776 %\n",
      "16520 games scraped 77.19626168224299 %\n",
      "16540 games scraped 77.28971962616824 %\n",
      "16560 games scraped 77.38317757009345 %\n",
      "16580 games scraped 77.47663551401868 %\n",
      "16600 games scraped 77.57009345794393 %\n",
      "16620 games scraped 77.66355140186916 %\n",
      "16640 games scraped 77.75700934579439 %\n",
      "16660 games scraped 77.85046728971963 %\n",
      "16680 games scraped 77.94392523364486 %\n",
      "16700 games scraped 78.03738317757009 %\n",
      "16720 games scraped 78.13084112149534 %\n",
      "16740 games scraped 78.22429906542057 %\n",
      "16760 games scraped 78.31775700934578 %\n",
      "16780 games scraped 78.41121495327103 %\n",
      "16800 games scraped 78.50467289719626 %\n",
      "16820 games scraped 78.59813084112149 %\n",
      "16840 games scraped 78.69158878504673 %\n",
      "16860 games scraped 78.78504672897196 %\n",
      "16880 games scraped 78.8785046728972 %\n",
      "16900 games scraped 78.97196261682244 %\n",
      "16920 games scraped 79.06542056074767 %\n",
      "16940 games scraped 79.1588785046729 %\n",
      "16960 games scraped 79.25233644859813 %\n",
      "16980 games scraped 79.34579439252336 %\n",
      "17000 games scraped 79.43925233644859 %\n",
      "17020 games scraped 79.53271028037383 %\n",
      "17040 games scraped 79.62616822429906 %\n",
      "17060 games scraped 79.7196261682243 %\n",
      "17080 games scraped 79.81308411214954 %\n",
      "17100 games scraped 79.90654205607477 %\n",
      "17120 games scraped 80.0 %\n",
      "17140 games scraped 80.09345794392523 %\n",
      "17160 games scraped 80.18691588785046 %\n",
      "17180 games scraped 80.28037383177569 %\n",
      "17200 games scraped 80.37383177570094 %\n",
      "17220 games scraped 80.46728971962617 %\n",
      "17240 games scraped 80.5607476635514 %\n",
      "17260 games scraped 80.65420560747664 %\n",
      "17280 games scraped 80.74766355140187 %\n",
      "17300 games scraped 80.8411214953271 %\n",
      "17320 games scraped 80.93457943925235 %\n",
      "17340 games scraped 81.02803738317756 %\n",
      "17360 games scraped 81.12149532710279 %\n",
      "17380 games scraped 81.21495327102804 %\n",
      "17400 games scraped 81.30841121495327 %\n",
      "17420 games scraped 81.4018691588785 %\n",
      "17440 games scraped 81.49532710280374 %\n",
      "17460 games scraped 81.58878504672897 %\n",
      "17480 games scraped 81.6822429906542 %\n",
      "17500 games scraped 81.77570093457945 %\n",
      "17520 games scraped 81.86915887850468 %\n",
      "17540 games scraped 81.96261682242991 %\n",
      "17560 games scraped 82.05607476635514 %\n",
      "17580 games scraped 82.14953271028037 %\n",
      "17600 games scraped 82.2429906542056 %\n",
      "17620 games scraped 82.33644859813084 %\n",
      "17640 games scraped 82.42990654205607 %\n",
      "17660 games scraped 82.5233644859813 %\n",
      "17680 games scraped 82.61682242990655 %\n",
      "17700 games scraped 82.71028037383178 %\n",
      "17720 games scraped 82.80373831775701 %\n",
      "17740 games scraped 82.89719626168224 %\n",
      "17760 games scraped 82.99065420560747 %\n",
      "17780 games scraped 83.0841121495327 %\n",
      "17800 games scraped 83.17757009345794 %\n",
      "17820 games scraped 83.27102803738318 %\n",
      "17840 games scraped 83.3644859813084 %\n",
      "17860 games scraped 83.45794392523365 %\n",
      "17880 games scraped 83.55140186915888 %\n",
      "17900 games scraped 83.64485981308411 %\n",
      "17920 games scraped 83.73831775700936 %\n",
      "17940 games scraped 83.83177570093457 %\n",
      "17960 games scraped 83.92523364485982 %\n",
      "17980 games scraped 84.01869158878505 %\n",
      "18000 games scraped 84.11214953271028 %\n",
      "18020 games scraped 84.2056074766355 %\n",
      "18040 games scraped 84.29906542056075 %\n",
      "18060 games scraped 84.39252336448598 %\n",
      "18080 games scraped 84.48598130841121 %\n",
      "18100 games scraped 84.57943925233646 %\n",
      "18120 games scraped 84.67289719626169 %\n",
      "18140 games scraped 84.76635514018692 %\n",
      "18160 games scraped 84.85981308411215 %\n",
      "18180 games scraped 84.95327102803738 %\n",
      "18200 games scraped 85.04672897196261 %\n",
      "18220 games scraped 85.14018691588785 %\n",
      "18240 games scraped 85.23364485981308 %\n",
      "18260 games scraped 85.32710280373831 %\n",
      "18280 games scraped 85.42056074766356 %\n",
      "18300 games scraped 85.51401869158879 %\n",
      "18320 games scraped 85.60747663551402 %\n",
      "18340 games scraped 85.70093457943925 %\n",
      "18360 games scraped 85.79439252336448 %\n",
      "18380 games scraped 85.88785046728972 %\n",
      "18400 games scraped 85.98130841121495 %\n",
      "18420 games scraped 86.07476635514018 %\n",
      "18440 games scraped 86.16822429906541 %\n",
      "18460 games scraped 86.26168224299066 %\n",
      "18480 games scraped 86.35514018691589 %\n",
      "18500 games scraped 86.44859813084112 %\n",
      "18520 games scraped 86.54205607476636 %\n",
      "18540 games scraped 86.63551401869158 %\n",
      "18560 games scraped 86.72897196261682 %\n",
      "18580 games scraped 86.82242990654206 %\n",
      "18600 games scraped 86.91588785046729 %\n",
      "18620 games scraped 87.00934579439252 %\n",
      "18640 games scraped 87.10280373831776 %\n",
      "18660 games scraped 87.19626168224299 %\n",
      "18680 games scraped 87.28971962616822 %\n",
      "18700 games scraped 87.38317757009347 %\n",
      "18720 games scraped 87.4766355140187 %\n",
      "18740 games scraped 87.57009345794393 %\n",
      "18760 games scraped 87.66355140186916 %\n",
      "18780 games scraped 87.75700934579439 %\n",
      "18800 games scraped 87.85046728971963 %\n",
      "18820 games scraped 87.94392523364486 %\n",
      "18840 games scraped 88.03738317757009 %\n",
      "18860 games scraped 88.13084112149532 %\n",
      "18880 games scraped 88.22429906542057 %\n",
      "18900 games scraped 88.3177570093458 %\n",
      "18920 games scraped 88.41121495327103 %\n",
      "18940 games scraped 88.50467289719626 %\n",
      "18960 games scraped 88.59813084112149 %\n",
      "18980 games scraped 88.69158878504673 %\n",
      "19000 games scraped 88.78504672897196 %\n",
      "19020 games scraped 88.8785046728972 %\n",
      "19040 games scraped 88.97196261682242 %\n",
      "19060 games scraped 89.06542056074767 %\n",
      "19080 games scraped 89.1588785046729 %\n",
      "19100 games scraped 89.25233644859813 %\n",
      "19120 games scraped 89.34579439252337 %\n",
      "19140 games scraped 89.43925233644859 %\n",
      "19160 games scraped 89.53271028037383 %\n",
      "19180 games scraped 89.62616822429906 %\n",
      "19200 games scraped 89.7196261682243 %\n",
      "19220 games scraped 89.81308411214954 %\n",
      "19240 games scraped 89.90654205607477 %\n",
      "19260 games scraped 90.0 %\n",
      "19280 games scraped 90.09345794392523 %\n",
      "19300 games scraped 90.18691588785047 %\n",
      "19320 games scraped 90.28037383177569 %\n",
      "19340 games scraped 90.37383177570094 %\n",
      "19360 games scraped 90.46728971962617 %\n",
      "19380 games scraped 90.5607476635514 %\n",
      "19400 games scraped 90.65420560747664 %\n",
      "19420 games scraped 90.74766355140187 %\n",
      "19440 games scraped 90.8411214953271 %\n",
      "19460 games scraped 90.93457943925233 %\n",
      "19480 games scraped 91.02803738317758 %\n",
      "19500 games scraped 91.1214953271028 %\n",
      "19520 games scraped 91.21495327102804 %\n",
      "19540 games scraped 91.30841121495327 %\n",
      "19560 games scraped 91.4018691588785 %\n",
      "19580 games scraped 91.49532710280374 %\n",
      "19600 games scraped 91.58878504672897 %\n",
      "19620 games scraped 91.6822429906542 %\n",
      "19640 games scraped 91.77570093457945 %\n",
      "19660 games scraped 91.86915887850468 %\n",
      "19680 games scraped 91.96261682242991 %\n",
      "19700 games scraped 92.05607476635514 %\n",
      "19720 games scraped 92.14953271028037 %\n",
      "19740 games scraped 92.2429906542056 %\n",
      "19760 games scraped 92.33644859813084 %\n",
      "19780 games scraped 92.42990654205607 %\n",
      "19800 games scraped 92.5233644859813 %\n",
      "19820 games scraped 92.61682242990655 %\n",
      "19840 games scraped 92.71028037383178 %\n",
      "19860 games scraped 92.80373831775701 %\n",
      "19880 games scraped 92.89719626168224 %\n",
      "19900 games scraped 92.99065420560748 %\n",
      "19920 games scraped 93.0841121495327 %\n",
      "19940 games scraped 93.17757009345794 %\n",
      "19960 games scraped 93.27102803738318 %\n",
      "19980 games scraped 93.3644859813084 %\n",
      "20000 games scraped 93.45794392523365 %\n"
     ]
    },
    {
     "name": "stdout",
     "output_type": "stream",
     "text": [
      "20020 games scraped 93.55140186915888 %\n",
      "20040 games scraped 93.64485981308411 %\n",
      "20060 games scraped 93.73831775700936 %\n",
      "20080 games scraped 93.83177570093459 %\n",
      "20100 games scraped 93.92523364485982 %\n",
      "20120 games scraped 94.01869158878505 %\n",
      "20140 games scraped 94.11214953271028 %\n",
      "20160 games scraped 94.2056074766355 %\n",
      "20180 games scraped 94.29906542056075 %\n",
      "20200 games scraped 94.39252336448598 %\n",
      "20220 games scraped 94.48598130841121 %\n",
      "20240 games scraped 94.57943925233646 %\n",
      "20260 games scraped 94.67289719626169 %\n",
      "20280 games scraped 94.76635514018692 %\n",
      "20300 games scraped 94.85981308411215 %\n",
      "20320 games scraped 94.95327102803738 %\n",
      "20340 games scraped 95.04672897196261 %\n",
      "20360 games scraped 95.14018691588785 %\n",
      "20380 games scraped 95.23364485981308 %\n",
      "20400 games scraped 95.32710280373831 %\n",
      "20420 games scraped 95.42056074766356 %\n",
      "20440 games scraped 95.51401869158879 %\n",
      "20460 games scraped 95.60747663551402 %\n",
      "20480 games scraped 95.70093457943926 %\n",
      "20500 games scraped 95.7943925233645 %\n",
      "20520 games scraped 95.88785046728971 %\n",
      "20540 games scraped 95.98130841121495 %\n",
      "20560 games scraped 96.07476635514018 %\n",
      "20580 games scraped 96.16822429906541 %\n",
      "20600 games scraped 96.26168224299066 %\n",
      "20620 games scraped 96.35514018691589 %\n",
      "20640 games scraped 96.44859813084112 %\n",
      "20660 games scraped 96.54205607476636 %\n",
      "20680 games scraped 96.6355140186916 %\n",
      "20700 games scraped 96.72897196261682 %\n",
      "20720 games scraped 96.82242990654206 %\n",
      "20740 games scraped 96.91588785046729 %\n",
      "20760 games scraped 97.00934579439252 %\n",
      "20780 games scraped 97.10280373831776 %\n",
      "20800 games scraped 97.19626168224299 %\n",
      "20820 games scraped 97.28971962616822 %\n",
      "20840 games scraped 97.38317757009347 %\n",
      "20860 games scraped 97.4766355140187 %\n",
      "20880 games scraped 97.57009345794393 %\n",
      "20900 games scraped 97.66355140186917 %\n",
      "20920 games scraped 97.75700934579439 %\n",
      "20940 games scraped 97.85046728971962 %\n",
      "20960 games scraped 97.94392523364486 %\n",
      "20980 games scraped 98.03738317757009 %\n",
      "21000 games scraped 98.13084112149532 %\n",
      "21020 games scraped 98.22429906542057 %\n",
      "21040 games scraped 98.3177570093458 %\n",
      "21060 games scraped 98.41121495327103 %\n",
      "21080 games scraped 98.50467289719627 %\n",
      "21100 games scraped 98.5981308411215 %\n",
      "21120 games scraped 98.69158878504672 %\n",
      "21140 games scraped 98.78504672897196 %\n",
      "21160 games scraped 98.8785046728972 %\n",
      "21180 games scraped 98.97196261682242 %\n",
      "21200 games scraped 99.06542056074767 %\n",
      "21220 games scraped 99.1588785046729 %\n",
      "21240 games scraped 99.25233644859813 %\n",
      "21260 games scraped 99.34579439252337 %\n",
      "21280 games scraped 99.4392523364486 %\n",
      "21300 games scraped 99.53271028037383 %\n",
      "21320 games scraped 99.62616822429906 %\n",
      "21340 games scraped 99.7196261682243 %\n",
      "21360 games scraped 99.81308411214953 %\n",
      "21380 games scraped 99.90654205607477 %\n"
     ]
    }
   ],
   "source": [
    "chromedriver = \"/Applications/chromedriver\" # path to the chromedriver executable\n",
    "os.environ[\"webdriver.chrome.driver\"] = chromedriver\n",
    "\n",
    "driver = webdriver.Chrome(chromedriver)\n",
    "\n",
    "for ind in df2.index:\n",
    "    #Check if we've seen this row already\n",
    "    if df2.iloc[ind].notna().sum() > 3:\n",
    "        continue\n",
    "        \n",
    "    \n",
    "    if ind % 20 == 0:\n",
    "        print(ind, \"games scraped\", ind/df2.shape[0]*100, \"%\")\n",
    "        df2.to_csv(\"games2.csv\", index=False)\n",
    "        pickle.dump(df2, open(\"df2.p\",\"wb\"))\n",
    "        \n",
    "        \n",
    "    url = \"https://boardgamegeek.com/\" + df2.iloc[ind].url\n",
    "    \n",
    "    driver.get(url + \"/stats\")\n",
    "    stats_soup = bs(driver.page_source,'html5lib')\n",
    "    \n",
    "    df2.iloc[ind].num_owned = get_num_owned(stats_soup)\n",
    "    df2.iloc[ind].rating = get_rating(stats_soup)\n",
    "    df2.iloc[ind].weight = get_weight(stats_soup)\n",
    "    df2.iloc[ind].player_age = get_age(stats_soup)\n",
    "    df2.iloc[ind].min_time,df2.iloc[ind].max_time= get_minmax_time(stats_soup)\n",
    "    df2.iloc[ind].min_players,df2.iloc[ind].max_players= get_minmax_players(stats_soup)\n",
    "    \n",
    "    time.sleep(5)\n",
    "    \n",
    "    driver.get(url + \"/credits\")\n",
    "    credits_soup = bs(driver.page_source,'html5lib')\n",
    "    \n",
    "    df2.iloc[ind].designers = get_designers(credits_soup)\n",
    "    df2.iloc[ind].publishers = get_publishers(credits_soup)\n",
    "    df2.iloc[ind].categories = get_categories(credits_soup)\n",
    "    df2.iloc[ind].mechanics = get_mechanics(credits_soup)\n",
    "    \n",
    "    \n",
    "    \n",
    "    time.sleep(5)\n",
    "    \n",
    "    \n",
    "    "
   ]
  },
  {
   "cell_type": "code",
   "execution_count": 68,
   "id": "35e8e05a",
   "metadata": {},
   "outputs": [
    {
     "name": "stdout",
     "output_type": "stream",
     "text": [
      "<class 'pandas.core.frame.DataFrame'>\n",
      "RangeIndex: 21400 entries, 0 to 21399\n",
      "Data columns (total 15 columns):\n",
      " #   Column       Non-Null Count  Dtype  \n",
      "---  ------       --------------  -----  \n",
      " 0   name         21400 non-null  object \n",
      " 1   url          21400 non-null  object \n",
      " 2   year         21216 non-null  float64\n",
      " 3   num_owned    21379 non-null  float64\n",
      " 4   rating       21377 non-null  float64\n",
      " 5   weight       21379 non-null  float64\n",
      " 6   player_age   20951 non-null  float64\n",
      " 7   min_players  21345 non-null  float64\n",
      " 8   max_players  21345 non-null  float64\n",
      " 9   min_time     20763 non-null  float64\n",
      " 10  max_time     20763 non-null  float64\n",
      " 11  designers    21370 non-null  object \n",
      " 12  publishers   21370 non-null  object \n",
      " 13  categories   21370 non-null  object \n",
      " 14  mechanics    21370 non-null  object \n",
      "dtypes: float64(9), object(6)\n",
      "memory usage: 2.4+ MB\n"
     ]
    },
    {
     "data": {
      "text/plain": [
       "<bound method DataFrame.info of                                  name  \\\n",
       "0               The Piggyback Brigade   \n",
       "1                              Skräll   \n",
       "2          Descent on Crete: May 1941   \n",
       "3                              Castro   \n",
       "4                 1655: Habemus Papam   \n",
       "...                               ...   \n",
       "21395  Utter Nonsense: Family Edition   \n",
       "21396               Wisdom of Solomon   \n",
       "21397                  Constellations   \n",
       "21398                        Triplock   \n",
       "21399                   Odin's Ravens   \n",
       "\n",
       "                                                   url    year  num_owned  \\\n",
       "0                    /boardgame/1806/piggyback-brigade  2000.0      679.0   \n",
       "1                              /boardgame/31421/skrall  2007.0       75.0   \n",
       "2               /boardgame/5860/descent-crete-may-1941  1978.0      249.0   \n",
       "3                             /boardgame/149863/castro  2013.0      287.0   \n",
       "4                  /boardgame/82955/1655-habemus-papam  2010.0      738.0   \n",
       "...                                                ...     ...        ...   \n",
       "21395  /boardgame/235471/utter-nonsense-family-edition  2017.0        NaN   \n",
       "21396                 /boardgame/244452/wisdom-solomon  2018.0        NaN   \n",
       "21397                 /boardgame/218200/constellations  2017.0        NaN   \n",
       "21398                       /boardgame/229791/triplock  2017.0        NaN   \n",
       "21399                     /boardgame/4396/odins-ravens  2002.0        NaN   \n",
       "\n",
       "       rating  weight  player_age  min_players  max_players  min_time  \\\n",
       "0       6.101    1.05         4.0          2.0          7.0      15.0   \n",
       "1       5.709    1.75         NaN          2.0          6.0      60.0   \n",
       "2       5.961    3.91        14.0          2.0          2.0     240.0   \n",
       "3       6.515    1.41         8.0          2.0          4.0      20.0   \n",
       "4       6.453    2.16        10.0          3.0          4.0      30.0   \n",
       "...       ...     ...         ...          ...          ...       ...   \n",
       "21395     NaN     NaN         NaN          NaN          NaN       NaN   \n",
       "21396     NaN     NaN         NaN          NaN          NaN       NaN   \n",
       "21397     NaN     NaN         NaN          NaN          NaN       NaN   \n",
       "21398     NaN     NaN         NaN          NaN          NaN       NaN   \n",
       "21399     NaN     NaN         NaN          NaN          NaN       NaN   \n",
       "\n",
       "       max_time                        designers  \\\n",
       "0          25.0                  [Alex Randolph]   \n",
       "1          60.0  [Anthony Pendleton, Paul Smith]   \n",
       "2         240.0                  [Eric Goldberg]   \n",
       "3          20.0               [Jürgen P. Grunau]   \n",
       "4          30.0                [Christoph Bauer]   \n",
       "...         ...                              ...   \n",
       "21395       NaN                             None   \n",
       "21396       NaN                             None   \n",
       "21397       NaN                             None   \n",
       "21398       NaN                             None   \n",
       "21399       NaN                             None   \n",
       "\n",
       "                                              publishers  \\\n",
       "0      [Devir, Drei Magier Spiele, G3, Korea Boardgam...   \n",
       "1                                    [Strategic Retreat]   \n",
       "2                 [SPI (Simulations Publications, Inc.)]   \n",
       "3                                         [Noris Spiele]   \n",
       "4                           [999 Games, DDD Verlag GmbH]   \n",
       "...                                                  ...   \n",
       "21395                                               None   \n",
       "21396                                               None   \n",
       "21397                                               None   \n",
       "21398                                               None   \n",
       "21399                                               None   \n",
       "\n",
       "                                              categories  \\\n",
       "0      [Action / Dexterity, Children's Game, Dice, Ra...   \n",
       "1          [Science Fiction, Space Exploration, Wargame]   \n",
       "2                                [Wargame, World War II]   \n",
       "3                                                 [Dice]   \n",
       "4                  [Card Game, Pike and Shot, Religious]   \n",
       "...                                                  ...   \n",
       "21395                                               None   \n",
       "21396                                               None   \n",
       "21397                                               None   \n",
       "21398                                               None   \n",
       "21399                                               None   \n",
       "\n",
       "                                               mechanics  \n",
       "0                                         [Dice Rolling]  \n",
       "1      [Dice Rolling, Modular Board, Variable Player ...  \n",
       "2               [Dice Rolling, Hexagon Grid, Simulation]  \n",
       "3       [Dice Rolling, Pattern Building, Push Your Luck]  \n",
       "4                      [Auction/Bidding, Set Collection]  \n",
       "...                                                  ...  \n",
       "21395                                               None  \n",
       "21396                                               None  \n",
       "21397                                               None  \n",
       "21398                                               None  \n",
       "21399                                               None  \n",
       "\n",
       "[21400 rows x 15 columns]>"
      ]
     },
     "execution_count": 68,
     "metadata": {},
     "output_type": "execute_result"
    }
   ],
   "source": [
    "#Read in df2 from csv or pickle\n",
    "#def string_to_list(x):\n",
    "#    try:\n",
    "#        return ast.literal_eval(x)\n",
    "#    except:\n",
    "#        return None\n",
    "#df2 = pd.read_csv(\"games2.csv\")\n",
    "\n",
    "#df2.publishers = df2.publishers.apply(string_to_list)    \n",
    "#df2.categories = df2.categories.apply(string_to_list)    \n",
    "#df2.designers = df2.designers.apply(string_to_list)    \n",
    "#df2.mechanics = df2.mechanics.apply(string_to_list)\n",
    "\n",
    "df2 = pickle.load(open(\"df2.p\",\"rb\"))"
   ]
  },
  {
   "cell_type": "code",
   "execution_count": 48,
   "id": "77101861",
   "metadata": {},
   "outputs": [],
   "source": [
    "\n"
   ]
  },
  {
   "cell_type": "code",
   "execution_count": 70,
   "id": "36869dd0",
   "metadata": {},
   "outputs": [
    {
     "name": "stdout",
     "output_type": "stream",
     "text": [
      "<class 'pandas.core.frame.DataFrame'>\n",
      "Int64Index: 21379 entries, 0 to 21379\n",
      "Data columns (total 15 columns):\n",
      " #   Column       Non-Null Count  Dtype  \n",
      "---  ------       --------------  -----  \n",
      " 0   name         21379 non-null  object \n",
      " 1   url          21379 non-null  object \n",
      " 2   year         21195 non-null  float64\n",
      " 3   num_owned    21379 non-null  float64\n",
      " 4   rating       21377 non-null  float64\n",
      " 5   weight       21379 non-null  float64\n",
      " 6   player_age   20951 non-null  float64\n",
      " 7   min_players  21345 non-null  float64\n",
      " 8   max_players  21345 non-null  float64\n",
      " 9   min_time     20763 non-null  float64\n",
      " 10  max_time     20763 non-null  float64\n",
      " 11  designers    21369 non-null  object \n",
      " 12  publishers   21369 non-null  object \n",
      " 13  categories   21369 non-null  object \n",
      " 14  mechanics    21369 non-null  object \n",
      "dtypes: float64(9), object(6)\n",
      "memory usage: 2.6+ MB\n"
     ]
    }
   ],
   "source": [
    "game_df = df2[df2.num_owned.notna()]\n",
    "game_df.info()"
   ]
  },
  {
   "cell_type": "code",
   "execution_count": 7,
   "id": "7a27e0c9",
   "metadata": {},
   "outputs": [
    {
     "name": "stderr",
     "output_type": "stream",
     "text": [
      "/Users/rsolava/opt/anaconda3/lib/python3.8/site-packages/pandas/core/indexing.py:1676: SettingWithCopyWarning: \n",
      "A value is trying to be set on a copy of a slice from a DataFrame.\n",
      "Try using .loc[row_indexer,col_indexer] = value instead\n",
      "\n",
      "See the caveats in the documentation: https://pandas.pydata.org/pandas-docs/stable/user_guide/indexing.html#returning-a-view-versus-a-copy\n",
      "  self._setitem_single_column(ilocs[0], value, pi)\n"
     ]
    }
   ],
   "source": [
    "game_df.loc[:,\"num_owned\"] = game_df.num_owned.astype(int, errors=\"ignore\")"
   ]
  },
  {
   "cell_type": "code",
   "execution_count": 8,
   "id": "0bd66edd",
   "metadata": {},
   "outputs": [],
   "source": [
    "game_df.loc[:,\"rating\"] = game_df.rating.astype(float, errors=\"ignore\")\n",
    "game_df.loc[:,\"year\"] = game_df.year.astype(float,errors=\"ignore\")\n",
    "game_df.loc[:,\"weight\"] = game_df.weight.astype(float, errors=\"ignore\")\n",
    "game_df.loc[:,\"player_age\"] = game_df.player_age.astype(float, errors=\"ignore\")\n",
    "game_df.loc[:,\"min_players\"] = game_df.min_players.astype(float, errors=\"ignore\")\n",
    "game_df.loc[:,\"max_players\"] = game_df.max_players.astype(float, errors=\"ignore\")\n",
    "game_df.loc[:,\"min_time\"] = game_df.min_time.astype(float, errors=\"ignore\")\n",
    "game_df.loc[:,\"max_time\"] = game_df.max_time.astype(float, errors=\"ignore\")"
   ]
  },
  {
   "cell_type": "code",
   "execution_count": 9,
   "id": "1e445a8d",
   "metadata": {},
   "outputs": [
    {
     "data": {
      "text/plain": [
       "name            object\n",
       "url             object\n",
       "year           float64\n",
       "num_owned        int64\n",
       "rating         float64\n",
       "weight         float64\n",
       "player_age     float64\n",
       "min_players    float64\n",
       "max_players    float64\n",
       "min_time       float64\n",
       "max_time       float64\n",
       "designers       object\n",
       "publishers      object\n",
       "categories      object\n",
       "mechanics       object\n",
       "dtype: object"
      ]
     },
     "execution_count": 9,
     "metadata": {},
     "output_type": "execute_result"
    }
   ],
   "source": [
    "game_df.dtypes"
   ]
  },
  {
   "cell_type": "code",
   "execution_count": 61,
   "id": "3ba1e457",
   "metadata": {},
   "outputs": [],
   "source": []
  },
  {
   "cell_type": "code",
   "execution_count": 69,
   "id": "d830a28b",
   "metadata": {},
   "outputs": [
    {
     "data": {
      "text/plain": [
       "['Devir',\n",
       " 'Drei Magier Spiele',\n",
       " 'G3',\n",
       " 'Korea Boardgames Co., Ltd.',\n",
       " 'Lion Rampant Imports',\n",
       " 'Swan Panasia Co., Ltd.',\n",
       " 'Tactic']"
      ]
     },
     "execution_count": 69,
     "metadata": {},
     "output_type": "execute_result"
    }
   ],
   "source": []
  },
  {
   "cell_type": "code",
   "execution_count": 71,
   "id": "a745b839",
   "metadata": {},
   "outputs": [
    {
     "name": "stderr",
     "output_type": "stream",
     "text": [
      "<ipython-input-71-ea2d4238a33a>:1: SettingWithCopyWarning: \n",
      "A value is trying to be set on a copy of a slice from a DataFrame.\n",
      "Try using .loc[row_indexer,col_indexer] = value instead\n",
      "\n",
      "See the caveats in the documentation: https://pandas.pydata.org/pandas-docs/stable/user_guide/indexing.html#returning-a-view-versus-a-copy\n",
      "  game_df[\"log_owned\"] = np.log(game_df.num_owned)\n"
     ]
    }
   ],
   "source": [
    "game_df[\"log_owned\"] = np.log(game_df.num_owned)"
   ]
  },
  {
   "cell_type": "markdown",
   "id": "30116370",
   "metadata": {},
   "source": [
    "Remove outliers"
   ]
  },
  {
   "cell_type": "code",
   "execution_count": 12,
   "id": "d24d9eda",
   "metadata": {},
   "outputs": [
    {
     "ename": "NameError",
     "evalue": "name 'Q1' is not defined",
     "output_type": "error",
     "traceback": [
      "\u001b[0;31m---------------------------------------------------------------------------\u001b[0m",
      "\u001b[0;31mNameError\u001b[0m                                 Traceback (most recent call last)",
      "\u001b[0;32m<ipython-input-12-0300a59d3def>\u001b[0m in \u001b[0;36m<module>\u001b[0;34m\u001b[0m\n\u001b[0;32m----> 1\u001b[0;31m \u001b[0mgame_df\u001b[0m \u001b[0;34m=\u001b[0m \u001b[0mgame_df\u001b[0m\u001b[0;34m[\u001b[0m\u001b[0;34m~\u001b[0m\u001b[0;34m(\u001b[0m\u001b[0;34m(\u001b[0m\u001b[0mgame_df\u001b[0m\u001b[0;34m.\u001b[0m\u001b[0mlog_owned\u001b[0m \u001b[0;34m<\u001b[0m \u001b[0;34m(\u001b[0m\u001b[0mQ1\u001b[0m \u001b[0;34m-\u001b[0m \u001b[0;36m1.5\u001b[0m \u001b[0;34m*\u001b[0m \u001b[0mIQR\u001b[0m\u001b[0;34m)\u001b[0m\u001b[0;34m)\u001b[0m \u001b[0;34m|\u001b[0m\u001b[0;34m(\u001b[0m\u001b[0mgame_df\u001b[0m\u001b[0;34m.\u001b[0m\u001b[0mlog_owned\u001b[0m \u001b[0;34m>\u001b[0m \u001b[0;34m(\u001b[0m\u001b[0mQ3\u001b[0m \u001b[0;34m+\u001b[0m \u001b[0;36m1.5\u001b[0m \u001b[0;34m*\u001b[0m \u001b[0mIQR\u001b[0m\u001b[0;34m)\u001b[0m\u001b[0;34m)\u001b[0m\u001b[0;34m)\u001b[0m\u001b[0;34m]\u001b[0m\u001b[0;34m\u001b[0m\u001b[0;34m\u001b[0m\u001b[0m\n\u001b[0m",
      "\u001b[0;31mNameError\u001b[0m: name 'Q1' is not defined"
     ]
    }
   ],
   "source": [
    "#Q1 = game_df.quantile(0.25)\n",
    "#Q3 = game_df.quantile(0.75)\n",
    "\n",
    "\n",
    "#game_df = game_df[~((game_df.log_owned < (Q1 - 1.5 * IQR)) |(game_df.log_owned > (Q3 + 1.5 * IQR)))]\n"
   ]
  },
  {
   "cell_type": "code",
   "execution_count": 72,
   "id": "b4afab57",
   "metadata": {},
   "outputs": [
    {
     "data": {
      "text/plain": [
       "(21379, 16)"
      ]
     },
     "execution_count": 72,
     "metadata": {},
     "output_type": "execute_result"
    }
   ],
   "source": [
    "game_df.shape"
   ]
  },
  {
   "cell_type": "code",
   "execution_count": 741,
   "id": "f9f1d00a",
   "metadata": {},
   "outputs": [
    {
     "data": {
      "text/plain": [
       "(19860, 16)"
      ]
     },
     "execution_count": 741,
     "metadata": {},
     "output_type": "execute_result"
    }
   ],
   "source": [
    "#game_df = game_df.dropna()\n",
    "#game_df.shape"
   ]
  },
  {
   "cell_type": "code",
   "execution_count": 801,
   "id": "98e947cb",
   "metadata": {},
   "outputs": [
    {
     "data": {
      "text/html": [
       "<table class=\"simpletable\">\n",
       "<caption>OLS Regression Results</caption>\n",
       "<tr>\n",
       "  <th>Dep. Variable:</th>        <td>num_owned</td>    <th>  R-squared:         </th> <td>   0.079</td> \n",
       "</tr>\n",
       "<tr>\n",
       "  <th>Model:</th>                   <td>OLS</td>       <th>  Adj. R-squared:    </th> <td>   0.079</td> \n",
       "</tr>\n",
       "<tr>\n",
       "  <th>Method:</th>             <td>Least Squares</td>  <th>  F-statistic:       </th> <td>   283.3</td> \n",
       "</tr>\n",
       "<tr>\n",
       "  <th>Date:</th>             <td>Thu, 04 Nov 2021</td> <th>  Prob (F-statistic):</th>  <td>  0.00</td>  \n",
       "</tr>\n",
       "<tr>\n",
       "  <th>Time:</th>                 <td>08:14:32</td>     <th>  Log-Likelihood:    </th> <td> -31882.</td> \n",
       "</tr>\n",
       "<tr>\n",
       "  <th>No. Observations:</th>      <td> 19860</td>      <th>  AIC:               </th> <td>6.378e+04</td>\n",
       "</tr>\n",
       "<tr>\n",
       "  <th>Df Residuals:</th>          <td> 19853</td>      <th>  BIC:               </th> <td>6.383e+04</td>\n",
       "</tr>\n",
       "<tr>\n",
       "  <th>Df Model:</th>              <td>     6</td>      <th>                     </th>     <td> </td>    \n",
       "</tr>\n",
       "<tr>\n",
       "  <th>Covariance Type:</th>      <td>nonrobust</td>    <th>                     </th>     <td> </td>    \n",
       "</tr>\n",
       "</table>\n",
       "<table class=\"simpletable\">\n",
       "<tr>\n",
       "       <td></td>          <th>coef</th>     <th>std err</th>      <th>t</th>      <th>P>|t|</th>  <th>[0.025</th>    <th>0.975]</th>  \n",
       "</tr>\n",
       "<tr>\n",
       "  <th>const</th>       <td>    4.1527</td> <td>    0.215</td> <td>   19.348</td> <td> 0.000</td> <td>    3.732</td> <td>    4.573</td>\n",
       "</tr>\n",
       "<tr>\n",
       "  <th>year</th>        <td>   -0.0002</td> <td>    0.000</td> <td>   -2.278</td> <td> 0.023</td> <td>   -0.000</td> <td>-3.33e-05</td>\n",
       "</tr>\n",
       "<tr>\n",
       "  <th>rating</th>      <td>    0.2880</td> <td>    0.011</td> <td>   26.351</td> <td> 0.000</td> <td>    0.267</td> <td>    0.309</td>\n",
       "</tr>\n",
       "<tr>\n",
       "  <th>player_age</th>  <td>    0.0341</td> <td>    0.004</td> <td>    9.731</td> <td> 0.000</td> <td>    0.027</td> <td>    0.041</td>\n",
       "</tr>\n",
       "<tr>\n",
       "  <th>weight_sq</th>   <td>    0.0216</td> <td>    0.003</td> <td>    7.536</td> <td> 0.000</td> <td>    0.016</td> <td>    0.027</td>\n",
       "</tr>\n",
       "<tr>\n",
       "  <th>avg_time</th>    <td>-3.927e-05</td> <td> 1.83e-05</td> <td>   -2.140</td> <td> 0.032</td> <td>-7.52e-05</td> <td> -3.3e-06</td>\n",
       "</tr>\n",
       "<tr>\n",
       "  <th>avg_players</th> <td>    0.0009</td> <td>    0.001</td> <td>    0.832</td> <td> 0.405</td> <td>   -0.001</td> <td>    0.003</td>\n",
       "</tr>\n",
       "</table>\n",
       "<table class=\"simpletable\">\n",
       "<tr>\n",
       "  <th>Omnibus:</th>       <td>418.103</td> <th>  Durbin-Watson:     </th> <td>   1.976</td>\n",
       "</tr>\n",
       "<tr>\n",
       "  <th>Prob(Omnibus):</th> <td> 0.000</td>  <th>  Jarque-Bera (JB):  </th> <td> 440.545</td>\n",
       "</tr>\n",
       "<tr>\n",
       "  <th>Skew:</th>          <td> 0.359</td>  <th>  Prob(JB):          </th> <td>2.17e-96</td>\n",
       "</tr>\n",
       "<tr>\n",
       "  <th>Kurtosis:</th>      <td> 2.865</td>  <th>  Cond. No.          </th> <td>5.04e+04</td>\n",
       "</tr>\n",
       "</table><br/><br/>Notes:<br/>[1] Standard Errors assume that the covariance matrix of the errors is correctly specified.<br/>[2] The condition number is large, 5.04e+04. This might indicate that there are<br/>strong multicollinearity or other numerical problems."
      ],
      "text/plain": [
       "<class 'statsmodels.iolib.summary.Summary'>\n",
       "\"\"\"\n",
       "                            OLS Regression Results                            \n",
       "==============================================================================\n",
       "Dep. Variable:              num_owned   R-squared:                       0.079\n",
       "Model:                            OLS   Adj. R-squared:                  0.079\n",
       "Method:                 Least Squares   F-statistic:                     283.3\n",
       "Date:                Thu, 04 Nov 2021   Prob (F-statistic):               0.00\n",
       "Time:                        08:14:32   Log-Likelihood:                -31882.\n",
       "No. Observations:               19860   AIC:                         6.378e+04\n",
       "Df Residuals:                   19853   BIC:                         6.383e+04\n",
       "Df Model:                           6                                         \n",
       "Covariance Type:            nonrobust                                         \n",
       "===============================================================================\n",
       "                  coef    std err          t      P>|t|      [0.025      0.975]\n",
       "-------------------------------------------------------------------------------\n",
       "const           4.1527      0.215     19.348      0.000       3.732       4.573\n",
       "year           -0.0002      0.000     -2.278      0.023      -0.000   -3.33e-05\n",
       "rating          0.2880      0.011     26.351      0.000       0.267       0.309\n",
       "player_age      0.0341      0.004      9.731      0.000       0.027       0.041\n",
       "weight_sq       0.0216      0.003      7.536      0.000       0.016       0.027\n",
       "avg_time    -3.927e-05   1.83e-05     -2.140      0.032   -7.52e-05    -3.3e-06\n",
       "avg_players     0.0009      0.001      0.832      0.405      -0.001       0.003\n",
       "==============================================================================\n",
       "Omnibus:                      418.103   Durbin-Watson:                   1.976\n",
       "Prob(Omnibus):                  0.000   Jarque-Bera (JB):              440.545\n",
       "Skew:                           0.359   Prob(JB):                     2.17e-96\n",
       "Kurtosis:                       2.865   Cond. No.                     5.04e+04\n",
       "==============================================================================\n",
       "\n",
       "Notes:\n",
       "[1] Standard Errors assume that the covariance matrix of the errors is correctly specified.\n",
       "[2] The condition number is large, 5.04e+04. This might indicate that there are\n",
       "strong multicollinearity or other numerical problems.\n",
       "\"\"\""
      ]
     },
     "execution_count": 801,
     "metadata": {},
     "output_type": "execute_result"
    }
   ],
   "source": [
    "X =game_df.drop(columns =[\"name\",\"url\",\"num_owned\",\"designers\",\"publishers\",\"categories\",\"mechanics\",\"log_owned\"])\n",
    "X[\"weight_sq\"] = X.weight*X.weight\n",
    "X = X.drop(columns=\"weight\")\n",
    "X[\"avg_time\"] = (X.min_time + X.max_time)/2\n",
    "X = X.drop(columns=[\"min_time\",\"max_time\"])\n",
    "X[\"avg_players\"] = (X.min_players + X.max_players)/2\n",
    "X = X.drop(columns=[\"min_players\",\"max_players\"])\n",
    "y = game_df.num_owned\n",
    "X = sm.add_constant(X)\n",
    "\n",
    "model = sm.OLS(np.log(y),X)\n",
    "game_model = model.fit()\n",
    "\n",
    "game_model.summary()"
   ]
  },
  {
   "cell_type": "code",
   "execution_count": 748,
   "id": "0bac8117",
   "metadata": {},
   "outputs": [
    {
     "data": {
      "image/png": "[encoded data removed]",
      "text/plain": [
       "<Figure size 432x288 with 1 Axes>"
      ]
     },
     "metadata": {
      "needs_background": "light"
     },
     "output_type": "display_data"
    }
   ],
   "source": [
    "x = np.arange(0, 6)\n",
    "\n",
    "# scatter-plot data\n",
    "ax = game_df.plot(x='rating', y='num_owned', kind='scatter',logy=True)\n",
    "\n",
    "# plot regression line on the same axes, set x-axis limits\n",
    "#ax.plot(x, np.exp(game_model.params.const + game_model.params.weight * x), color = \"red\")\n",
    "\n",
    "#plt.savefig(\"weight_reg.png\", bbox_inches=\"tight\")"
   ]
  },
  {
   "cell_type": "code",
   "execution_count": 749,
   "id": "d5aa242e",
   "metadata": {},
   "outputs": [
    {
     "data": {
      "text/plain": [
       "const          4.110051\n",
       "year          -0.000199\n",
       "rating         0.263489\n",
       "weight         0.171679\n",
       "player_age     0.025420\n",
       "min_players   -0.014926\n",
       "max_players    0.000924\n",
       "min_time       0.000043\n",
       "max_time      -0.000079\n",
       "dtype: float64"
      ]
     },
     "execution_count": 749,
     "metadata": {},
     "output_type": "execute_result"
    }
   ],
   "source": [
    "game_model.params"
   ]
  },
  {
   "cell_type": "code",
   "execution_count": null,
   "id": "4e2cecbc",
   "metadata": {},
   "outputs": [],
   "source": []
  },
  {
   "cell_type": "code",
   "execution_count": 553,
   "id": "8657cdda",
   "metadata": {},
   "outputs": [
    {
     "data": {
      "text/plain": [
       "(20266, 15)"
      ]
     },
     "execution_count": 553,
     "metadata": {},
     "output_type": "execute_result"
    }
   ],
   "source": [
    "game_df = game_df.dropna()\n",
    "game_df.shape"
   ]
  },
  {
   "cell_type": "code",
   "execution_count": 755,
   "id": "a6ec354d",
   "metadata": {},
   "outputs": [
    {
     "data": {
      "text/plain": [
       "RandomForestRegressor(max_depth=25)"
      ]
     },
     "execution_count": 755,
     "metadata": {},
     "output_type": "execute_result"
    }
   ],
   "source": [
    "y = game_df.num_owned\n",
    "X = game_df.drop(columns =[\"name\",\"url\",\"rating\",\"num_owned\",\"designers\",\"publishers\",\"categories\",\"mechanics\",\"log_owned\"])\n",
    "\n",
    "X, X_test, y, y_test = train_test_split(X,y, test_size=0.3)\n",
    "\n",
    "reg_tree = RandomForestRegressor(max_depth=25)\n",
    "reg_tree.fit(X, np.log(y))\n"
   ]
  },
  {
   "cell_type": "code",
   "execution_count": 756,
   "id": "f6879919",
   "metadata": {},
   "outputs": [
    {
     "data": {
      "text/plain": [
       "array([0.19803491, 0.40250388, 0.09411064, 0.04093385, 0.08670005,\n",
       "       0.08162891, 0.09608775])"
      ]
     },
     "execution_count": 756,
     "metadata": {},
     "output_type": "execute_result"
    }
   ],
   "source": [
    "reg_tree.feature_importances_"
   ]
  },
  {
   "cell_type": "code",
   "execution_count": 757,
   "id": "4eea9a12",
   "metadata": {},
   "outputs": [
    {
     "data": {
      "text/plain": [
       "0.30798540408679365"
      ]
     },
     "execution_count": 757,
     "metadata": {},
     "output_type": "execute_result"
    }
   ],
   "source": [
    "reg_tree.score(X_test,np.log(y_test))"
   ]
  },
  {
   "cell_type": "code",
   "execution_count": 758,
   "id": "41a554f4",
   "metadata": {},
   "outputs": [
    {
     "data": {
      "text/html": [
       "<div>\n",
       "<style scoped>\n",
       "    .dataframe tbody tr th:only-of-type {\n",
       "        vertical-align: middle;\n",
       "    }\n",
       "\n",
       "    .dataframe tbody tr th {\n",
       "        vertical-align: top;\n",
       "    }\n",
       "\n",
       "    .dataframe thead th {\n",
       "        text-align: right;\n",
       "    }\n",
       "</style>\n",
       "<table border=\"1\" class=\"dataframe\">\n",
       "  <thead>\n",
       "    <tr style=\"text-align: right;\">\n",
       "      <th></th>\n",
       "      <th>name</th>\n",
       "      <th>url</th>\n",
       "      <th>year</th>\n",
       "      <th>num_owned</th>\n",
       "      <th>rating</th>\n",
       "      <th>weight</th>\n",
       "      <th>player_age</th>\n",
       "      <th>min_players</th>\n",
       "      <th>max_players</th>\n",
       "      <th>min_time</th>\n",
       "      <th>max_time</th>\n",
       "      <th>designers</th>\n",
       "      <th>publishers</th>\n",
       "      <th>categories</th>\n",
       "      <th>mechanics</th>\n",
       "      <th>log_owned</th>\n",
       "    </tr>\n",
       "  </thead>\n",
       "  <tbody>\n",
       "    <tr>\n",
       "      <th>0</th>\n",
       "      <td>The Piggyback Brigade</td>\n",
       "      <td>/boardgame/1806/piggyback-brigade</td>\n",
       "      <td>2000.0</td>\n",
       "      <td>679</td>\n",
       "      <td>6.101</td>\n",
       "      <td>1.05</td>\n",
       "      <td>4.0</td>\n",
       "      <td>2.0</td>\n",
       "      <td>7.0</td>\n",
       "      <td>15.0</td>\n",
       "      <td>25.0</td>\n",
       "      <td>[Alex Randolph]</td>\n",
       "      <td>[Devir, Drei Magier Spiele, G3, Korea Boardgam...</td>\n",
       "      <td>[Action / Dexterity, Children's Game, Dice, Ra...</td>\n",
       "      <td>[Dice Rolling]</td>\n",
       "      <td>6.520621</td>\n",
       "    </tr>\n",
       "    <tr>\n",
       "      <th>2</th>\n",
       "      <td>Descent on Crete: May 1941</td>\n",
       "      <td>/boardgame/5860/descent-crete-may-1941</td>\n",
       "      <td>1978.0</td>\n",
       "      <td>249</td>\n",
       "      <td>5.961</td>\n",
       "      <td>3.91</td>\n",
       "      <td>14.0</td>\n",
       "      <td>2.0</td>\n",
       "      <td>2.0</td>\n",
       "      <td>240.0</td>\n",
       "      <td>240.0</td>\n",
       "      <td>[Eric Goldberg]</td>\n",
       "      <td>[SPI (Simulations Publications, Inc.)]</td>\n",
       "      <td>[Wargame, World War II]</td>\n",
       "      <td>[Dice Rolling, Hexagon Grid, Simulation]</td>\n",
       "      <td>5.517453</td>\n",
       "    </tr>\n",
       "    <tr>\n",
       "      <th>3</th>\n",
       "      <td>Castro</td>\n",
       "      <td>/boardgame/149863/castro</td>\n",
       "      <td>2013.0</td>\n",
       "      <td>287</td>\n",
       "      <td>6.515</td>\n",
       "      <td>1.41</td>\n",
       "      <td>8.0</td>\n",
       "      <td>2.0</td>\n",
       "      <td>4.0</td>\n",
       "      <td>20.0</td>\n",
       "      <td>20.0</td>\n",
       "      <td>[Jürgen P. Grunau]</td>\n",
       "      <td>[Noris Spiele]</td>\n",
       "      <td>[Dice]</td>\n",
       "      <td>[Dice Rolling, Pattern Building, Push Your Luck]</td>\n",
       "      <td>5.659482</td>\n",
       "    </tr>\n",
       "    <tr>\n",
       "      <th>4</th>\n",
       "      <td>1655: Habemus Papam</td>\n",
       "      <td>/boardgame/82955/1655-habemus-papam</td>\n",
       "      <td>2010.0</td>\n",
       "      <td>738</td>\n",
       "      <td>6.453</td>\n",
       "      <td>2.16</td>\n",
       "      <td>10.0</td>\n",
       "      <td>3.0</td>\n",
       "      <td>4.0</td>\n",
       "      <td>30.0</td>\n",
       "      <td>30.0</td>\n",
       "      <td>[Christoph Bauer]</td>\n",
       "      <td>[999 Games, DDD Verlag GmbH]</td>\n",
       "      <td>[Card Game, Pike and Shot, Religious]</td>\n",
       "      <td>[Auction/Bidding, Set Collection]</td>\n",
       "      <td>6.603944</td>\n",
       "    </tr>\n",
       "    <tr>\n",
       "      <th>5</th>\n",
       "      <td>Kreus</td>\n",
       "      <td>/boardgame/198110/kreus</td>\n",
       "      <td>2016.0</td>\n",
       "      <td>826</td>\n",
       "      <td>6.696</td>\n",
       "      <td>2.00</td>\n",
       "      <td>10.0</td>\n",
       "      <td>3.0</td>\n",
       "      <td>6.0</td>\n",
       "      <td>20.0</td>\n",
       "      <td>30.0</td>\n",
       "      <td>[Julien Prothière]</td>\n",
       "      <td>[2Tomatoes Games, CMON Global Limited, Sweet G...</td>\n",
       "      <td>[Card Game, Deduction, Mythology]</td>\n",
       "      <td>[Communication Limits, Cooperative Game]</td>\n",
       "      <td>6.716595</td>\n",
       "    </tr>\n",
       "  </tbody>\n",
       "</table>\n",
       "</div>"
      ],
      "text/plain": [
       "                         name                                     url    year  \\\n",
       "0       The Piggyback Brigade       /boardgame/1806/piggyback-brigade  2000.0   \n",
       "2  Descent on Crete: May 1941  /boardgame/5860/descent-crete-may-1941  1978.0   \n",
       "3                      Castro                /boardgame/149863/castro  2013.0   \n",
       "4         1655: Habemus Papam     /boardgame/82955/1655-habemus-papam  2010.0   \n",
       "5                       Kreus                 /boardgame/198110/kreus  2016.0   \n",
       "\n",
       "   num_owned  rating  weight  player_age  min_players  max_players  min_time  \\\n",
       "0        679   6.101    1.05         4.0          2.0          7.0      15.0   \n",
       "2        249   5.961    3.91        14.0          2.0          2.0     240.0   \n",
       "3        287   6.515    1.41         8.0          2.0          4.0      20.0   \n",
       "4        738   6.453    2.16        10.0          3.0          4.0      30.0   \n",
       "5        826   6.696    2.00        10.0          3.0          6.0      20.0   \n",
       "\n",
       "   max_time           designers  \\\n",
       "0      25.0     [Alex Randolph]   \n",
       "2     240.0     [Eric Goldberg]   \n",
       "3      20.0  [Jürgen P. Grunau]   \n",
       "4      30.0   [Christoph Bauer]   \n",
       "5      30.0  [Julien Prothière]   \n",
       "\n",
       "                                          publishers  \\\n",
       "0  [Devir, Drei Magier Spiele, G3, Korea Boardgam...   \n",
       "2             [SPI (Simulations Publications, Inc.)]   \n",
       "3                                     [Noris Spiele]   \n",
       "4                       [999 Games, DDD Verlag GmbH]   \n",
       "5  [2Tomatoes Games, CMON Global Limited, Sweet G...   \n",
       "\n",
       "                                          categories  \\\n",
       "0  [Action / Dexterity, Children's Game, Dice, Ra...   \n",
       "2                            [Wargame, World War II]   \n",
       "3                                             [Dice]   \n",
       "4              [Card Game, Pike and Shot, Religious]   \n",
       "5                  [Card Game, Deduction, Mythology]   \n",
       "\n",
       "                                          mechanics  log_owned  \n",
       "0                                    [Dice Rolling]   6.520621  \n",
       "2          [Dice Rolling, Hexagon Grid, Simulation]   5.517453  \n",
       "3  [Dice Rolling, Pattern Building, Push Your Luck]   5.659482  \n",
       "4                 [Auction/Bidding, Set Collection]   6.603944  \n",
       "5          [Communication Limits, Cooperative Game]   6.716595  "
      ]
     },
     "execution_count": 758,
     "metadata": {},
     "output_type": "execute_result"
    }
   ],
   "source": [
    "game_df.head()"
   ]
  },
  {
   "cell_type": "markdown",
   "id": "ae25c728",
   "metadata": {},
   "source": [
    "## Are games sold and number owned correlated?\n",
    "\n",
    "We're using number of users who own the game as a proxy for number of games sold, since unfortunately the number of games sold is just not public information. It seems reasonable that these things would be correlated, but are they really? Luckily, one publisher did share their sales data, so we'll use this limited information to see if this assumption is correct."
   ]
  },
  {
   "cell_type": "code",
   "execution_count": 73,
   "id": "cef4be19",
   "metadata": {},
   "outputs": [],
   "source": [
    "num_sold = [[\"Twilight Struggle\", 100000], [\"Battle Line\",40000],[\"Dominant Species\",25000],\n",
    "            [\"Commands & Colors: Ancients\", 20000],[\"Paths of Glory\",16000],[\"Combat Commander: Europe\",13000],\n",
    "            [\"Wilderness War\",11000], [\"Labyrinth: The War on Terror, 2001 – ?\",11000],\n",
    "            [\"Thunder Alley\", 9500], [\"Formula Motor Racing\",9000], [\"Ivanhoe\",9000],\n",
    "            [\"Commands & Colors: Napoleonics\",9000], [\"Washington's War\", 9000],[\"Here I Stand\", 8500]]\n",
    "\n",
    "num_sold_df = pd.DataFrame(num_sold, columns = [\"name\",\"num_sold\"])"
   ]
  },
  {
   "cell_type": "code",
   "execution_count": 74,
   "id": "db846867",
   "metadata": {},
   "outputs": [
    {
     "data": {
      "text/html": [
       "<div>\n",
       "<style scoped>\n",
       "    .dataframe tbody tr th:only-of-type {\n",
       "        vertical-align: middle;\n",
       "    }\n",
       "\n",
       "    .dataframe tbody tr th {\n",
       "        vertical-align: top;\n",
       "    }\n",
       "\n",
       "    .dataframe thead th {\n",
       "        text-align: right;\n",
       "    }\n",
       "</style>\n",
       "<table border=\"1\" class=\"dataframe\">\n",
       "  <thead>\n",
       "    <tr style=\"text-align: right;\">\n",
       "      <th></th>\n",
       "      <th>name</th>\n",
       "      <th>url</th>\n",
       "      <th>year</th>\n",
       "      <th>num_owned</th>\n",
       "      <th>rating</th>\n",
       "      <th>weight</th>\n",
       "      <th>player_age</th>\n",
       "      <th>min_players</th>\n",
       "      <th>max_players</th>\n",
       "      <th>min_time</th>\n",
       "      <th>max_time</th>\n",
       "      <th>designers</th>\n",
       "      <th>publishers</th>\n",
       "      <th>categories</th>\n",
       "      <th>mechanics</th>\n",
       "      <th>log_owned</th>\n",
       "    </tr>\n",
       "  </thead>\n",
       "  <tbody>\n",
       "    <tr>\n",
       "      <th>15694</th>\n",
       "      <td>Washington's War</td>\n",
       "      <td>/boardgame/38996/washingtons-war</td>\n",
       "      <td>2010.0</td>\n",
       "      <td>4499.0</td>\n",
       "      <td>7.636</td>\n",
       "      <td>2.84</td>\n",
       "      <td>12.0</td>\n",
       "      <td>2.0</td>\n",
       "      <td>2.0</td>\n",
       "      <td>90.0</td>\n",
       "      <td>90.0</td>\n",
       "      <td>[Mark Herman]</td>\n",
       "      <td>[GMT Games, Spielworxx]</td>\n",
       "      <td>[Age of Reason, American Revolutionary War, Wa...</td>\n",
       "      <td>[Area Majority / Influence, Campaign / Battle ...</td>\n",
       "      <td>8.41161</td>\n",
       "    </tr>\n",
       "  </tbody>\n",
       "</table>\n",
       "</div>"
      ],
      "text/plain": [
       "                   name                               url    year  num_owned  \\\n",
       "15694  Washington's War  /boardgame/38996/washingtons-war  2010.0     4499.0   \n",
       "\n",
       "       rating  weight  player_age  min_players  max_players  min_time  \\\n",
       "15694   7.636    2.84        12.0          2.0          2.0      90.0   \n",
       "\n",
       "       max_time      designers               publishers  \\\n",
       "15694      90.0  [Mark Herman]  [GMT Games, Spielworxx]   \n",
       "\n",
       "                                              categories  \\\n",
       "15694  [Age of Reason, American Revolutionary War, Wa...   \n",
       "\n",
       "                                               mechanics  log_owned  \n",
       "15694  [Area Majority / Influence, Campaign / Battle ...    8.41161  "
      ]
     },
     "execution_count": 74,
     "metadata": {},
     "output_type": "execute_result"
    }
   ],
   "source": [
    "game_df[(game_df.name == \"Washington's War\")]"
   ]
  },
  {
   "cell_type": "code",
   "execution_count": 75,
   "id": "7b802d83",
   "metadata": {},
   "outputs": [],
   "source": [
    "gt_df = num_sold_df.set_index(\"name\").join(game_df.set_index(\"name\"))"
   ]
  },
  {
   "cell_type": "code",
   "execution_count": 76,
   "id": "4d7c54fc",
   "metadata": {},
   "outputs": [
    {
     "data": {
      "image/png": "[encoded data removed]",
      "text/plain": [
       "<Figure size 432x288 with 1 Axes>"
      ]
     },
     "metadata": {
      "needs_background": "light"
     },
     "output_type": "display_data"
    }
   ],
   "source": [
    "\n",
    "ax = gt_df.plot(x='num_owned', y='num_sold', kind='scatter')"
   ]
  },
  {
   "cell_type": "code",
   "execution_count": 16,
   "id": "1b645814",
   "metadata": {},
   "outputs": [
    {
     "name": "stderr",
     "output_type": "stream",
     "text": [
      "/Users/rsolava/opt/anaconda3/lib/python3.8/site-packages/scipy/stats/stats.py:1603: UserWarning: kurtosistest only valid for n>=20 ... continuing anyway, n=14\n",
      "  warnings.warn(\"kurtosistest only valid for n>=20 ... continuing \"\n"
     ]
    },
    {
     "data": {
      "text/html": [
       "<table class=\"simpletable\">\n",
       "<caption>OLS Regression Results</caption>\n",
       "<tr>\n",
       "  <th>Dep. Variable:</th>        <td>num_sold</td>     <th>  R-squared (uncentered):</th>      <td>   0.984</td>\n",
       "</tr>\n",
       "<tr>\n",
       "  <th>Model:</th>                   <td>OLS</td>       <th>  Adj. R-squared (uncentered):</th> <td>   0.982</td>\n",
       "</tr>\n",
       "<tr>\n",
       "  <th>Method:</th>             <td>Least Squares</td>  <th>  F-statistic:       </th>          <td>   781.4</td>\n",
       "</tr>\n",
       "<tr>\n",
       "  <th>Date:</th>             <td>Sat, 06 Nov 2021</td> <th>  Prob (F-statistic):</th>          <td>5.37e-13</td>\n",
       "</tr>\n",
       "<tr>\n",
       "  <th>Time:</th>                 <td>12:16:03</td>     <th>  Log-Likelihood:    </th>          <td> -136.03</td>\n",
       "</tr>\n",
       "<tr>\n",
       "  <th>No. Observations:</th>      <td>    14</td>      <th>  AIC:               </th>          <td>   274.1</td>\n",
       "</tr>\n",
       "<tr>\n",
       "  <th>Df Residuals:</th>          <td>    13</td>      <th>  BIC:               </th>          <td>   274.7</td>\n",
       "</tr>\n",
       "<tr>\n",
       "  <th>Df Model:</th>              <td>     1</td>      <th>                     </th>              <td> </td>   \n",
       "</tr>\n",
       "<tr>\n",
       "  <th>Covariance Type:</th>      <td>nonrobust</td>    <th>                     </th>              <td> </td>   \n",
       "</tr>\n",
       "</table>\n",
       "<table class=\"simpletable\">\n",
       "<tr>\n",
       "      <td></td>         <th>coef</th>     <th>std err</th>      <th>t</th>      <th>P>|t|</th>  <th>[0.025</th>    <th>0.975]</th>  \n",
       "</tr>\n",
       "<tr>\n",
       "  <th>num_owned</th> <td>    1.6973</td> <td>    0.061</td> <td>   27.953</td> <td> 0.000</td> <td>    1.566</td> <td>    1.828</td>\n",
       "</tr>\n",
       "</table>\n",
       "<table class=\"simpletable\">\n",
       "<tr>\n",
       "  <th>Omnibus:</th>       <td> 5.976</td> <th>  Durbin-Watson:     </th> <td>   2.394</td>\n",
       "</tr>\n",
       "<tr>\n",
       "  <th>Prob(Omnibus):</th> <td> 0.050</td> <th>  Jarque-Bera (JB):  </th> <td>   2.872</td>\n",
       "</tr>\n",
       "<tr>\n",
       "  <th>Skew:</th>          <td>-1.000</td> <th>  Prob(JB):          </th> <td>   0.238</td>\n",
       "</tr>\n",
       "<tr>\n",
       "  <th>Kurtosis:</th>      <td> 3.961</td> <th>  Cond. No.          </th> <td>    1.00</td>\n",
       "</tr>\n",
       "</table><br/><br/>Notes:<br/>[1] R² is computed without centering (uncentered) since the model does not contain a constant.<br/>[2] Standard Errors assume that the covariance matrix of the errors is correctly specified."
      ],
      "text/plain": [
       "<class 'statsmodels.iolib.summary.Summary'>\n",
       "\"\"\"\n",
       "                                 OLS Regression Results                                \n",
       "=======================================================================================\n",
       "Dep. Variable:               num_sold   R-squared (uncentered):                   0.984\n",
       "Model:                            OLS   Adj. R-squared (uncentered):              0.982\n",
       "Method:                 Least Squares   F-statistic:                              781.4\n",
       "Date:                Sat, 06 Nov 2021   Prob (F-statistic):                    5.37e-13\n",
       "Time:                        12:16:03   Log-Likelihood:                         -136.03\n",
       "No. Observations:                  14   AIC:                                      274.1\n",
       "Df Residuals:                      13   BIC:                                      274.7\n",
       "Df Model:                           1                                                  \n",
       "Covariance Type:            nonrobust                                                  \n",
       "==============================================================================\n",
       "                 coef    std err          t      P>|t|      [0.025      0.975]\n",
       "------------------------------------------------------------------------------\n",
       "num_owned      1.6973      0.061     27.953      0.000       1.566       1.828\n",
       "==============================================================================\n",
       "Omnibus:                        5.976   Durbin-Watson:                   2.394\n",
       "Prob(Omnibus):                  0.050   Jarque-Bera (JB):                2.872\n",
       "Skew:                          -1.000   Prob(JB):                        0.238\n",
       "Kurtosis:                       3.961   Cond. No.                         1.00\n",
       "==============================================================================\n",
       "\n",
       "Notes:\n",
       "[1] R² is computed without centering (uncentered) since the model does not contain a constant.\n",
       "[2] Standard Errors assume that the covariance matrix of the errors is correctly specified.\n",
       "\"\"\""
      ]
     },
     "execution_count": 16,
     "metadata": {},
     "output_type": "execute_result"
    }
   ],
   "source": [
    "y = gt_df.num_sold\n",
    "X = gt_df.num_owned\n",
    "X = sm.add_constant(X)\n",
    "\n",
    "model = sm.OLS(gt_df.num_sold,gt_df.num_owned)\n",
    "game_model = model.fit()\n",
    "\n",
    "game_model.summary()"
   ]
  },
  {
   "cell_type": "code",
   "execution_count": 77,
   "id": "178f10cc",
   "metadata": {},
   "outputs": [
    {
     "data": {
      "text/plain": [
       "0.986762754618917"
      ]
     },
     "execution_count": 77,
     "metadata": {},
     "output_type": "execute_result"
    }
   ],
   "source": [
    "gt_df.num_owned.corr(gt_df.num_sold)"
   ]
  },
  {
   "cell_type": "markdown",
   "id": "2d23771d",
   "metadata": {},
   "source": [
    "There is a strong linear relationship between games sold and games owned for this publisher. That's very promising for our analysis, although it may not hold as strongly for all games. It is a very small sample and not representative."
   ]
  },
  {
   "cell_type": "code",
   "execution_count": 78,
   "id": "3382c0a7",
   "metadata": {},
   "outputs": [
    {
     "data": {
      "image/png": "[encoded data removed]",
      "text/plain": [
       "<Figure size 432x288 with 1 Axes>"
      ]
     },
     "metadata": {
      "needs_background": "light"
     },
     "output_type": "display_data"
    }
   ],
   "source": [
    "ax = plt.scatter(game_df.weight*game_df.weight,game_df.num_owned)"
   ]
  },
  {
   "cell_type": "code",
   "execution_count": 79,
   "id": "4f5d02bb",
   "metadata": {},
   "outputs": [
    {
     "data": {
      "text/plain": [
       "0.08115230053876551"
      ]
     },
     "execution_count": 79,
     "metadata": {},
     "output_type": "execute_result"
    }
   ],
   "source": [
    "game_df.num_owned.corr(game_df.weight*game_df.weight)"
   ]
  },
  {
   "cell_type": "code",
   "execution_count": 80,
   "id": "60026ac0",
   "metadata": {},
   "outputs": [
    {
     "data": {
      "text/plain": [
       "<AxesSubplot:xlabel='num_owned', ylabel='Count'>"
      ]
     },
     "execution_count": 80,
     "metadata": {},
     "output_type": "execute_result"
    },
    {
     "data": {
      "image/png": "[encoded data removed]",
      "text/plain": [
       "<Figure size 432x288 with 1 Axes>"
      ]
     },
     "metadata": {
      "needs_background": "light"
     },
     "output_type": "display_data"
    }
   ],
   "source": [
    "import seaborn as sns\n",
    "sns.histplot(x=np.log(game_df[\"num_owned\"]))"
   ]
  },
  {
   "cell_type": "code",
   "execution_count": 81,
   "id": "56f2b69b",
   "metadata": {},
   "outputs": [
    {
     "data": {
      "text/plain": [
       "<AxesSubplot:xlabel='num_owned', ylabel='Count'>"
      ]
     },
     "execution_count": 81,
     "metadata": {},
     "output_type": "execute_result"
    },
    {
     "data": {
      "image/png": "[encoded data removed]",
      "text/plain": [
       "<Figure size 432x288 with 1 Axes>"
      ]
     },
     "metadata": {
      "needs_background": "light"
     },
     "output_type": "display_data"
    }
   ],
   "source": [
    "sns.histplot(x=game_df[\"num_owned\"],bins=50)"
   ]
  },
  {
   "cell_type": "code",
   "execution_count": 82,
   "id": "c237b07b",
   "metadata": {},
   "outputs": [
    {
     "data": {
      "text/plain": [
       "<AxesSubplot:xlabel='num_owned'>"
      ]
     },
     "execution_count": 82,
     "metadata": {},
     "output_type": "execute_result"
    },
    {
     "data": {
      "image/png": "[encoded data removed]",
      "text/plain": [
       "<Figure size 432x288 with 1 Axes>"
      ]
     },
     "metadata": {
      "needs_background": "light"
     },
     "output_type": "display_data"
    }
   ],
   "source": [
    "\n",
    "sns.boxplot(x=np.log(game_df[\"num_owned\"]))"
   ]
  },
  {
   "cell_type": "markdown",
   "id": "33bc3c3f",
   "metadata": {},
   "source": [
    "Dealing with categorical data"
   ]
  },
  {
   "cell_type": "code",
   "execution_count": 88,
   "id": "ed314838",
   "metadata": {},
   "outputs": [],
   "source": [
    "all_publishers = set(game_df.publishers.dropna().sum())\n",
    "all_designers = set(game_df.designers.dropna().sum())\n",
    "all_categories = set(game_df.categories.dropna().sum())\n",
    "all_mechanics = set(game_df.mechanics.dropna().sum())"
   ]
  },
  {
   "cell_type": "code",
   "execution_count": 89,
   "id": "36b0d3fb",
   "metadata": {},
   "outputs": [
    {
     "name": "stdout",
     "output_type": "stream",
     "text": [
      "6536 different publishers.\n",
      "9686 different designers.\n",
      "83 different categories.\n",
      "182 different mechanics.\n"
     ]
    }
   ],
   "source": [
    "print(\"{} different publishers.\".format(len(all_publishers)))\n",
    "print(\"{} different designers.\".format(len(all_designers)))\n",
    "print(\"{} different categories.\".format(len(all_categories)))\n",
    "print(\"{} different mechanics.\".format(len(all_mechanics)))"
   ]
  },
  {
   "cell_type": "code",
   "execution_count": 131,
   "id": "3a530ae9",
   "metadata": {},
   "outputs": [],
   "source": [
    "cat_stats = {} #Key categories ,values are (count, mean owned, median owned)\n",
    "for cat in all_categories:\n",
    "    mask = game_df[\"categories\"].apply(lambda x: False if x is None else cat in x)\n",
    "    owned = game_df[mask].num_owned\n",
    "    cat_stats[cat] = (mask.sum(), stats.gmean(owned), owned.mean(), owned.median(), owned.std())\n",
    "\n",
    "cat_list = list(all_categories)\n",
    "cat_list.sort(key=lambda x:cat_stats[x][0], reverse=True)\n",
    "top10cats = cat_list[:10]"
   ]
  },
  {
   "cell_type": "code",
   "execution_count": 135,
   "id": "1d660cd4",
   "metadata": {},
   "outputs": [
    {
     "data": {
      "text/plain": [
       "<matplotlib.lines.Line2D at 0x1316f2af0>"
      ]
     },
     "execution_count": 135,
     "metadata": {},
     "output_type": "execute_result"
    },
    {
     "data": {
      "image/png": "[encoded data removed]",
      "text/plain": [
       "<Figure size 432x288 with 1 Axes>"
      ]
     },
     "metadata": {
      "needs_background": "light"
     },
     "output_type": "display_data"
    }
   ],
   "source": [
    "top10cats.sort(key=lambda x:cat_stats[x][1])\n",
    "graph = sns.barplot(y= top10cats, x = [cat_stats[s][1] for s in top10cats])\n",
    "graph.axvline(stats.gmean(game_df.num_owned), color = \"red\")"
   ]
  },
  {
   "cell_type": "code",
   "execution_count": 136,
   "id": "0fcc3f8e",
   "metadata": {},
   "outputs": [],
   "source": [
    "mech_stats = {} #Key categories ,values are (count, mean owned, median owned)\n",
    "for mech in all_mechanics:\n",
    "    mask = game_df[\"mechanics\"].apply(lambda x: False if x is None else mech in x)\n",
    "    owned = game_df[mask].num_owned\n",
    "    mech_stats[mech] = (mask.sum(), stats.gmean(owned), owned.mean(), owned.median(), owned.std())\n",
    "    \n",
    "mech_list = list(all_mechanics)\n",
    "mech_list.sort(key=lambda x:mech_stats[x][0], reverse=True)\n",
    "top10mechs = mech_list[:10]"
   ]
  },
  {
   "cell_type": "code",
   "execution_count": 138,
   "id": "9ca58015",
   "metadata": {},
   "outputs": [
    {
     "data": {
      "text/plain": [
       "<matplotlib.lines.Line2D at 0x137739250>"
      ]
     },
     "execution_count": 138,
     "metadata": {},
     "output_type": "execute_result"
    },
    {
     "data": {
      "image/png": "[encoded data removed]",
      "text/plain": [
       "<Figure size 432x288 with 1 Axes>"
      ]
     },
     "metadata": {
      "needs_background": "light"
     },
     "output_type": "display_data"
    }
   ],
   "source": [
    "top10mechs.sort(key=lambda x:mech_stats[x][1])\n",
    "graph = sns.barplot(y= top10mechs, x = [mech_stats[s][1] for s in top10mechs])\n",
    "graph.axvline(stats.gmean(game_df.num_owned), color = \"red\")"
   ]
  },
  {
   "cell_type": "markdown",
   "id": "ac890801",
   "metadata": {},
   "source": [
    "Let's add those top categories/mechanics as rows to the dataframe"
   ]
  },
  {
   "cell_type": "code",
   "execution_count": 148,
   "id": "503889f6",
   "metadata": {},
   "outputs": [
    {
     "name": "stderr",
     "output_type": "stream",
     "text": [
      "<ipython-input-148-549b34118d8b>:2: SettingWithCopyWarning: \n",
      "A value is trying to be set on a copy of a slice from a DataFrame.\n",
      "Try using .loc[row_indexer,col_indexer] = value instead\n",
      "\n",
      "See the caveats in the documentation: https://pandas.pydata.org/pandas-docs/stable/user_guide/indexing.html#returning-a-view-versus-a-copy\n",
      "  game_df[cat] = game_df.categories.apply(lambda x: 0 if x is None or cat not in x else 1)\n",
      "<ipython-input-148-549b34118d8b>:5: SettingWithCopyWarning: \n",
      "A value is trying to be set on a copy of a slice from a DataFrame.\n",
      "Try using .loc[row_indexer,col_indexer] = value instead\n",
      "\n",
      "See the caveats in the documentation: https://pandas.pydata.org/pandas-docs/stable/user_guide/indexing.html#returning-a-view-versus-a-copy\n",
      "  game_df[mech] = game_df.mechanics.apply(lambda x: 0 if x is None or mech not in x else 1)\n"
     ]
    }
   ],
   "source": [
    "for cat in top10cats:\n",
    "    game_df[cat] = game_df.categories.apply(lambda x: 0 if x is None or cat not in x else 1)\n",
    "\n",
    "for mech in top10mechs:\n",
    "    game_df[mech] = game_df.mechanics.apply(lambda x: 0 if x is None or mech not in x else 1)"
   ]
  },
  {
   "cell_type": "code",
   "execution_count": 150,
   "id": "5af2c44e",
   "metadata": {},
   "outputs": [
    {
     "data": {
      "text/plain": [
       "(21379, 36)"
      ]
     },
     "execution_count": 150,
     "metadata": {},
     "output_type": "execute_result"
    }
   ],
   "source": [
    "game_df.shape"
   ]
  },
  {
   "cell_type": "code",
   "execution_count": 154,
   "id": "5b882b95",
   "metadata": {},
   "outputs": [
    {
     "data": {
      "text/html": [
       "<table class=\"simpletable\">\n",
       "<caption>OLS Regression Results</caption>\n",
       "<tr>\n",
       "  <th>Dep. Variable:</th>        <td>log_owned</td>    <th>  R-squared:         </th> <td>   0.114</td> \n",
       "</tr>\n",
       "<tr>\n",
       "  <th>Model:</th>                   <td>OLS</td>       <th>  Adj. R-squared:    </th> <td>   0.113</td> \n",
       "</tr>\n",
       "<tr>\n",
       "  <th>Method:</th>             <td>Least Squares</td>  <th>  F-statistic:       </th> <td>   113.6</td> \n",
       "</tr>\n",
       "<tr>\n",
       "  <th>Date:</th>             <td>Sat, 06 Nov 2021</td> <th>  Prob (F-statistic):</th>  <td>  0.00</td>  \n",
       "</tr>\n",
       "<tr>\n",
       "  <th>Time:</th>                 <td>15:54:10</td>     <th>  Log-Likelihood:    </th> <td> -34015.</td> \n",
       "</tr>\n",
       "<tr>\n",
       "  <th>No. Observations:</th>      <td> 20246</td>      <th>  AIC:               </th> <td>6.808e+04</td>\n",
       "</tr>\n",
       "<tr>\n",
       "  <th>Df Residuals:</th>          <td> 20222</td>      <th>  BIC:               </th> <td>6.827e+04</td>\n",
       "</tr>\n",
       "<tr>\n",
       "  <th>Df Model:</th>              <td>    23</td>      <th>                     </th>     <td> </td>    \n",
       "</tr>\n",
       "<tr>\n",
       "  <th>Covariance Type:</th>      <td>nonrobust</td>    <th>                     </th>     <td> </td>    \n",
       "</tr>\n",
       "</table>\n",
       "<table class=\"simpletable\">\n",
       "<tr>\n",
       "             <td></td>               <th>coef</th>     <th>std err</th>      <th>t</th>      <th>P>|t|</th>  <th>[0.025</th>    <th>0.975]</th>  \n",
       "</tr>\n",
       "<tr>\n",
       "  <th>const</th>                  <td>    6.1790</td> <td>    0.201</td> <td>   30.756</td> <td> 0.000</td> <td>    5.785</td> <td>    6.573</td>\n",
       "</tr>\n",
       "<tr>\n",
       "  <th>year</th>                   <td>   -0.0005</td> <td> 9.86e-05</td> <td>   -4.730</td> <td> 0.000</td> <td>   -0.001</td> <td>   -0.000</td>\n",
       "</tr>\n",
       "<tr>\n",
       "  <th>player_age</th>             <td>    0.0275</td> <td>    0.004</td> <td>    6.442</td> <td> 0.000</td> <td>    0.019</td> <td>    0.036</td>\n",
       "</tr>\n",
       "<tr>\n",
       "  <th>Children's Game</th>        <td>   -0.1509</td> <td>    0.040</td> <td>   -3.753</td> <td> 0.000</td> <td>   -0.230</td> <td>   -0.072</td>\n",
       "</tr>\n",
       "<tr>\n",
       "  <th>Abstract Strategy</th>      <td>   -0.3153</td> <td>    0.039</td> <td>   -8.132</td> <td> 0.000</td> <td>   -0.391</td> <td>   -0.239</td>\n",
       "</tr>\n",
       "<tr>\n",
       "  <th>Party Game</th>             <td>    0.1350</td> <td>    0.034</td> <td>    3.930</td> <td> 0.000</td> <td>    0.068</td> <td>    0.202</td>\n",
       "</tr>\n",
       "<tr>\n",
       "  <th>Wargame</th>                <td>   -0.3062</td> <td>    0.038</td> <td>   -7.973</td> <td> 0.000</td> <td>   -0.382</td> <td>   -0.231</td>\n",
       "</tr>\n",
       "<tr>\n",
       "  <th>Dice</th>                   <td>   -0.0613</td> <td>    0.038</td> <td>   -1.628</td> <td> 0.103</td> <td>   -0.135</td> <td>    0.012</td>\n",
       "</tr>\n",
       "<tr>\n",
       "  <th>Card Game</th>              <td>   -0.0516</td> <td>    0.024</td> <td>   -2.159</td> <td> 0.031</td> <td>   -0.098</td> <td>   -0.005</td>\n",
       "</tr>\n",
       "<tr>\n",
       "  <th>Science Fiction</th>        <td>    0.0608</td> <td>    0.035</td> <td>    1.716</td> <td> 0.086</td> <td>   -0.009</td> <td>    0.130</td>\n",
       "</tr>\n",
       "<tr>\n",
       "  <th>Fantasy</th>                <td>    0.0865</td> <td>    0.030</td> <td>    2.883</td> <td> 0.004</td> <td>    0.028</td> <td>    0.145</td>\n",
       "</tr>\n",
       "<tr>\n",
       "  <th>Fighting</th>               <td>    0.0506</td> <td>    0.037</td> <td>    1.356</td> <td> 0.175</td> <td>   -0.023</td> <td>    0.124</td>\n",
       "</tr>\n",
       "<tr>\n",
       "  <th>Economic</th>               <td>    0.1822</td> <td>    0.038</td> <td>    4.758</td> <td> 0.000</td> <td>    0.107</td> <td>    0.257</td>\n",
       "</tr>\n",
       "<tr>\n",
       "  <th>Simulation</th>             <td>   -0.1435</td> <td>    0.039</td> <td>   -3.635</td> <td> 0.000</td> <td>   -0.221</td> <td>   -0.066</td>\n",
       "</tr>\n",
       "<tr>\n",
       "  <th>Hexagon Grid</th>           <td>   -0.0576</td> <td>    0.041</td> <td>   -1.402</td> <td> 0.161</td> <td>   -0.138</td> <td>    0.023</td>\n",
       "</tr>\n",
       "<tr>\n",
       "  <th>Dice Rolling</th>           <td>    0.2016</td> <td>    0.027</td> <td>    7.464</td> <td> 0.000</td> <td>    0.149</td> <td>    0.255</td>\n",
       "</tr>\n",
       "<tr>\n",
       "  <th>Tile Placement</th>         <td>    0.2281</td> <td>    0.035</td> <td>    6.609</td> <td> 0.000</td> <td>    0.160</td> <td>    0.296</td>\n",
       "</tr>\n",
       "<tr>\n",
       "  <th>Grid Movement</th>          <td>    0.2190</td> <td>    0.038</td> <td>    5.816</td> <td> 0.000</td> <td>    0.145</td> <td>    0.293</td>\n",
       "</tr>\n",
       "<tr>\n",
       "  <th>Set Collection</th>         <td>    0.3451</td> <td>    0.028</td> <td>   12.470</td> <td> 0.000</td> <td>    0.291</td> <td>    0.399</td>\n",
       "</tr>\n",
       "<tr>\n",
       "  <th>Hand Management</th>        <td>    0.3931</td> <td>    0.025</td> <td>   15.691</td> <td> 0.000</td> <td>    0.344</td> <td>    0.442</td>\n",
       "</tr>\n",
       "<tr>\n",
       "  <th>Modular Board</th>          <td>    0.1615</td> <td>    0.035</td> <td>    4.588</td> <td> 0.000</td> <td>    0.092</td> <td>    0.230</td>\n",
       "</tr>\n",
       "<tr>\n",
       "  <th>Card Drafting</th>          <td>    0.2936</td> <td>    0.033</td> <td>    8.820</td> <td> 0.000</td> <td>    0.228</td> <td>    0.359</td>\n",
       "</tr>\n",
       "<tr>\n",
       "  <th>Variable Player Powers</th> <td>    0.3244</td> <td>    0.031</td> <td>   10.550</td> <td> 0.000</td> <td>    0.264</td> <td>    0.385</td>\n",
       "</tr>\n",
       "<tr>\n",
       "  <th>weight_sq</th>              <td>    0.0631</td> <td>    0.003</td> <td>   18.954</td> <td> 0.000</td> <td>    0.057</td> <td>    0.070</td>\n",
       "</tr>\n",
       "</table>\n",
       "<table class=\"simpletable\">\n",
       "<tr>\n",
       "  <th>Omnibus:</th>       <td>1066.118</td> <th>  Durbin-Watson:     </th> <td>   1.978</td> \n",
       "</tr>\n",
       "<tr>\n",
       "  <th>Prob(Omnibus):</th>  <td> 0.000</td>  <th>  Jarque-Bera (JB):  </th> <td>1404.677</td> \n",
       "</tr>\n",
       "<tr>\n",
       "  <th>Skew:</th>           <td> 0.512</td>  <th>  Prob(JB):          </th> <td>9.51e-306</td>\n",
       "</tr>\n",
       "<tr>\n",
       "  <th>Kurtosis:</th>       <td> 3.785</td>  <th>  Cond. No.          </th> <td>4.42e+04</td> \n",
       "</tr>\n",
       "</table><br/><br/>Notes:<br/>[1] Standard Errors assume that the covariance matrix of the errors is correctly specified.<br/>[2] The condition number is large, 4.42e+04. This might indicate that there are<br/>strong multicollinearity or other numerical problems."
      ],
      "text/plain": [
       "<class 'statsmodels.iolib.summary.Summary'>\n",
       "\"\"\"\n",
       "                            OLS Regression Results                            \n",
       "==============================================================================\n",
       "Dep. Variable:              log_owned   R-squared:                       0.114\n",
       "Model:                            OLS   Adj. R-squared:                  0.113\n",
       "Method:                 Least Squares   F-statistic:                     113.6\n",
       "Date:                Sat, 06 Nov 2021   Prob (F-statistic):               0.00\n",
       "Time:                        15:54:10   Log-Likelihood:                -34015.\n",
       "No. Observations:               20246   AIC:                         6.808e+04\n",
       "Df Residuals:                   20222   BIC:                         6.827e+04\n",
       "Df Model:                          23                                         \n",
       "Covariance Type:            nonrobust                                         \n",
       "==========================================================================================\n",
       "                             coef    std err          t      P>|t|      [0.025      0.975]\n",
       "------------------------------------------------------------------------------------------\n",
       "const                      6.1790      0.201     30.756      0.000       5.785       6.573\n",
       "year                      -0.0005   9.86e-05     -4.730      0.000      -0.001      -0.000\n",
       "player_age                 0.0275      0.004      6.442      0.000       0.019       0.036\n",
       "Children's Game           -0.1509      0.040     -3.753      0.000      -0.230      -0.072\n",
       "Abstract Strategy         -0.3153      0.039     -8.132      0.000      -0.391      -0.239\n",
       "Party Game                 0.1350      0.034      3.930      0.000       0.068       0.202\n",
       "Wargame                   -0.3062      0.038     -7.973      0.000      -0.382      -0.231\n",
       "Dice                      -0.0613      0.038     -1.628      0.103      -0.135       0.012\n",
       "Card Game                 -0.0516      0.024     -2.159      0.031      -0.098      -0.005\n",
       "Science Fiction            0.0608      0.035      1.716      0.086      -0.009       0.130\n",
       "Fantasy                    0.0865      0.030      2.883      0.004       0.028       0.145\n",
       "Fighting                   0.0506      0.037      1.356      0.175      -0.023       0.124\n",
       "Economic                   0.1822      0.038      4.758      0.000       0.107       0.257\n",
       "Simulation                -0.1435      0.039     -3.635      0.000      -0.221      -0.066\n",
       "Hexagon Grid              -0.0576      0.041     -1.402      0.161      -0.138       0.023\n",
       "Dice Rolling               0.2016      0.027      7.464      0.000       0.149       0.255\n",
       "Tile Placement             0.2281      0.035      6.609      0.000       0.160       0.296\n",
       "Grid Movement              0.2190      0.038      5.816      0.000       0.145       0.293\n",
       "Set Collection             0.3451      0.028     12.470      0.000       0.291       0.399\n",
       "Hand Management            0.3931      0.025     15.691      0.000       0.344       0.442\n",
       "Modular Board              0.1615      0.035      4.588      0.000       0.092       0.230\n",
       "Card Drafting              0.2936      0.033      8.820      0.000       0.228       0.359\n",
       "Variable Player Powers     0.3244      0.031     10.550      0.000       0.264       0.385\n",
       "weight_sq                  0.0631      0.003     18.954      0.000       0.057       0.070\n",
       "==============================================================================\n",
       "Omnibus:                     1066.118   Durbin-Watson:                   1.978\n",
       "Prob(Omnibus):                  0.000   Jarque-Bera (JB):             1404.677\n",
       "Skew:                           0.512   Prob(JB):                    9.51e-306\n",
       "Kurtosis:                       3.785   Cond. No.                     4.42e+04\n",
       "==============================================================================\n",
       "\n",
       "Notes:\n",
       "[1] Standard Errors assume that the covariance matrix of the errors is correctly specified.\n",
       "[2] The condition number is large, 4.42e+04. This might indicate that there are\n",
       "strong multicollinearity or other numerical problems.\n",
       "\"\"\""
      ]
     },
     "execution_count": 154,
     "metadata": {},
     "output_type": "execute_result"
    }
   ],
   "source": [
    "dropped_df = game_df.dropna()\n",
    "\n",
    "X =dropped_df.drop(columns =[\"name\",\"rating\",\"url\",\"num_owned\",\"designers\",\"publishers\",\"categories\",\"mechanics\",\"log_owned\"])\n",
    "X[\"weight_sq\"] = X.weight*X.weight\n",
    "X = X.drop(columns=\"weight\")\n",
    "#X[\"avg_time\"] = (X.min_time + X.max_time)/2\n",
    "X = X.drop(columns=[\"min_time\",\"max_time\"])\n",
    "#X[\"avg_players\"] = (X.min_players + X.max_players)/2\n",
    "X = X.drop(columns=[\"min_players\",\"max_players\"])\n",
    "y = dropped_df.log_owned\n",
    "X = sm.add_constant(X)\n",
    "\n",
    "model = sm.OLS(y,X)\n",
    "game_model = model.fit()\n",
    "\n",
    "game_model.summary()"
   ]
  },
  {
   "cell_type": "code",
   "execution_count": 709,
   "id": "eaff6dcf",
   "metadata": {},
   "outputs": [
    {
     "name": "stdout",
     "output_type": "stream",
     "text": [
      "1.7938939417566875\n"
     ]
    }
   ],
   "source": [
    "Q1 = np.log(game_df.num_owned).quantile(0.25)\n",
    "Q3 = np.log(game_df.num_owned).quantile(0.75)\n",
    "IQR = Q3 - Q1\n",
    "print(IQR)"
   ]
  },
  {
   "cell_type": "code",
   "execution_count": 712,
   "id": "587cf758",
   "metadata": {},
   "outputs": [],
   "source": [
    "log_owned = np.log(game_df.num_owned)"
   ]
  },
  {
   "cell_type": "code",
   "execution_count": 715,
   "id": "c63be562",
   "metadata": {},
   "outputs": [
    {
     "data": {
      "text/plain": [
       "406"
      ]
     },
     "execution_count": 715,
     "metadata": {},
     "output_type": "execute_result"
    }
   ],
   "source": [
    "sum((log_owned < (Q1 - 1.5 * IQR)) |(log_owned > (Q3 + 1.5 * IQR)))"
   ]
  },
  {
   "cell_type": "code",
   "execution_count": 793,
   "id": "82be1747",
   "metadata": {},
   "outputs": [
    {
     "data": {
      "text/plain": [
       "1630.0"
      ]
     },
     "execution_count": 793,
     "metadata": {},
     "output_type": "execute_result"
    }
   ],
   "source": [
    "game_df.sort_values(by=\"year\").groupby(by=\"year\").num_owned.mean().idxmax()\n",
    "#sns.barplot(x=y.index,y=y)"
   ]
  },
  {
   "cell_type": "code",
   "execution_count": 794,
   "id": "fd576dac",
   "metadata": {},
   "outputs": [
    {
     "data": {
      "text/html": [
       "<div>\n",
       "<style scoped>\n",
       "    .dataframe tbody tr th:only-of-type {\n",
       "        vertical-align: middle;\n",
       "    }\n",
       "\n",
       "    .dataframe tbody tr th {\n",
       "        vertical-align: top;\n",
       "    }\n",
       "\n",
       "    .dataframe thead th {\n",
       "        text-align: right;\n",
       "    }\n",
       "</style>\n",
       "<table border=\"1\" class=\"dataframe\">\n",
       "  <thead>\n",
       "    <tr style=\"text-align: right;\">\n",
       "      <th></th>\n",
       "      <th>name</th>\n",
       "      <th>url</th>\n",
       "      <th>year</th>\n",
       "      <th>num_owned</th>\n",
       "      <th>rating</th>\n",
       "      <th>weight</th>\n",
       "      <th>player_age</th>\n",
       "      <th>min_players</th>\n",
       "      <th>max_players</th>\n",
       "      <th>min_time</th>\n",
       "      <th>max_time</th>\n",
       "      <th>designers</th>\n",
       "      <th>publishers</th>\n",
       "      <th>categories</th>\n",
       "      <th>mechanics</th>\n",
       "      <th>log_owned</th>\n",
       "    </tr>\n",
       "  </thead>\n",
       "  <tbody>\n",
       "    <tr>\n",
       "      <th>3380</th>\n",
       "      <td>Cribbage</td>\n",
       "      <td>/boardgame/2398/cribbage</td>\n",
       "      <td>1630.0</td>\n",
       "      <td>13154</td>\n",
       "      <td>7.063</td>\n",
       "      <td>1.9</td>\n",
       "      <td>10.0</td>\n",
       "      <td>2.0</td>\n",
       "      <td>4.0</td>\n",
       "      <td>30.0</td>\n",
       "      <td>30.0</td>\n",
       "      <td>[Sir John Suckling]</td>\n",
       "      <td>[(Public Domain), (Unknown), 5th Peg, Acme Rul...</td>\n",
       "      <td>[Card Game]</td>\n",
       "      <td>[Hand Management]</td>\n",
       "      <td>9.484481</td>\n",
       "    </tr>\n",
       "  </tbody>\n",
       "</table>\n",
       "</div>"
      ],
      "text/plain": [
       "          name                       url    year  num_owned  rating  weight  \\\n",
       "3380  Cribbage  /boardgame/2398/cribbage  1630.0      13154   7.063     1.9   \n",
       "\n",
       "      player_age  min_players  max_players  min_time  max_time  \\\n",
       "3380        10.0          2.0          4.0      30.0      30.0   \n",
       "\n",
       "                designers                                         publishers  \\\n",
       "3380  [Sir John Suckling]  [(Public Domain), (Unknown), 5th Peg, Acme Rul...   \n",
       "\n",
       "       categories          mechanics  log_owned  \n",
       "3380  [Card Game]  [Hand Management]   9.484481  "
      ]
     },
     "execution_count": 794,
     "metadata": {},
     "output_type": "execute_result"
    }
   ],
   "source": [
    "game_df[game_df.year==1630]"
   ]
  },
  {
   "cell_type": "code",
   "execution_count": 180,
   "id": "79e312cd",
   "metadata": {},
   "outputs": [
    {
     "data": {
      "text/plain": [
       "RandomForestRegressor(max_depth=100)"
      ]
     },
     "execution_count": 180,
     "metadata": {},
     "output_type": "execute_result"
    }
   ],
   "source": [
    "dropped_df = game_df.dropna()\n",
    "\n",
    "y = dropped_df.log_owned\n",
    "X = dropped_df.drop(columns =[\"name\",\"url\",\"rating\",\"num_owned\",\"designers\",\n",
    "                           \"publishers\",\"categories\",\"mechanics\",\"log_owned\"])\n",
    "\n",
    "X, X_test, y, y_test = train_test_split(X,y, test_size=0.3)\n",
    "\n",
    "reg_tree = RandomForestRegressor(max_depth=100)\n",
    "reg_tree.fit(X, np.log(y))"
   ]
  },
  {
   "cell_type": "code",
   "execution_count": 181,
   "id": "41e165ea",
   "metadata": {},
   "outputs": [
    {
     "data": {
      "text/plain": [
       "0.34605177846447654"
      ]
     },
     "execution_count": 181,
     "metadata": {},
     "output_type": "execute_result"
    }
   ],
   "source": [
    "reg_tree.score(X_test,np.log(y_test))"
   ]
  },
  {
   "cell_type": "code",
   "execution_count": 173,
   "id": "7920661b",
   "metadata": {},
   "outputs": [
    {
     "data": {
      "text/plain": [
       "array([0.35979169, 0.08765287, 0.03786034, 0.076985  , 0.0733862 ,\n",
       "       0.08726031, 0.00632532, 0.01335507, 0.00990874, 0.00990321,\n",
       "       0.01294479, 0.01936431, 0.01183314, 0.01549643, 0.01251425,\n",
       "       0.01114281, 0.00920563, 0.00804821, 0.01778745, 0.01484299,\n",
       "       0.01400255, 0.01977164, 0.02136403, 0.01366174, 0.01647455,\n",
       "       0.01911673])"
      ]
     },
     "execution_count": 173,
     "metadata": {},
     "output_type": "execute_result"
    }
   ],
   "source": [
    "reg_tree.feature_importances_"
   ]
  },
  {
   "cell_type": "code",
   "execution_count": 170,
   "id": "20480efe",
   "metadata": {},
   "outputs": [
    {
     "data": {
      "text/plain": [
       "Index(['weight', 'player_age', 'min_players', 'max_players', 'min_time',\n",
       "       'max_time', 'Party Game', 'Wargame', 'Dice', 'Card Game', 'Fantasy',\n",
       "       'Hexagon Grid', 'Dice Rolling', 'Set Collection', 'Hand Management',\n",
       "       'Variable Player Powers'],\n",
       "      dtype='object')"
      ]
     },
     "execution_count": 170,
     "metadata": {},
     "output_type": "execute_result"
    }
   ],
   "source": [
    "X.columns"
   ]
  },
  {
   "cell_type": "code",
   "execution_count": null,
   "id": "2a02c5cc",
   "metadata": {},
   "outputs": [],
   "source": []
  }
 ],
 "metadata": {
  "kernelspec": {
   "display_name": "Python 3",
   "language": "python",
   "name": "python3"
  },
  "language_info": {
   "codemirror_mode": {
    "name": "ipython",
    "version": 3
   },
   "file_extension": ".py",
   "mimetype": "text/x-python",
   "name": "python",
   "nbconvert_exporter": "python",
   "pygments_lexer": "ipython3",
   "version": "3.8.8"
  }
 },
 "nbformat": 4,
 "nbformat_minor": 5
}
