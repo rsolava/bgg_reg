{
 "cells": [
  {
   "cell_type": "markdown",
   "id": "e68dbe95",
   "metadata": {},
   "source": [
    "## Gathering BGG Data\n",
    "\n",
    "This notebook gives the web scraping pipeline to get data for each board game on BGG"
   ]
  },
  {
   "cell_type": "code",
   "execution_count": 1,
   "id": "2c359b49",
   "metadata": {},
   "outputs": [],
   "source": [
    "import requests, bs4\n",
    "from bs4 import BeautifulSoup as bs\n",
    "import pandas as pd\n",
    "import re\n",
    "import time, os\n",
    "import ast\n",
    "import matplotlib.pyplot as plt\n",
    "\n",
    "import statsmodels.api as sm\n",
    "import seaborn as sns\n",
    "import numpy as np\n",
    "from sklearn.tree import DecisionTreeRegressor\n",
    "from sklearn.ensemble import RandomForestRegressor\n",
    "from sklearn.model_selection import train_test_split\n",
    "from sklearn.linear_model import LinearRegression\n",
    "from sklearn.linear_model import HuberRegressor\n",
    "from scipy import stats\n",
    "import pickle"
   ]
  },
  {
   "cell_type": "code",
   "execution_count": 2,
   "id": "cab04946",
   "metadata": {},
   "outputs": [],
   "source": [
    "from selenium import webdriver\n",
    "from selenium.webdriver.common.keys import Keys"
   ]
  },
  {
   "cell_type": "code",
   "execution_count": 103,
   "id": "035277b4",
   "metadata": {},
   "outputs": [],
   "source": [
    "#url = \"https://boardgamegeek.com/boardgame/586/front/stats\"\n",
    "\n",
    "#response = requests.get(url)\n",
    "#status = response.status_code\n",
    "#if status == 200:\n",
    "#  page = response.text\n",
    "#  soup = bs(page)\n",
    "#else:\n",
    "#  print(f\"Oops! Received status code {status}\")"
   ]
  },
  {
   "cell_type": "code",
   "execution_count": null,
   "id": "e6d44f29",
   "metadata": {},
   "outputs": [],
   "source": []
  },
  {
   "cell_type": "code",
   "execution_count": 153,
   "id": "575791aa",
   "metadata": {},
   "outputs": [
    {
     "name": "stderr",
     "output_type": "stream",
     "text": [
      "<ipython-input-153-3ed8d520c4d8>:4: DeprecationWarning: executable_path has been deprecated, please pass in a Service object\n",
      "  driver = webdriver.Chrome(chromedriver)\n"
     ]
    }
   ],
   "source": [
    "chromedriver = \"/Applications/chromedriver\" # path to the chromedriver executable\n",
    "os.environ[\"webdriver.chrome.driver\"] = chromedriver\n",
    "\n",
    "driver = webdriver.Chrome(chromedriver)"
   ]
  },
  {
   "cell_type": "markdown",
   "id": "3309d70c",
   "metadata": {},
   "source": [
    "## Stats Page\n",
    "\n",
    "We'll begin by exploring the stats page for one game. From here, we should be able to get\n",
    "\n",
    "* Number owned\n",
    "* Average rating\n",
    "* Weight\n",
    "* Recommended age\n",
    "* Min, max estimated time\n",
    "* Min, max player count\n",
    "* Community min, max and best player counts\n",
    "\n",
    "Other features to consider:\n",
    "\n",
    "* \\# of ratings\n",
    "* Std deviation of ratings\n",
    "* \\# of comments\n",
    "* \\# of plays\n",
    "* \\# of fans\n",
    "* \\# of page views\n",
    "* Prev. owned\n",
    "* Wishlist"
   ]
  },
  {
   "cell_type": "code",
   "execution_count": 105,
   "id": "399b0a52",
   "metadata": {},
   "outputs": [],
   "source": [
    "\n",
    "driver.get(\"https://boardgamegeek.com/boardgame/122691/magnum-opus/stats\")\n",
    "\n",
    "soup = bs(driver.page_source,'html5lib')"
   ]
  },
  {
   "cell_type": "code",
   "execution_count": null,
   "id": "45b67168",
   "metadata": {},
   "outputs": [],
   "source": []
  },
  {
   "cell_type": "code",
   "execution_count": 106,
   "id": "2113d60c",
   "metadata": {},
   "outputs": [
    {
     "data": {
      "text/plain": [
       "'316'"
      ]
     },
     "execution_count": 106,
     "metadata": {},
     "output_type": "execute_result"
    }
   ],
   "source": [
    "soup.find_all(href=re.compile(\"status=own\"))[0].text"
   ]
  },
  {
   "cell_type": "code",
   "execution_count": 107,
   "id": "4b8d175a",
   "metadata": {},
   "outputs": [
    {
     "data": {
      "text/plain": [
       "'6.967'"
      ]
     },
     "execution_count": 107,
     "metadata": {},
     "output_type": "execute_result"
    }
   ],
   "source": [
    "soup.find(text=re.compile(\"Avg. Rating\")).next.next.text.strip()"
   ]
  },
  {
   "cell_type": "code",
   "execution_count": 9,
   "id": "fe7237aa",
   "metadata": {},
   "outputs": [],
   "source": [
    "def get_num_owned(soup):\n",
    "    try:\n",
    "        num_str = soup.find(href=re.compile(\"status=own\")).text\n",
    "        num = int(num_str.replace(\",\",\"\"))\n",
    "        return num\n",
    "    except:\n",
    "        return None"
   ]
  },
  {
   "cell_type": "code",
   "execution_count": 109,
   "id": "31804ed2",
   "metadata": {},
   "outputs": [
    {
     "data": {
      "text/plain": [
       "316"
      ]
     },
     "execution_count": 109,
     "metadata": {},
     "output_type": "execute_result"
    }
   ],
   "source": [
    "get_num_owned(soup)"
   ]
  },
  {
   "cell_type": "code",
   "execution_count": 10,
   "id": "10231bc8",
   "metadata": {},
   "outputs": [],
   "source": [
    "def get_rating(soup):\n",
    "    try:\n",
    "        return float(soup.find(text=re.compile(\"Avg. Rating\")).next.next.text.strip())\n",
    "    except:\n",
    "        return None"
   ]
  },
  {
   "cell_type": "code",
   "execution_count": 111,
   "id": "817788df",
   "metadata": {},
   "outputs": [
    {
     "data": {
      "text/plain": [
       "6.967"
      ]
     },
     "execution_count": 111,
     "metadata": {},
     "output_type": "execute_result"
    }
   ],
   "source": [
    "get_rating(soup)"
   ]
  },
  {
   "cell_type": "markdown",
   "id": "ba60bf4f",
   "metadata": {},
   "source": [
    "### Gameplay items\n",
    "\n",
    "The gameplay item class contains 4 relevant pieces of information for us.\n",
    "\n",
    "* Player count\n",
    "* Play time\n",
    "* Player age\n",
    "* Weight"
   ]
  },
  {
   "cell_type": "code",
   "execution_count": 112,
   "id": "1269637e",
   "metadata": {},
   "outputs": [
    {
     "name": "stdout",
     "output_type": "stream",
     "text": [
      "[' \\t\\t\\t\\t \\t\\t\\t\\t\\t     2–4  \\t\\t\\t\\t\\tPlayers \\t\\t\\t\\t \\t\\t\\t\\t \\t\\t\\t\\t\\t \\t\\t\\t\\t\\t\\t \\t\\t\\t\\t\\t\\t\\tCommunity: \\t\\t\\t\\t\\t\\t\\t \\t\\t\\t\\t\\t\\t\\t\\t(no votes) \\t\\t\\t\\t\\t\\t\\t \\t\\t\\t\\t\\t\\t\\t \\t\\t\\t\\t\\t\\t\\t\\t3–4 \\t\\t\\t\\t\\t\\t\\t \\t\\t\\t\\t\\t\\t\\t \\t\\t\\t\\t\\t\\t\\t\\t— \\t\\t\\t\\t\\t\\t\\t\\tBest: 4 \\t\\t\\t\\t\\t\\t\\t \\t\\t\\t\\t\\t\\t \\t\\t\\t\\t\\t \\t\\t\\t\\t \\t\\t\\t', ' \\t\\t\\t\\t \\t\\t\\t\\t\\t \\t\\t\\t\\t\\t \\t\\t\\t\\t\\t\\t     60  Min \\t\\t\\t\\t\\t \\t\\t\\t\\t \\t\\t\\t\\t \\t\\t\\t\\t\\t \\t\\t\\t\\t\\t\\tPlaying Time \\t\\t\\t\\t\\t \\t\\t\\t\\t\\t \\t\\t\\t\\t \\t\\t\\t', ' \\t\\t\\t\\t \\t\\t\\t\\t\\tAge: \\t\\t\\t\\t\\t \\t\\t\\t\\t\\t \\t\\t\\t\\t\\t\\t12+ \\t\\t\\t\\t\\t \\t\\t\\t\\t \\t\\t\\t\\t \\t\\t\\t\\t\\t \\t\\t\\t\\t\\t \\t\\t\\t\\t\\t\\t \\t\\t\\t\\t\\t\\t\\tCommunity: 12+ \\t\\t\\t\\t\\t\\t \\t\\t\\t\\t\\t \\t\\t\\t\\t \\t\\t\\t', \" \\t\\t\\t\\t \\t\\t\\t\\t\\tWeight: \\t\\t\\t\\t\\t \\t\\t\\t\\t\\t\\t–– \\t\\t\\t\\t\\t \\t\\t\\t\\t\\t \\t\\t\\t\\t\\t\\t \\t\\t\\t\\t\\t\\t\\t2.54 \\t\\t\\t\\t\\t\\t \\t\\t\\t\\t\\t\\t/ 5 Complexity Rating \\t\\t\\t\\t\\t  \\t\\t\\t\\t \\t\\t\\t\\t \\t\\t\\t\\t\\t \\t\\t\\t\\t\\t\\t \\t\\t\\t\\t\\t\\t\\t'Complexity' Rating Results \\t\\t\\t\\t\\t\\t \\t\\t\\t\\t\\t  \\t\\t\\t\\t\\t \\t\\t\\t\\t\\t\\t Learn more about complexity ratings \\t\\t\\t\\t\\t \\t\\t\\t\\t \\t\\t\\t\"]\n"
     ]
    }
   ],
   "source": [
    "gameplay_list = soup.find_all(class_=\"gameplay-item\")\n",
    "\n",
    "print([x.text for x in gameplay_list])"
   ]
  },
  {
   "cell_type": "markdown",
   "id": "2c1be9c7",
   "metadata": {},
   "source": [
    "Game weight and player age are fairly straight forward"
   ]
  },
  {
   "cell_type": "code",
   "execution_count": 113,
   "id": "ed749989",
   "metadata": {},
   "outputs": [
    {
     "data": {
      "text/plain": [
       "2.54"
      ]
     },
     "execution_count": 113,
     "metadata": {},
     "output_type": "execute_result"
    }
   ],
   "source": [
    "float(gameplay_list[3].find(text=re.compile(\"/ 5\")).previous.strip())"
   ]
  },
  {
   "cell_type": "code",
   "execution_count": 11,
   "id": "e8188acd",
   "metadata": {},
   "outputs": [],
   "source": [
    "def get_weight(soup):\n",
    "    try:\n",
    "        gameplay_list = soup.find_all(class_=\"gameplay-item\")\n",
    "\n",
    "        return float(gameplay_list[3].find(text=re.compile(\"/ 5\")).previous.strip())\n",
    "    \n",
    "    except:\n",
    "        return None"
   ]
  },
  {
   "cell_type": "code",
   "execution_count": 115,
   "id": "ffa31ee3",
   "metadata": {},
   "outputs": [
    {
     "data": {
      "text/plain": [
       "2.54"
      ]
     },
     "execution_count": 115,
     "metadata": {},
     "output_type": "execute_result"
    }
   ],
   "source": [
    "get_weight(soup)"
   ]
  },
  {
   "cell_type": "code",
   "execution_count": 12,
   "id": "6212b548",
   "metadata": {},
   "outputs": [],
   "source": [
    "#Fix this, so not dependant on +\n",
    "def get_age(soup):\n",
    "    try:\n",
    "        gameplay_list = soup.find_all(class_=\"gameplay-item\")\n",
    "        return int(gameplay_list[2].find(text=re.compile(\"\\+\")).strip().replace(\"+\",\"\"))\n",
    "    except:\n",
    "        return None"
   ]
  },
  {
   "cell_type": "code",
   "execution_count": 117,
   "id": "20b228df",
   "metadata": {},
   "outputs": [],
   "source": [
    "x = get_age(soup)"
   ]
  },
  {
   "cell_type": "code",
   "execution_count": 118,
   "id": "2f2f6c54",
   "metadata": {},
   "outputs": [
    {
     "name": "stdout",
     "output_type": "stream",
     "text": [
      "12\n"
     ]
    }
   ],
   "source": [
    "print(x)"
   ]
  },
  {
   "cell_type": "markdown",
   "id": "9cae10bd",
   "metadata": {},
   "source": [
    "Note this is only the age \"on the box\". There is also a community recommended age, which I am not scraping at this time. (Something to look at later)"
   ]
  },
  {
   "cell_type": "markdown",
   "id": "9bc6d7db",
   "metadata": {},
   "source": [
    "Play time and player counts are trickier. The way the html is structured changes based on if the minimum and maximum values are the same. For example the player count may appear as \n",
    "\n",
    "2 Players\n",
    "\n",
    "OR\n",
    "\n",
    "2 - 6 Players\n",
    "\n",
    "So we have to deal with those cases here."
   ]
  },
  {
   "cell_type": "code",
   "execution_count": 28,
   "id": "10cf2656",
   "metadata": {},
   "outputs": [
    {
     "data": {
      "text/plain": [
       "[<span class=\"ng-binding ng-scope\" ng-if=\"min &gt; 0\">60</span>]"
      ]
     },
     "execution_count": 28,
     "metadata": {},
     "output_type": "execute_result"
    }
   ],
   "source": [
    "gameplay_list[1].find_all(class_=re.compile(\"ng-binding ng-scope\"))"
   ]
  },
  {
   "cell_type": "code",
   "execution_count": null,
   "id": "26ef858c",
   "metadata": {},
   "outputs": [],
   "source": []
  },
  {
   "cell_type": "code",
   "execution_count": 13,
   "id": "7e1cac87",
   "metadata": {},
   "outputs": [],
   "source": [
    "def get_minmax_time(soup):\n",
    "    try:\n",
    "        gameplay_list = soup.find_all(class_=\"gameplay-item\")\n",
    "        time_values = gameplay_list[1].find_all(class_=re.compile(\"ng-binding ng-scope\"))\n",
    "        if len(time_values) == 3:\n",
    "            return int(time_values[0].text), int(time_values[1].text.replace(\"–\",\"\"))\n",
    "        else:\n",
    "            #If only one value, same min and max time\n",
    "            value = int(time_values[0].text)\n",
    "            return value,value\n",
    "    except:\n",
    "        return None, None"
   ]
  },
  {
   "cell_type": "code",
   "execution_count": 30,
   "id": "79e7c213",
   "metadata": {},
   "outputs": [
    {
     "data": {
      "text/plain": [
       "(60, 60)"
      ]
     },
     "execution_count": 30,
     "metadata": {},
     "output_type": "execute_result"
    }
   ],
   "source": [
    "get_minmax_time(soup)"
   ]
  },
  {
   "cell_type": "code",
   "execution_count": 31,
   "id": "99d6f0e7",
   "metadata": {},
   "outputs": [
    {
     "data": {
      "text/plain": [
       "[<span class=\"ng-binding ng-scope\" ng-if=\"min &gt; 0\">2</span>,\n",
       " <span class=\"ng-binding ng-scope\" ng-if=\"max&gt;0 &amp;&amp; min != max\"><!-- ngIf: min>0 --><span class=\"ng-binding ng-scope\" ng-if=\"min&gt;0\">–</span><!-- end ngIf: min>0 -->3</span>,\n",
       " <span class=\"ng-binding ng-scope\" ng-if=\"min&gt;0\">–</span>]"
      ]
     },
     "execution_count": 31,
     "metadata": {},
     "output_type": "execute_result"
    }
   ],
   "source": [
    "gameplay_list[0].find_all(class_=re.compile(\"ng-binding ng-scope\"))"
   ]
  },
  {
   "cell_type": "code",
   "execution_count": 14,
   "id": "82355ca2",
   "metadata": {},
   "outputs": [],
   "source": [
    "def get_minmax_players(soup):\n",
    "    try:\n",
    "        gameplay_list = soup.find_all(class_=\"gameplay-item\")\n",
    "        players_values = gameplay_list[0].find_all(class_=re.compile(\"ng-binding ng-scope\"))\n",
    "        if len(players_values) == 3:\n",
    "            return int(players_values[0].text), int(players_values[1].text.replace(\"–\",\"\"))\n",
    "        else:\n",
    "            #If only one player count, min and max are the same\n",
    "            value = int(players_values[0].text)\n",
    "            return value, value\n",
    "    except:\n",
    "        return None, None\n",
    "    \n"
   ]
  },
  {
   "cell_type": "code",
   "execution_count": null,
   "id": "3eb02386",
   "metadata": {},
   "outputs": [],
   "source": []
  },
  {
   "cell_type": "code",
   "execution_count": 33,
   "id": "2bb2940c",
   "metadata": {},
   "outputs": [
    {
     "data": {
      "text/plain": [
       "(2, 3)"
      ]
     },
     "execution_count": 33,
     "metadata": {},
     "output_type": "execute_result"
    }
   ],
   "source": [
    "get_minmax_players(soup)"
   ]
  },
  {
   "cell_type": "markdown",
   "id": "548fa9e5",
   "metadata": {},
   "source": [
    "There is also community recommended number of players (a min, max and best count). This is again something to look at later."
   ]
  },
  {
   "cell_type": "markdown",
   "id": "29beeb55",
   "metadata": {},
   "source": [
    "## Credits Page\n",
    "\n",
    "Like we did for the stats page, we'll now try to collect the data for one credits page. Features we are looking to scrape are:\n",
    "\n",
    "* Designer(s)\n",
    "* Publisher(s)\n",
    "* Categories\n",
    "* Mechanisms\n",
    "\n",
    "The should all be fairly similar, but note that each of these may have more than one entry. A slight challenge to account for."
   ]
  },
  {
   "cell_type": "code",
   "execution_count": 92,
   "id": "e077e826",
   "metadata": {},
   "outputs": [],
   "source": [
    "\n",
    "driver.get(\"https://boardgamegeek.com/boardgame/122691/magnum-opus/credits\")\n",
    "\n",
    "soup = bs(driver.page_source,'html5lib')"
   ]
  },
  {
   "cell_type": "code",
   "execution_count": 15,
   "id": "5fbe396d",
   "metadata": {},
   "outputs": [],
   "source": [
    "def get_publishers(soup):\n",
    "    try:\n",
    "        pubs = soup.find(attrs={\"name\":\"boardgamepublisher\"}).find_next(\"div\").find_all(\"a\")\n",
    "        pubs = [x.text.strip() for x in pubs]\n",
    "        return pubs\n",
    "    except:\n",
    "        return None\n"
   ]
  },
  {
   "cell_type": "code",
   "execution_count": 94,
   "id": "b43b351a",
   "metadata": {},
   "outputs": [
    {
     "data": {
      "text/plain": [
       "['Clever Mojo Games', 'Game Salute']"
      ]
     },
     "execution_count": 94,
     "metadata": {},
     "output_type": "execute_result"
    }
   ],
   "source": [
    "get_publishers(soup)"
   ]
  },
  {
   "cell_type": "code",
   "execution_count": 16,
   "id": "18669a8c",
   "metadata": {},
   "outputs": [],
   "source": [
    "def get_designers(soup):\n",
    "    try:\n",
    "        designers = soup.find(attrs={\"name\":\"boardgamedesigner\"}).find_next(\"div\").find_all(\"a\")\n",
    "        designers = [x.text.strip() for x in designers]\n",
    "        return designers\n",
    "    except:\n",
    "        return None"
   ]
  },
  {
   "cell_type": "code",
   "execution_count": 96,
   "id": "c2f82f28",
   "metadata": {},
   "outputs": [
    {
     "data": {
      "text/plain": [
       "['Ian Stedman']"
      ]
     },
     "execution_count": 96,
     "metadata": {},
     "output_type": "execute_result"
    }
   ],
   "source": [
    "get_designers(soup)"
   ]
  },
  {
   "cell_type": "code",
   "execution_count": 17,
   "id": "0e4f1994",
   "metadata": {},
   "outputs": [],
   "source": [
    "def get_categories(soup):\n",
    "    try:\n",
    "        cats = soup.find(attrs={\"name\":\"boardgamecategory\"}).find_next(\"div\").find_all(\"a\")\n",
    "        cats = [x.text.strip() for x in cats]\n",
    "        return cats\n",
    "    except:\n",
    "        return None"
   ]
  },
  {
   "cell_type": "code",
   "execution_count": 98,
   "id": "cf25267f",
   "metadata": {},
   "outputs": [
    {
     "data": {
      "text/plain": [
       "['Card Game', 'Fantasy', 'Medieval', 'Mythology']"
      ]
     },
     "execution_count": 98,
     "metadata": {},
     "output_type": "execute_result"
    }
   ],
   "source": [
    "get_categories(soup)"
   ]
  },
  {
   "cell_type": "code",
   "execution_count": 18,
   "id": "dfb2a686",
   "metadata": {},
   "outputs": [],
   "source": [
    "def get_mechanics(soup):\n",
    "    try:\n",
    "        mechs = soup.find(attrs={\"name\":\"boardgamemechanic\"}).find_next(\"div\").find_all(\"a\")\n",
    "        mechs = [x.text.strip() for x in mechs]\n",
    "        return mechs\n",
    "    except:\n",
    "        return None"
   ]
  },
  {
   "cell_type": "code",
   "execution_count": 244,
   "id": "15cbc187",
   "metadata": {},
   "outputs": [],
   "source": [
    "get_mechanics(soup)"
   ]
  },
  {
   "cell_type": "markdown",
   "id": "6162bbf3",
   "metadata": {},
   "source": [
    "## URL Collections\n",
    "\n",
    "Now let's collect the name, url, and year for all the games.\n",
    "\n",
    "We'll start by creating an empty dataframe to fill in with the information as we get it."
   ]
  },
  {
   "cell_type": "code",
   "execution_count": 177,
   "id": "731f1f2c",
   "metadata": {},
   "outputs": [
    {
     "data": {
      "text/html": [
       "<div>\n",
       "<style scoped>\n",
       "    .dataframe tbody tr th:only-of-type {\n",
       "        vertical-align: middle;\n",
       "    }\n",
       "\n",
       "    .dataframe tbody tr th {\n",
       "        vertical-align: top;\n",
       "    }\n",
       "\n",
       "    .dataframe thead th {\n",
       "        text-align: right;\n",
       "    }\n",
       "</style>\n",
       "<table border=\"1\" class=\"dataframe\">\n",
       "  <thead>\n",
       "    <tr style=\"text-align: right;\">\n",
       "      <th></th>\n",
       "      <th>name</th>\n",
       "      <th>url</th>\n",
       "      <th>year</th>\n",
       "      <th>num_owned</th>\n",
       "      <th>rating</th>\n",
       "      <th>weight</th>\n",
       "      <th>player_age</th>\n",
       "      <th>min_players</th>\n",
       "      <th>max_players</th>\n",
       "      <th>min_time</th>\n",
       "      <th>max_time</th>\n",
       "      <th>designers</th>\n",
       "      <th>publishers</th>\n",
       "      <th>categories</th>\n",
       "      <th>mechanics</th>\n",
       "    </tr>\n",
       "  </thead>\n",
       "  <tbody>\n",
       "  </tbody>\n",
       "</table>\n",
       "</div>"
      ],
      "text/plain": [
       "Empty DataFrame\n",
       "Columns: [name, url, year, num_owned, rating, weight, player_age, min_players, max_players, min_time, max_time, designers, publishers, categories, mechanics]\n",
       "Index: []"
      ]
     },
     "execution_count": 177,
     "metadata": {},
     "output_type": "execute_result"
    }
   ],
   "source": [
    "column_names = [\"name\",\"url\",\"year\", \"num_owned\", \"rating\", \"weight\", \"player_age\", \"min_players\",\"max_players\",\n",
    "               \"min_time\",\"max_time\",\"designers\",\"publishers\",\"categories\",\"mechanics\"]\n",
    "\n",
    "df = pd.DataFrame(columns = column_names)\n",
    "\n",
    "df"
   ]
  },
  {
   "cell_type": "code",
   "execution_count": 178,
   "id": "537b9d90",
   "metadata": {},
   "outputs": [
    {
     "name": "stdout",
     "output_type": "stream",
     "text": [
      "0.9389671361502347 % pages read, 2 in total\n",
      "5.633802816901409 % pages read, 12 in total\n",
      "10.328638497652582 % pages read, 22 in total\n",
      "15.023474178403756 % pages read, 32 in total\n",
      "19.718309859154928 % pages read, 42 in total\n",
      "24.413145539906104 % pages read, 52 in total\n",
      "29.107981220657276 % pages read, 62 in total\n",
      "33.80281690140845 % pages read, 72 in total\n",
      "38.497652582159624 % pages read, 82 in total\n",
      "43.1924882629108 % pages read, 92 in total\n",
      "47.88732394366197 % pages read, 102 in total\n",
      "52.58215962441315 % pages read, 112 in total\n",
      "57.27699530516433 % pages read, 122 in total\n",
      "61.97183098591549 % pages read, 132 in total\n",
      "66.66666666666666 % pages read, 142 in total\n",
      "71.36150234741784 % pages read, 152 in total\n",
      "76.05633802816901 % pages read, 162 in total\n",
      "80.75117370892019 % pages read, 172 in total\n",
      "85.44600938967136 % pages read, 182 in total\n",
      "90.14084507042254 % pages read, 192 in total\n",
      "94.83568075117371 % pages read, 202 in total\n",
      "99.53051643192488 % pages read, 212 in total\n"
     ]
    }
   ],
   "source": [
    "import time\n",
    "\n",
    "base_url = \"https://boardgamegeek.com/browse/boardgame/page/\"\n",
    "start = 1\n",
    "stop = 214\n",
    "\n",
    "for i in range(start, stop+1):\n",
    "    if  (i - start) % 10 == 2:\n",
    "        print((i-start)/(stop-start)*100, \"% pages read,\", (i-start), \"in total\")\n",
    "        df.to_csv(\"games.csv\", index=False)\n",
    "    url = base_url + str(i)\n",
    "    driver.get(url)\n",
    "    soup = bs(driver.page_source,'html5lib')\n",
    "    rows = []\n",
    "    for x in soup.find_all(\"div\", attrs={\"id\":re.compile(\"results_objectname\")}):\n",
    "        try:\n",
    "            game_url = x.find(\"a\")[\"href\"]\n",
    "        except:\n",
    "            game_url = None\n",
    "        try:\n",
    "            game_name = x.find(\"a\").text\n",
    "        except:\n",
    "            game_name = None\n",
    "        try:\n",
    "            game_year = int(x.find(class_=\"smallerfont dull\").text.replace(\"(\",\"\").replace(\")\",\"\"))\n",
    "        except:\n",
    "            game_year = None\n",
    "        rows.append([game_name,game_url, game_year])\n",
    "    df_temp = pd.DataFrame(rows, columns = [\"name\",\"url\",\"year\"])\n",
    "    df = pd.concat([df,df_temp])\n",
    "    time.sleep(5)\n",
    "\n",
    "df.to_csv(\"games.csv\", index=False)"
   ]
  },
  {
   "cell_type": "code",
   "execution_count": 183,
   "id": "17abd2c5",
   "metadata": {},
   "outputs": [
    {
     "data": {
      "text/html": [
       "<div>\n",
       "<style scoped>\n",
       "    .dataframe tbody tr th:only-of-type {\n",
       "        vertical-align: middle;\n",
       "    }\n",
       "\n",
       "    .dataframe tbody tr th {\n",
       "        vertical-align: top;\n",
       "    }\n",
       "\n",
       "    .dataframe thead th {\n",
       "        text-align: right;\n",
       "    }\n",
       "</style>\n",
       "<table border=\"1\" class=\"dataframe\">\n",
       "  <thead>\n",
       "    <tr style=\"text-align: right;\">\n",
       "      <th></th>\n",
       "      <th>name</th>\n",
       "      <th>url</th>\n",
       "      <th>year</th>\n",
       "      <th>num_owned</th>\n",
       "      <th>rating</th>\n",
       "      <th>weight</th>\n",
       "      <th>player_age</th>\n",
       "      <th>min_players</th>\n",
       "      <th>max_players</th>\n",
       "      <th>min_time</th>\n",
       "      <th>max_time</th>\n",
       "      <th>designers</th>\n",
       "      <th>publishers</th>\n",
       "      <th>categories</th>\n",
       "      <th>mechanics</th>\n",
       "    </tr>\n",
       "  </thead>\n",
       "  <tbody>\n",
       "    <tr>\n",
       "      <th>0</th>\n",
       "      <td>Gloomhaven</td>\n",
       "      <td>/boardgame/174430/gloomhaven</td>\n",
       "      <td>2017</td>\n",
       "      <td>None</td>\n",
       "      <td>None</td>\n",
       "      <td>None</td>\n",
       "      <td>None</td>\n",
       "      <td>None</td>\n",
       "      <td>None</td>\n",
       "      <td>None</td>\n",
       "      <td>None</td>\n",
       "      <td>None</td>\n",
       "      <td>None</td>\n",
       "      <td>None</td>\n",
       "      <td>None</td>\n",
       "    </tr>\n",
       "    <tr>\n",
       "      <th>1</th>\n",
       "      <td>Pandemic Legacy: Season 1</td>\n",
       "      <td>/boardgame/161936/pandemic-legacy-season-1</td>\n",
       "      <td>2015</td>\n",
       "      <td>None</td>\n",
       "      <td>None</td>\n",
       "      <td>None</td>\n",
       "      <td>None</td>\n",
       "      <td>None</td>\n",
       "      <td>None</td>\n",
       "      <td>None</td>\n",
       "      <td>None</td>\n",
       "      <td>None</td>\n",
       "      <td>None</td>\n",
       "      <td>None</td>\n",
       "      <td>None</td>\n",
       "    </tr>\n",
       "    <tr>\n",
       "      <th>2</th>\n",
       "      <td>Brass: Birmingham</td>\n",
       "      <td>/boardgame/224517/brass-birmingham</td>\n",
       "      <td>2018</td>\n",
       "      <td>None</td>\n",
       "      <td>None</td>\n",
       "      <td>None</td>\n",
       "      <td>None</td>\n",
       "      <td>None</td>\n",
       "      <td>None</td>\n",
       "      <td>None</td>\n",
       "      <td>None</td>\n",
       "      <td>None</td>\n",
       "      <td>None</td>\n",
       "      <td>None</td>\n",
       "      <td>None</td>\n",
       "    </tr>\n",
       "    <tr>\n",
       "      <th>3</th>\n",
       "      <td>Terraforming Mars</td>\n",
       "      <td>/boardgame/167791/terraforming-mars</td>\n",
       "      <td>2016</td>\n",
       "      <td>None</td>\n",
       "      <td>None</td>\n",
       "      <td>None</td>\n",
       "      <td>None</td>\n",
       "      <td>None</td>\n",
       "      <td>None</td>\n",
       "      <td>None</td>\n",
       "      <td>None</td>\n",
       "      <td>None</td>\n",
       "      <td>None</td>\n",
       "      <td>None</td>\n",
       "      <td>None</td>\n",
       "    </tr>\n",
       "    <tr>\n",
       "      <th>4</th>\n",
       "      <td>Gloomhaven: Jaws of the Lion</td>\n",
       "      <td>/boardgame/291457/gloomhaven-jaws-lion</td>\n",
       "      <td>2020</td>\n",
       "      <td>None</td>\n",
       "      <td>None</td>\n",
       "      <td>None</td>\n",
       "      <td>None</td>\n",
       "      <td>None</td>\n",
       "      <td>None</td>\n",
       "      <td>None</td>\n",
       "      <td>None</td>\n",
       "      <td>None</td>\n",
       "      <td>None</td>\n",
       "      <td>None</td>\n",
       "      <td>None</td>\n",
       "    </tr>\n",
       "    <tr>\n",
       "      <th>...</th>\n",
       "      <td>...</td>\n",
       "      <td>...</td>\n",
       "      <td>...</td>\n",
       "      <td>...</td>\n",
       "      <td>...</td>\n",
       "      <td>...</td>\n",
       "      <td>...</td>\n",
       "      <td>...</td>\n",
       "      <td>...</td>\n",
       "      <td>...</td>\n",
       "      <td>...</td>\n",
       "      <td>...</td>\n",
       "      <td>...</td>\n",
       "      <td>...</td>\n",
       "      <td>...</td>\n",
       "    </tr>\n",
       "    <tr>\n",
       "      <th>95</th>\n",
       "      <td>Labyrinth</td>\n",
       "      <td>/boardgame/6546/labyrinth</td>\n",
       "      <td>1940.0</td>\n",
       "      <td>None</td>\n",
       "      <td>None</td>\n",
       "      <td>None</td>\n",
       "      <td>None</td>\n",
       "      <td>None</td>\n",
       "      <td>None</td>\n",
       "      <td>None</td>\n",
       "      <td>None</td>\n",
       "      <td>None</td>\n",
       "      <td>None</td>\n",
       "      <td>None</td>\n",
       "      <td>None</td>\n",
       "    </tr>\n",
       "    <tr>\n",
       "      <th>96</th>\n",
       "      <td>Dirty Minds: The Game of Naughty Clues</td>\n",
       "      <td>/boardgame/2956/dirty-minds-game-naughty-clues</td>\n",
       "      <td>1990.0</td>\n",
       "      <td>None</td>\n",
       "      <td>None</td>\n",
       "      <td>None</td>\n",
       "      <td>None</td>\n",
       "      <td>None</td>\n",
       "      <td>None</td>\n",
       "      <td>None</td>\n",
       "      <td>None</td>\n",
       "      <td>None</td>\n",
       "      <td>None</td>\n",
       "      <td>None</td>\n",
       "      <td>None</td>\n",
       "    </tr>\n",
       "    <tr>\n",
       "      <th>97</th>\n",
       "      <td>MindTrap</td>\n",
       "      <td>/boardgame/1923/mindtrap</td>\n",
       "      <td>1991.0</td>\n",
       "      <td>None</td>\n",
       "      <td>None</td>\n",
       "      <td>None</td>\n",
       "      <td>None</td>\n",
       "      <td>None</td>\n",
       "      <td>None</td>\n",
       "      <td>None</td>\n",
       "      <td>None</td>\n",
       "      <td>None</td>\n",
       "      <td>None</td>\n",
       "      <td>None</td>\n",
       "      <td>None</td>\n",
       "    </tr>\n",
       "    <tr>\n",
       "      <th>98</th>\n",
       "      <td>Phase 10</td>\n",
       "      <td>/boardgame/1258/phase-10</td>\n",
       "      <td>1982.0</td>\n",
       "      <td>None</td>\n",
       "      <td>None</td>\n",
       "      <td>None</td>\n",
       "      <td>None</td>\n",
       "      <td>None</td>\n",
       "      <td>None</td>\n",
       "      <td>None</td>\n",
       "      <td>None</td>\n",
       "      <td>None</td>\n",
       "      <td>None</td>\n",
       "      <td>None</td>\n",
       "      <td>None</td>\n",
       "    </tr>\n",
       "    <tr>\n",
       "      <th>99</th>\n",
       "      <td>The Ungame</td>\n",
       "      <td>/boardgame/6283/ungame</td>\n",
       "      <td>1973.0</td>\n",
       "      <td>None</td>\n",
       "      <td>None</td>\n",
       "      <td>None</td>\n",
       "      <td>None</td>\n",
       "      <td>None</td>\n",
       "      <td>None</td>\n",
       "      <td>None</td>\n",
       "      <td>None</td>\n",
       "      <td>None</td>\n",
       "      <td>None</td>\n",
       "      <td>None</td>\n",
       "      <td>None</td>\n",
       "    </tr>\n",
       "  </tbody>\n",
       "</table>\n",
       "<p>21400 rows × 15 columns</p>\n",
       "</div>"
      ],
      "text/plain": [
       "                                      name  \\\n",
       "0                               Gloomhaven   \n",
       "1                Pandemic Legacy: Season 1   \n",
       "2                        Brass: Birmingham   \n",
       "3                        Terraforming Mars   \n",
       "4             Gloomhaven: Jaws of the Lion   \n",
       "..                                     ...   \n",
       "95                               Labyrinth   \n",
       "96  Dirty Minds: The Game of Naughty Clues   \n",
       "97                                MindTrap   \n",
       "98                                Phase 10   \n",
       "99                              The Ungame   \n",
       "\n",
       "                                               url    year num_owned rating  \\\n",
       "0                     /boardgame/174430/gloomhaven    2017      None   None   \n",
       "1       /boardgame/161936/pandemic-legacy-season-1    2015      None   None   \n",
       "2               /boardgame/224517/brass-birmingham    2018      None   None   \n",
       "3              /boardgame/167791/terraforming-mars    2016      None   None   \n",
       "4           /boardgame/291457/gloomhaven-jaws-lion    2020      None   None   \n",
       "..                                             ...     ...       ...    ...   \n",
       "95                       /boardgame/6546/labyrinth  1940.0      None   None   \n",
       "96  /boardgame/2956/dirty-minds-game-naughty-clues  1990.0      None   None   \n",
       "97                        /boardgame/1923/mindtrap  1991.0      None   None   \n",
       "98                        /boardgame/1258/phase-10  1982.0      None   None   \n",
       "99                          /boardgame/6283/ungame  1973.0      None   None   \n",
       "\n",
       "   weight player_age min_players max_players min_time max_time designers  \\\n",
       "0    None       None        None        None     None     None      None   \n",
       "1    None       None        None        None     None     None      None   \n",
       "2    None       None        None        None     None     None      None   \n",
       "3    None       None        None        None     None     None      None   \n",
       "4    None       None        None        None     None     None      None   \n",
       "..    ...        ...         ...         ...      ...      ...       ...   \n",
       "95   None       None        None        None     None     None      None   \n",
       "96   None       None        None        None     None     None      None   \n",
       "97   None       None        None        None     None     None      None   \n",
       "98   None       None        None        None     None     None      None   \n",
       "99   None       None        None        None     None     None      None   \n",
       "\n",
       "   publishers categories mechanics  \n",
       "0        None       None      None  \n",
       "1        None       None      None  \n",
       "2        None       None      None  \n",
       "3        None       None      None  \n",
       "4        None       None      None  \n",
       "..        ...        ...       ...  \n",
       "95       None       None      None  \n",
       "96       None       None      None  \n",
       "97       None       None      None  \n",
       "98       None       None      None  \n",
       "99       None       None      None  \n",
       "\n",
       "[21400 rows x 15 columns]"
      ]
     },
     "execution_count": 183,
     "metadata": {},
     "output_type": "execute_result"
    }
   ],
   "source": []
  },
  {
   "cell_type": "code",
   "execution_count": 246,
   "id": "f770afc7",
   "metadata": {},
   "outputs": [
    {
     "data": {
      "text/html": [
       "<div>\n",
       "<style scoped>\n",
       "    .dataframe tbody tr th:only-of-type {\n",
       "        vertical-align: middle;\n",
       "    }\n",
       "\n",
       "    .dataframe tbody tr th {\n",
       "        vertical-align: top;\n",
       "    }\n",
       "\n",
       "    .dataframe thead th {\n",
       "        text-align: right;\n",
       "    }\n",
       "</style>\n",
       "<table border=\"1\" class=\"dataframe\">\n",
       "  <thead>\n",
       "    <tr style=\"text-align: right;\">\n",
       "      <th></th>\n",
       "      <th>name</th>\n",
       "      <th>url</th>\n",
       "      <th>year</th>\n",
       "      <th>num_owned</th>\n",
       "      <th>rating</th>\n",
       "      <th>weight</th>\n",
       "      <th>player_age</th>\n",
       "      <th>min_players</th>\n",
       "      <th>max_players</th>\n",
       "      <th>min_time</th>\n",
       "      <th>max_time</th>\n",
       "      <th>designers</th>\n",
       "      <th>publishers</th>\n",
       "      <th>categories</th>\n",
       "      <th>mechanics</th>\n",
       "    </tr>\n",
       "  </thead>\n",
       "  <tbody>\n",
       "    <tr>\n",
       "      <th>0</th>\n",
       "      <td>The Piggyback Brigade</td>\n",
       "      <td>/boardgame/1806/piggyback-brigade</td>\n",
       "      <td>2000</td>\n",
       "      <td>None</td>\n",
       "      <td>None</td>\n",
       "      <td>None</td>\n",
       "      <td>None</td>\n",
       "      <td>None</td>\n",
       "      <td>None</td>\n",
       "      <td>None</td>\n",
       "      <td>None</td>\n",
       "      <td>None</td>\n",
       "      <td>None</td>\n",
       "      <td>None</td>\n",
       "      <td>None</td>\n",
       "    </tr>\n",
       "    <tr>\n",
       "      <th>1</th>\n",
       "      <td>Skräll</td>\n",
       "      <td>/boardgame/31421/skrall</td>\n",
       "      <td>2007.0</td>\n",
       "      <td>None</td>\n",
       "      <td>None</td>\n",
       "      <td>None</td>\n",
       "      <td>None</td>\n",
       "      <td>None</td>\n",
       "      <td>None</td>\n",
       "      <td>None</td>\n",
       "      <td>None</td>\n",
       "      <td>None</td>\n",
       "      <td>None</td>\n",
       "      <td>None</td>\n",
       "      <td>None</td>\n",
       "    </tr>\n",
       "    <tr>\n",
       "      <th>2</th>\n",
       "      <td>Descent on Crete: May 1941</td>\n",
       "      <td>/boardgame/5860/descent-crete-may-1941</td>\n",
       "      <td>1978.0</td>\n",
       "      <td>None</td>\n",
       "      <td>None</td>\n",
       "      <td>None</td>\n",
       "      <td>None</td>\n",
       "      <td>None</td>\n",
       "      <td>None</td>\n",
       "      <td>None</td>\n",
       "      <td>None</td>\n",
       "      <td>None</td>\n",
       "      <td>None</td>\n",
       "      <td>None</td>\n",
       "      <td>None</td>\n",
       "    </tr>\n",
       "    <tr>\n",
       "      <th>3</th>\n",
       "      <td>Castro</td>\n",
       "      <td>/boardgame/149863/castro</td>\n",
       "      <td>2013</td>\n",
       "      <td>None</td>\n",
       "      <td>None</td>\n",
       "      <td>None</td>\n",
       "      <td>None</td>\n",
       "      <td>None</td>\n",
       "      <td>None</td>\n",
       "      <td>None</td>\n",
       "      <td>None</td>\n",
       "      <td>None</td>\n",
       "      <td>None</td>\n",
       "      <td>None</td>\n",
       "      <td>None</td>\n",
       "    </tr>\n",
       "    <tr>\n",
       "      <th>4</th>\n",
       "      <td>1655: Habemus Papam</td>\n",
       "      <td>/boardgame/82955/1655-habemus-papam</td>\n",
       "      <td>2010</td>\n",
       "      <td>None</td>\n",
       "      <td>None</td>\n",
       "      <td>None</td>\n",
       "      <td>None</td>\n",
       "      <td>None</td>\n",
       "      <td>None</td>\n",
       "      <td>None</td>\n",
       "      <td>None</td>\n",
       "      <td>None</td>\n",
       "      <td>None</td>\n",
       "      <td>None</td>\n",
       "      <td>None</td>\n",
       "    </tr>\n",
       "  </tbody>\n",
       "</table>\n",
       "</div>"
      ],
      "text/plain": [
       "                         name                                     url    year  \\\n",
       "0       The Piggyback Brigade       /boardgame/1806/piggyback-brigade    2000   \n",
       "1                      Skräll                 /boardgame/31421/skrall  2007.0   \n",
       "2  Descent on Crete: May 1941  /boardgame/5860/descent-crete-may-1941  1978.0   \n",
       "3                      Castro                /boardgame/149863/castro    2013   \n",
       "4         1655: Habemus Papam     /boardgame/82955/1655-habemus-papam    2010   \n",
       "\n",
       "  num_owned rating weight player_age min_players max_players min_time  \\\n",
       "0      None   None   None       None        None        None     None   \n",
       "1      None   None   None       None        None        None     None   \n",
       "2      None   None   None       None        None        None     None   \n",
       "3      None   None   None       None        None        None     None   \n",
       "4      None   None   None       None        None        None     None   \n",
       "\n",
       "  max_time designers publishers categories mechanics  \n",
       "0     None      None       None       None      None  \n",
       "1     None      None       None       None      None  \n",
       "2     None      None       None       None      None  \n",
       "3     None      None       None       None      None  \n",
       "4     None      None       None       None      None  "
      ]
     },
     "execution_count": 246,
     "metadata": {},
     "output_type": "execute_result"
    }
   ],
   "source": [
    "df2 = df.sample(frac=1)\n",
    "df2.reset_index(inplace=True,drop=True)\n",
    "df2.head()"
   ]
  },
  {
   "cell_type": "markdown",
   "id": "828dc6f7",
   "metadata": {},
   "source": [
    "df.dtypes"
   ]
  },
  {
   "cell_type": "code",
   "execution_count": null,
   "id": "b971d5e4",
   "metadata": {},
   "outputs": [],
   "source": []
  },
  {
   "cell_type": "markdown",
   "id": "98353c95",
   "metadata": {},
   "source": [
    "Now let's scrape all the pages"
   ]
  },
  {
   "cell_type": "code",
   "execution_count": 19,
   "id": "b734a4e5",
   "metadata": {},
   "outputs": [
    {
     "name": "stderr",
     "output_type": "stream",
     "text": [
      "<ipython-input-19-dbdefea6d783>:4: DeprecationWarning: executable_path has been deprecated, please pass in a Service object\n",
      "  driver = webdriver.Chrome(chromedriver)\n"
     ]
    },
    {
     "name": "stdout",
     "output_type": "stream",
     "text": [
      "21380 games scraped 99.90654205607477 %\n"
     ]
    },
    {
     "name": "stderr",
     "output_type": "stream",
     "text": [
      "/Users/rsolava/opt/anaconda3/lib/python3.8/site-packages/pandas/core/generic.py:5494: SettingWithCopyWarning: \n",
      "A value is trying to be set on a copy of a slice from a DataFrame\n",
      "\n",
      "See the caveats in the documentation: https://pandas.pydata.org/pandas-docs/stable/user_guide/indexing.html#returning-a-view-versus-a-copy\n",
      "  self[name] = value\n"
     ]
    }
   ],
   "source": [
    "chromedriver = \"/Applications/chromedriver\" # path to the chromedriver executable\n",
    "os.environ[\"webdriver.chrome.driver\"] = chromedriver\n",
    "\n",
    "driver = webdriver.Chrome(chromedriver)\n",
    "\n",
    "df2 = pickle.load(open(\"df2.p\",\"rb\"))\n",
    "\n",
    "for ind in df2.index:\n",
    "    #Check if we've seen this row already\n",
    "    if df2.iloc[ind].notna().sum() > 3:\n",
    "        continue\n",
    "        \n",
    "    \n",
    "    if ind % 20 == 0:\n",
    "        print(ind, \"games scraped\", ind/df2.shape[0]*100, \"%\")\n",
    "        df2.to_csv(\"games2.csv\", index=False)\n",
    "        pickle.dump(df2, open(\"df2.p\",\"wb\"))\n",
    "        \n",
    "        \n",
    "    url = \"https://boardgamegeek.com/\" + df2.iloc[ind].url\n",
    "    \n",
    "    driver.get(url + \"/stats\")\n",
    "    stats_soup = bs(driver.page_source,'html5lib')\n",
    "    \n",
    "    df2.iloc[ind].num_owned = get_num_owned(stats_soup)\n",
    "    df2.iloc[ind].rating = get_rating(stats_soup)\n",
    "    df2.iloc[ind].weight = get_weight(stats_soup)\n",
    "    df2.iloc[ind].player_age = get_age(stats_soup)\n",
    "    df2.iloc[ind].min_time,df2.iloc[ind].max_time= get_minmax_time(stats_soup)\n",
    "    df2.iloc[ind].min_players,df2.iloc[ind].max_players= get_minmax_players(stats_soup)\n",
    "    \n",
    "    time.sleep(5)\n",
    "    \n",
    "    driver.get(url + \"/credits\")\n",
    "    credits_soup = bs(driver.page_source,'html5lib')\n",
    "    \n",
    "    df2.iloc[ind].designers = get_designers(credits_soup)\n",
    "    df2.iloc[ind].publishers = get_publishers(credits_soup)\n",
    "    df2.iloc[ind].categories = get_categories(credits_soup)\n",
    "    df2.iloc[ind].mechanics = get_mechanics(credits_soup)\n",
    "    \n",
    "    \n",
    "    \n",
    "    time.sleep(5)\n",
    "    \n",
    "\n",
    "df2.to_csv(\"games2.csv\", index=False)\n",
    "pickle.dump(df2, open(\"df2.p\",\"wb\"))  \n",
    "    "
   ]
  },
  {
   "cell_type": "code",
   "execution_count": 2,
   "id": "35e8e05a",
   "metadata": {},
   "outputs": [],
   "source": [
    "#Read in df2 from csv or pickle\n",
    "#def string_to_list(x):\n",
    "#    try:\n",
    "#        return ast.literal_eval(x)\n",
    "#    except:\n",
    "#        return None\n",
    "#df2 = pd.read_csv(\"games2.csv\")\n",
    "\n",
    "#df2.publishers = df2.publishers.apply(string_to_list)    \n",
    "#df2.categories = df2.categories.apply(string_to_list)    \n",
    "#df2.designers = df2.designers.apply(string_to_list)    \n",
    "#df2.mechanics = df2.mechanics.apply(string_to_list)\n",
    "\n",
    "df2 = pickle.load(open(\"df2.p\",\"rb\"))"
   ]
  },
  {
   "cell_type": "code",
   "execution_count": 3,
   "id": "77101861",
   "metadata": {},
   "outputs": [
    {
     "data": {
      "text/html": [
       "<div>\n",
       "<style scoped>\n",
       "    .dataframe tbody tr th:only-of-type {\n",
       "        vertical-align: middle;\n",
       "    }\n",
       "\n",
       "    .dataframe tbody tr th {\n",
       "        vertical-align: top;\n",
       "    }\n",
       "\n",
       "    .dataframe thead th {\n",
       "        text-align: right;\n",
       "    }\n",
       "</style>\n",
       "<table border=\"1\" class=\"dataframe\">\n",
       "  <thead>\n",
       "    <tr style=\"text-align: right;\">\n",
       "      <th></th>\n",
       "      <th>name</th>\n",
       "      <th>url</th>\n",
       "      <th>year</th>\n",
       "      <th>num_owned</th>\n",
       "      <th>rating</th>\n",
       "      <th>weight</th>\n",
       "      <th>player_age</th>\n",
       "      <th>min_players</th>\n",
       "      <th>max_players</th>\n",
       "      <th>min_time</th>\n",
       "      <th>max_time</th>\n",
       "      <th>designers</th>\n",
       "      <th>publishers</th>\n",
       "      <th>categories</th>\n",
       "      <th>mechanics</th>\n",
       "    </tr>\n",
       "  </thead>\n",
       "  <tbody>\n",
       "    <tr>\n",
       "      <th>0</th>\n",
       "      <td>The Piggyback Brigade</td>\n",
       "      <td>/boardgame/1806/piggyback-brigade</td>\n",
       "      <td>2000.0</td>\n",
       "      <td>679.0</td>\n",
       "      <td>6.101</td>\n",
       "      <td>1.05</td>\n",
       "      <td>4.0</td>\n",
       "      <td>2.0</td>\n",
       "      <td>7.0</td>\n",
       "      <td>15.0</td>\n",
       "      <td>25.0</td>\n",
       "      <td>[Alex Randolph]</td>\n",
       "      <td>[Devir, Drei Magier Spiele, G3, Korea Boardgam...</td>\n",
       "      <td>[Action / Dexterity, Children's Game, Dice, Ra...</td>\n",
       "      <td>[Dice Rolling]</td>\n",
       "    </tr>\n",
       "    <tr>\n",
       "      <th>1</th>\n",
       "      <td>Skräll</td>\n",
       "      <td>/boardgame/31421/skrall</td>\n",
       "      <td>2007.0</td>\n",
       "      <td>75.0</td>\n",
       "      <td>5.709</td>\n",
       "      <td>1.75</td>\n",
       "      <td>NaN</td>\n",
       "      <td>2.0</td>\n",
       "      <td>6.0</td>\n",
       "      <td>60.0</td>\n",
       "      <td>60.0</td>\n",
       "      <td>[Anthony Pendleton, Paul Smith]</td>\n",
       "      <td>[Strategic Retreat]</td>\n",
       "      <td>[Science Fiction, Space Exploration, Wargame]</td>\n",
       "      <td>[Dice Rolling, Modular Board, Variable Player ...</td>\n",
       "    </tr>\n",
       "    <tr>\n",
       "      <th>2</th>\n",
       "      <td>Descent on Crete: May 1941</td>\n",
       "      <td>/boardgame/5860/descent-crete-may-1941</td>\n",
       "      <td>1978.0</td>\n",
       "      <td>249.0</td>\n",
       "      <td>5.961</td>\n",
       "      <td>3.91</td>\n",
       "      <td>14.0</td>\n",
       "      <td>2.0</td>\n",
       "      <td>2.0</td>\n",
       "      <td>240.0</td>\n",
       "      <td>240.0</td>\n",
       "      <td>[Eric Goldberg]</td>\n",
       "      <td>[SPI (Simulations Publications, Inc.)]</td>\n",
       "      <td>[Wargame, World War II]</td>\n",
       "      <td>[Dice Rolling, Hexagon Grid, Simulation]</td>\n",
       "    </tr>\n",
       "    <tr>\n",
       "      <th>3</th>\n",
       "      <td>Castro</td>\n",
       "      <td>/boardgame/149863/castro</td>\n",
       "      <td>2013.0</td>\n",
       "      <td>287.0</td>\n",
       "      <td>6.515</td>\n",
       "      <td>1.41</td>\n",
       "      <td>8.0</td>\n",
       "      <td>2.0</td>\n",
       "      <td>4.0</td>\n",
       "      <td>20.0</td>\n",
       "      <td>20.0</td>\n",
       "      <td>[Jürgen P. Grunau]</td>\n",
       "      <td>[Noris Spiele]</td>\n",
       "      <td>[Dice]</td>\n",
       "      <td>[Dice Rolling, Pattern Building, Push Your Luck]</td>\n",
       "    </tr>\n",
       "    <tr>\n",
       "      <th>4</th>\n",
       "      <td>1655: Habemus Papam</td>\n",
       "      <td>/boardgame/82955/1655-habemus-papam</td>\n",
       "      <td>2010.0</td>\n",
       "      <td>738.0</td>\n",
       "      <td>6.453</td>\n",
       "      <td>2.16</td>\n",
       "      <td>10.0</td>\n",
       "      <td>3.0</td>\n",
       "      <td>4.0</td>\n",
       "      <td>30.0</td>\n",
       "      <td>30.0</td>\n",
       "      <td>[Christoph Bauer]</td>\n",
       "      <td>[999 Games, DDD Verlag GmbH]</td>\n",
       "      <td>[Card Game, Pike and Shot, Religious]</td>\n",
       "      <td>[Auction/Bidding, Set Collection]</td>\n",
       "    </tr>\n",
       "  </tbody>\n",
       "</table>\n",
       "</div>"
      ],
      "text/plain": [
       "                         name                                     url    year  \\\n",
       "0       The Piggyback Brigade       /boardgame/1806/piggyback-brigade  2000.0   \n",
       "1                      Skräll                 /boardgame/31421/skrall  2007.0   \n",
       "2  Descent on Crete: May 1941  /boardgame/5860/descent-crete-may-1941  1978.0   \n",
       "3                      Castro                /boardgame/149863/castro  2013.0   \n",
       "4         1655: Habemus Papam     /boardgame/82955/1655-habemus-papam  2010.0   \n",
       "\n",
       "   num_owned  rating  weight  player_age  min_players  max_players  min_time  \\\n",
       "0      679.0   6.101    1.05         4.0          2.0          7.0      15.0   \n",
       "1       75.0   5.709    1.75         NaN          2.0          6.0      60.0   \n",
       "2      249.0   5.961    3.91        14.0          2.0          2.0     240.0   \n",
       "3      287.0   6.515    1.41         8.0          2.0          4.0      20.0   \n",
       "4      738.0   6.453    2.16        10.0          3.0          4.0      30.0   \n",
       "\n",
       "   max_time                        designers  \\\n",
       "0      25.0                  [Alex Randolph]   \n",
       "1      60.0  [Anthony Pendleton, Paul Smith]   \n",
       "2     240.0                  [Eric Goldberg]   \n",
       "3      20.0               [Jürgen P. Grunau]   \n",
       "4      30.0                [Christoph Bauer]   \n",
       "\n",
       "                                          publishers  \\\n",
       "0  [Devir, Drei Magier Spiele, G3, Korea Boardgam...   \n",
       "1                                [Strategic Retreat]   \n",
       "2             [SPI (Simulations Publications, Inc.)]   \n",
       "3                                     [Noris Spiele]   \n",
       "4                       [999 Games, DDD Verlag GmbH]   \n",
       "\n",
       "                                          categories  \\\n",
       "0  [Action / Dexterity, Children's Game, Dice, Ra...   \n",
       "1      [Science Fiction, Space Exploration, Wargame]   \n",
       "2                            [Wargame, World War II]   \n",
       "3                                             [Dice]   \n",
       "4              [Card Game, Pike and Shot, Religious]   \n",
       "\n",
       "                                           mechanics  \n",
       "0                                     [Dice Rolling]  \n",
       "1  [Dice Rolling, Modular Board, Variable Player ...  \n",
       "2           [Dice Rolling, Hexagon Grid, Simulation]  \n",
       "3   [Dice Rolling, Pattern Building, Push Your Luck]  \n",
       "4                  [Auction/Bidding, Set Collection]  "
      ]
     },
     "execution_count": 3,
     "metadata": {},
     "output_type": "execute_result"
    }
   ],
   "source": [
    "df2.head()"
   ]
  },
  {
   "cell_type": "code",
   "execution_count": 4,
   "id": "36869dd0",
   "metadata": {},
   "outputs": [
    {
     "name": "stdout",
     "output_type": "stream",
     "text": [
      "<class 'pandas.core.frame.DataFrame'>\n",
      "Int64Index: 21379 entries, 0 to 21379\n",
      "Data columns (total 15 columns):\n",
      " #   Column       Non-Null Count  Dtype  \n",
      "---  ------       --------------  -----  \n",
      " 0   name         21379 non-null  object \n",
      " 1   url          21379 non-null  object \n",
      " 2   year         21195 non-null  float64\n",
      " 3   num_owned    21379 non-null  float64\n",
      " 4   rating       21377 non-null  float64\n",
      " 5   weight       21379 non-null  float64\n",
      " 6   player_age   20951 non-null  float64\n",
      " 7   min_players  21345 non-null  float64\n",
      " 8   max_players  21345 non-null  float64\n",
      " 9   min_time     20763 non-null  float64\n",
      " 10  max_time     20763 non-null  float64\n",
      " 11  designers    21369 non-null  object \n",
      " 12  publishers   21369 non-null  object \n",
      " 13  categories   21369 non-null  object \n",
      " 14  mechanics    21369 non-null  object \n",
      "dtypes: float64(9), object(6)\n",
      "memory usage: 2.6+ MB\n"
     ]
    }
   ],
   "source": [
    "game_df = df2[df2.num_owned.notna()]\n",
    "game_df.info()"
   ]
  },
  {
   "cell_type": "code",
   "execution_count": 91,
   "id": "7a27e0c9",
   "metadata": {},
   "outputs": [
    {
     "name": "stderr",
     "output_type": "stream",
     "text": [
      "/Users/rsolava/opt/anaconda3/lib/python3.8/site-packages/pandas/core/indexing.py:1676: SettingWithCopyWarning: \n",
      "A value is trying to be set on a copy of a slice from a DataFrame.\n",
      "Try using .loc[row_indexer,col_indexer] = value instead\n",
      "\n",
      "See the caveats in the documentation: https://pandas.pydata.org/pandas-docs/stable/user_guide/indexing.html#returning-a-view-versus-a-copy\n",
      "  self._setitem_single_column(ilocs[0], value, pi)\n"
     ]
    }
   ],
   "source": [
    "game_df.loc[:,\"num_owned\"] = game_df.num_owned.astype(int, errors=\"ignore\")"
   ]
  },
  {
   "cell_type": "code",
   "execution_count": 92,
   "id": "0bd66edd",
   "metadata": {},
   "outputs": [],
   "source": [
    "game_df.loc[:,\"rating\"] = game_df.rating.astype(float, errors=\"ignore\")\n",
    "game_df.loc[:,\"year\"] = game_df.year.astype(float,errors=\"ignore\")\n",
    "game_df.loc[:,\"weight\"] = game_df.weight.astype(float, errors=\"ignore\")\n",
    "game_df.loc[:,\"player_age\"] = game_df.player_age.astype(float, errors=\"ignore\")\n",
    "game_df.loc[:,\"min_players\"] = game_df.min_players.astype(float, errors=\"ignore\")\n",
    "game_df.loc[:,\"max_players\"] = game_df.max_players.astype(float, errors=\"ignore\")\n",
    "game_df.loc[:,\"min_time\"] = game_df.min_time.astype(float, errors=\"ignore\")\n",
    "game_df.loc[:,\"max_time\"] = game_df.max_time.astype(float, errors=\"ignore\")"
   ]
  },
  {
   "cell_type": "code",
   "execution_count": 93,
   "id": "1e445a8d",
   "metadata": {},
   "outputs": [
    {
     "data": {
      "text/plain": [
       "name            object\n",
       "url             object\n",
       "year           float64\n",
       "num_owned        int64\n",
       "rating         float64\n",
       "weight         float64\n",
       "player_age     float64\n",
       "min_players    float64\n",
       "max_players    float64\n",
       "min_time       float64\n",
       "max_time       float64\n",
       "designers       object\n",
       "publishers      object\n",
       "categories      object\n",
       "mechanics       object\n",
       "dtype: object"
      ]
     },
     "execution_count": 93,
     "metadata": {},
     "output_type": "execute_result"
    }
   ],
   "source": [
    "game_df.dtypes"
   ]
  },
  {
   "cell_type": "code",
   "execution_count": 5,
   "id": "3ba1e457",
   "metadata": {},
   "outputs": [
    {
     "name": "stderr",
     "output_type": "stream",
     "text": [
      "/Users/rsolava/opt/anaconda3/lib/python3.8/site-packages/pandas/core/indexing.py:1597: SettingWithCopyWarning: \n",
      "A value is trying to be set on a copy of a slice from a DataFrame.\n",
      "Try using .loc[row_indexer,col_indexer] = value instead\n",
      "\n",
      "See the caveats in the documentation: https://pandas.pydata.org/pandas-docs/stable/user_guide/indexing.html#returning-a-view-versus-a-copy\n",
      "  self.obj[key] = value\n",
      "/Users/rsolava/opt/anaconda3/lib/python3.8/site-packages/pandas/core/indexing.py:1676: SettingWithCopyWarning: \n",
      "A value is trying to be set on a copy of a slice from a DataFrame.\n",
      "Try using .loc[row_indexer,col_indexer] = value instead\n",
      "\n",
      "See the caveats in the documentation: https://pandas.pydata.org/pandas-docs/stable/user_guide/indexing.html#returning-a-view-versus-a-copy\n",
      "  self._setitem_single_column(ilocs[0], value, pi)\n"
     ]
    }
   ],
   "source": [
    "game_df.loc[:,\"log_owned\"] = np.log10(game_df.num_owned)"
   ]
  },
  {
   "cell_type": "markdown",
   "id": "e2d11165",
   "metadata": {},
   "source": [
    "Dealing with missing data"
   ]
  },
  {
   "cell_type": "code",
   "execution_count": 6,
   "id": "d830a28b",
   "metadata": {},
   "outputs": [
    {
     "name": "stdout",
     "output_type": "stream",
     "text": [
      "year missing: 184, mean: 2003.4703467799009, median: 2011.0\n",
      "num_owned missing: 0, mean: 1448.448664577389, median: 313.0\n",
      "rating missing: 2, mean: 6.421054076811534, median: 6.446\n",
      "weight missing: 0, mean: 1.9855779035502084, median: 1.97\n",
      "player_age missing: 428, mean: 10.292682926829269, median: 10.0\n",
      "min_players missing: 34, mean: 2.014523307566175, median: 2.0\n",
      "max_players missing: 34, mean: 5.688779573670649, median: 4.0\n",
      "min_time missing: 616, mean: 66.01001782016087, median: 30.0\n",
      "max_time missing: 616, mean: 93.40148340798535, median: 45.0\n",
      "log_owned missing: 0, mean: 2.600123341696565, median: 2.4955443375464483\n"
     ]
    }
   ],
   "source": [
    "for col in game_df.select_dtypes(include=np.number).columns:\n",
    "    print(col, \"missing: {}, mean: {}, median: {}\".format(\n",
    "        game_df[col].isna().sum(), game_df[col].mean(), game_df[col].median()))"
   ]
  },
  {
   "cell_type": "markdown",
   "id": "3ecda34b",
   "metadata": {},
   "source": [
    "We'll impute all missing values with the median.\n",
    "\n",
    "For each feature, either the mean and median seem very close, or the mean is highly effected by outliers"
   ]
  },
  {
   "cell_type": "code",
   "execution_count": 7,
   "id": "baa316d3",
   "metadata": {},
   "outputs": [
    {
     "name": "stderr",
     "output_type": "stream",
     "text": [
      "<ipython-input-7-822852be40f3>:2: SettingWithCopyWarning: \n",
      "A value is trying to be set on a copy of a slice from a DataFrame.\n",
      "Try using .loc[row_indexer,col_indexer] = value instead\n",
      "\n",
      "See the caveats in the documentation: https://pandas.pydata.org/pandas-docs/stable/user_guide/indexing.html#returning-a-view-versus-a-copy\n",
      "  game_df[col] = game_df[col].fillna(value=game_df[col].median())\n"
     ]
    }
   ],
   "source": [
    "for col in game_df.select_dtypes(include=np.number).columns:\n",
    "    game_df[col] = game_df[col].fillna(value=game_df[col].median())"
   ]
  },
  {
   "cell_type": "code",
   "execution_count": 10,
   "id": "d7ebefe7",
   "metadata": {},
   "outputs": [
    {
     "name": "stdout",
     "output_type": "stream",
     "text": [
      "<class 'pandas.core.frame.DataFrame'>\n",
      "Int64Index: 21379 entries, 0 to 21379\n",
      "Data columns (total 16 columns):\n",
      " #   Column       Non-Null Count  Dtype  \n",
      "---  ------       --------------  -----  \n",
      " 0   name         21379 non-null  object \n",
      " 1   url          21379 non-null  object \n",
      " 2   year         21379 non-null  float64\n",
      " 3   num_owned    21379 non-null  float64\n",
      " 4   rating       21379 non-null  float64\n",
      " 5   weight       21379 non-null  float64\n",
      " 6   player_age   21379 non-null  float64\n",
      " 7   min_players  21379 non-null  float64\n",
      " 8   max_players  21379 non-null  float64\n",
      " 9   min_time     21379 non-null  float64\n",
      " 10  max_time     21379 non-null  float64\n",
      " 11  designers    21369 non-null  object \n",
      " 12  publishers   21369 non-null  object \n",
      " 13  categories   21369 non-null  object \n",
      " 14  mechanics    21369 non-null  object \n",
      " 15  log_owned    21379 non-null  float64\n",
      "dtypes: float64(10), object(6)\n",
      "memory usage: 2.8+ MB\n"
     ]
    }
   ],
   "source": [
    "game_df.info()"
   ]
  },
  {
   "cell_type": "markdown",
   "id": "30116370",
   "metadata": {},
   "source": [
    "## Remove outliers in year\n",
    "\n",
    "We want to remove all 2020 and later games, since these games may not be released yet or have been out for a much shorter time.\n",
    "\n",
    "We'll also remove all games from before 1980."
   ]
  },
  {
   "cell_type": "code",
   "execution_count": 8,
   "id": "d91f44a6",
   "metadata": {},
   "outputs": [
    {
     "name": "stdout",
     "output_type": "stream",
     "text": [
      "1979.5 2039.5\n"
     ]
    }
   ],
   "source": [
    "Q1 = game_df.year.quantile(0.25)\n",
    "Q3 = game_df.year.quantile(0.75)\n",
    "IQR = Q3-Q1\n",
    "\n",
    "print(Q1-1.5*IQR,Q3+1.5*IQR)"
   ]
  },
  {
   "cell_type": "code",
   "execution_count": 9,
   "id": "24600848",
   "metadata": {},
   "outputs": [
    {
     "data": {
      "text/plain": [
       "(18678, 16)"
      ]
     },
     "execution_count": 9,
     "metadata": {},
     "output_type": "execute_result"
    }
   ],
   "source": [
    "game_df = game_df[(game_df.year < 2020) & (game_df.year >=1980)]\n",
    "\n",
    "game_df.shape"
   ]
  },
  {
   "cell_type": "code",
   "execution_count": null,
   "id": "c2c53e5d",
   "metadata": {},
   "outputs": [],
   "source": []
  },
  {
   "cell_type": "markdown",
   "id": "6cd51208",
   "metadata": {},
   "source": [
    "Remove outliers in terms of log_owned"
   ]
  },
  {
   "cell_type": "code",
   "execution_count": 68,
   "id": "d24d9eda",
   "metadata": {},
   "outputs": [],
   "source": [
    "Q1 = game_df.log_owned.quantile(0.25)\n",
    "Q3 = game_df.log_owned.quantile(0.75)\n",
    "IQR = Q3-Q1\n",
    "\n",
    "\n",
    "game_df = game_df[~((game_df.log_owned < (Q1 - 1.5 * IQR)) |(game_df.log_owned > (Q3 + 1.5 * IQR)))]\n"
   ]
  },
  {
   "cell_type": "code",
   "execution_count": 10,
   "id": "b4afab57",
   "metadata": {},
   "outputs": [
    {
     "data": {
      "text/plain": [
       "(18678, 16)"
      ]
     },
     "execution_count": 10,
     "metadata": {},
     "output_type": "execute_result"
    }
   ],
   "source": [
    "game_df.shape"
   ]
  },
  {
   "cell_type": "code",
   "execution_count": 70,
   "id": "f9f1d00a",
   "metadata": {},
   "outputs": [],
   "source": [
    "#game_df = game_df.dropna()\n",
    "#game_df.shape"
   ]
  },
  {
   "cell_type": "code",
   "execution_count": 11,
   "id": "98e947cb",
   "metadata": {},
   "outputs": [
    {
     "data": {
      "text/html": [
       "<table class=\"simpletable\">\n",
       "<caption>OLS Regression Results</caption>\n",
       "<tr>\n",
       "  <th>Dep. Variable:</th>        <td>num_owned</td>    <th>  R-squared:         </th> <td>   0.081</td> \n",
       "</tr>\n",
       "<tr>\n",
       "  <th>Model:</th>                   <td>OLS</td>       <th>  Adj. R-squared:    </th> <td>   0.081</td> \n",
       "</tr>\n",
       "<tr>\n",
       "  <th>Method:</th>             <td>Least Squares</td>  <th>  F-statistic:       </th> <td>   274.8</td> \n",
       "</tr>\n",
       "<tr>\n",
       "  <th>Date:</th>             <td>Tue, 09 Nov 2021</td> <th>  Prob (F-statistic):</th>  <td>  0.00</td>  \n",
       "</tr>\n",
       "<tr>\n",
       "  <th>Time:</th>                 <td>17:28:16</td>     <th>  Log-Likelihood:    </th> <td> -31843.</td> \n",
       "</tr>\n",
       "<tr>\n",
       "  <th>No. Observations:</th>      <td> 18678</td>      <th>  AIC:               </th> <td>6.370e+04</td>\n",
       "</tr>\n",
       "<tr>\n",
       "  <th>Df Residuals:</th>          <td> 18671</td>      <th>  BIC:               </th> <td>6.375e+04</td>\n",
       "</tr>\n",
       "<tr>\n",
       "  <th>Df Model:</th>              <td>     6</td>      <th>                     </th>     <td> </td>    \n",
       "</tr>\n",
       "<tr>\n",
       "  <th>Covariance Type:</th>      <td>nonrobust</td>    <th>                     </th>     <td> </td>    \n",
       "</tr>\n",
       "</table>\n",
       "<table class=\"simpletable\">\n",
       "<tr>\n",
       "       <td></td>          <th>coef</th>     <th>std err</th>      <th>t</th>      <th>P>|t|</th>  <th>[0.025</th>    <th>0.975]</th>  \n",
       "</tr>\n",
       "<tr>\n",
       "  <th>const</th>       <td>  -23.9607</td> <td>    2.022</td> <td>  -11.850</td> <td> 0.000</td> <td>  -27.924</td> <td>  -19.997</td>\n",
       "</tr>\n",
       "<tr>\n",
       "  <th>year</th>        <td>    0.0141</td> <td>    0.001</td> <td>   14.038</td> <td> 0.000</td> <td>    0.012</td> <td>    0.016</td>\n",
       "</tr>\n",
       "<tr>\n",
       "  <th>weight</th>      <td>    0.9284</td> <td>    0.046</td> <td>   20.265</td> <td> 0.000</td> <td>    0.839</td> <td>    1.018</td>\n",
       "</tr>\n",
       "<tr>\n",
       "  <th>player_age</th>  <td>    0.0375</td> <td>    0.004</td> <td>    9.422</td> <td> 0.000</td> <td>    0.030</td> <td>    0.045</td>\n",
       "</tr>\n",
       "<tr>\n",
       "  <th>weight_sq</th>   <td>   -0.1343</td> <td>    0.010</td> <td>  -13.029</td> <td> 0.000</td> <td>   -0.154</td> <td>   -0.114</td>\n",
       "</tr>\n",
       "<tr>\n",
       "  <th>avg_time</th>    <td>-3.337e-05</td> <td> 4.56e-05</td> <td>   -0.731</td> <td> 0.465</td> <td>   -0.000</td> <td> 5.61e-05</td>\n",
       "</tr>\n",
       "<tr>\n",
       "  <th>avg_players</th> <td>    0.0030</td> <td>    0.001</td> <td>    2.386</td> <td> 0.017</td> <td>    0.001</td> <td>    0.005</td>\n",
       "</tr>\n",
       "</table>\n",
       "<table class=\"simpletable\">\n",
       "<tr>\n",
       "  <th>Omnibus:</th>       <td>1641.101</td> <th>  Durbin-Watson:     </th> <td>   1.985</td>\n",
       "</tr>\n",
       "<tr>\n",
       "  <th>Prob(Omnibus):</th>  <td> 0.000</td>  <th>  Jarque-Bera (JB):  </th> <td>2222.362</td>\n",
       "</tr>\n",
       "<tr>\n",
       "  <th>Skew:</th>           <td> 0.736</td>  <th>  Prob(JB):          </th> <td>    0.00</td>\n",
       "</tr>\n",
       "<tr>\n",
       "  <th>Kurtosis:</th>       <td> 3.828</td>  <th>  Cond. No.          </th> <td>4.17e+05</td>\n",
       "</tr>\n",
       "</table><br/><br/>Notes:<br/>[1] Standard Errors assume that the covariance matrix of the errors is correctly specified.<br/>[2] The condition number is large, 4.17e+05. This might indicate that there are<br/>strong multicollinearity or other numerical problems."
      ],
      "text/plain": [
       "<class 'statsmodels.iolib.summary.Summary'>\n",
       "\"\"\"\n",
       "                            OLS Regression Results                            \n",
       "==============================================================================\n",
       "Dep. Variable:              num_owned   R-squared:                       0.081\n",
       "Model:                            OLS   Adj. R-squared:                  0.081\n",
       "Method:                 Least Squares   F-statistic:                     274.8\n",
       "Date:                Tue, 09 Nov 2021   Prob (F-statistic):               0.00\n",
       "Time:                        17:28:16   Log-Likelihood:                -31843.\n",
       "No. Observations:               18678   AIC:                         6.370e+04\n",
       "Df Residuals:                   18671   BIC:                         6.375e+04\n",
       "Df Model:                           6                                         \n",
       "Covariance Type:            nonrobust                                         \n",
       "===============================================================================\n",
       "                  coef    std err          t      P>|t|      [0.025      0.975]\n",
       "-------------------------------------------------------------------------------\n",
       "const         -23.9607      2.022    -11.850      0.000     -27.924     -19.997\n",
       "year            0.0141      0.001     14.038      0.000       0.012       0.016\n",
       "weight          0.9284      0.046     20.265      0.000       0.839       1.018\n",
       "player_age      0.0375      0.004      9.422      0.000       0.030       0.045\n",
       "weight_sq      -0.1343      0.010    -13.029      0.000      -0.154      -0.114\n",
       "avg_time    -3.337e-05   4.56e-05     -0.731      0.465      -0.000    5.61e-05\n",
       "avg_players     0.0030      0.001      2.386      0.017       0.001       0.005\n",
       "==============================================================================\n",
       "Omnibus:                     1641.101   Durbin-Watson:                   1.985\n",
       "Prob(Omnibus):                  0.000   Jarque-Bera (JB):             2222.362\n",
       "Skew:                           0.736   Prob(JB):                         0.00\n",
       "Kurtosis:                       3.828   Cond. No.                     4.17e+05\n",
       "==============================================================================\n",
       "\n",
       "Notes:\n",
       "[1] Standard Errors assume that the covariance matrix of the errors is correctly specified.\n",
       "[2] The condition number is large, 4.17e+05. This might indicate that there are\n",
       "strong multicollinearity or other numerical problems.\n",
       "\"\"\""
      ]
     },
     "execution_count": 11,
     "metadata": {},
     "output_type": "execute_result"
    }
   ],
   "source": [
    "X =game_df.drop(columns =[\"name\",\"url\",\"rating\",\"num_owned\",\"designers\",\"publishers\",\"categories\",\"mechanics\",\"log_owned\"])\n",
    "X[\"weight_sq\"] = X.weight*X.weight\n",
    "X[\"avg_time\"] = (X.min_time + X.max_time)/2\n",
    "X = X.drop(columns=[\"min_time\",\"max_time\"])\n",
    "X[\"avg_players\"] = (X.min_players + X.max_players)/2\n",
    "X = X.drop(columns=[\"min_players\",\"max_players\"])\n",
    "y = game_df.num_owned\n",
    "X = sm.add_constant(X)\n",
    "\n",
    "model = sm.OLS(np.log(y),X)\n",
    "game_model = model.fit()\n",
    "\n",
    "game_model.summary()"
   ]
  },
  {
   "cell_type": "code",
   "execution_count": 12,
   "id": "0bac8117",
   "metadata": {},
   "outputs": [
    {
     "data": {
      "image/png": "[encoded data removed]",
      "text/plain": [
       "<Figure size 432x288 with 1 Axes>"
      ]
     },
     "metadata": {
      "needs_background": "light"
     },
     "output_type": "display_data"
    }
   ],
   "source": [
    "x = np.arange(0, 6)\n",
    "\n",
    "# scatter-plot data\n",
    "ax = game_df.plot(x='rating', y='num_owned', kind='scatter',logy=True)\n",
    "\n",
    "# plot regression line on the same axes, set x-axis limits\n",
    "#ax.plot(x, np.exp(game_model.params.const + game_model.params.weight * x), color = \"red\")\n",
    "\n",
    "#plt.savefig(\"weight_reg.png\", bbox_inches=\"tight\")"
   ]
  },
  {
   "cell_type": "code",
   "execution_count": 13,
   "id": "d5aa242e",
   "metadata": {},
   "outputs": [
    {
     "data": {
      "text/plain": [
       "const         -23.960716\n",
       "year            0.014125\n",
       "weight          0.928388\n",
       "player_age      0.037509\n",
       "weight_sq      -0.134270\n",
       "avg_time       -0.000033\n",
       "avg_players     0.002951\n",
       "dtype: float64"
      ]
     },
     "execution_count": 13,
     "metadata": {},
     "output_type": "execute_result"
    }
   ],
   "source": [
    "game_model.params"
   ]
  },
  {
   "cell_type": "code",
   "execution_count": null,
   "id": "4e2cecbc",
   "metadata": {},
   "outputs": [],
   "source": []
  },
  {
   "cell_type": "code",
   "execution_count": null,
   "id": "8657cdda",
   "metadata": {},
   "outputs": [],
   "source": []
  },
  {
   "cell_type": "code",
   "execution_count": 17,
   "id": "a6ec354d",
   "metadata": {},
   "outputs": [
    {
     "data": {
      "text/plain": [
       "RandomForestRegressor(max_depth=25)"
      ]
     },
     "execution_count": 17,
     "metadata": {},
     "output_type": "execute_result"
    }
   ],
   "source": [
    "y = game_df.log_owned\n",
    "X = game_df.drop(columns =[\"name\",\"url\",\"rating\",\"num_owned\",\"designers\",\"publishers\",\"categories\",\"mechanics\",\"log_owned\"])\n",
    "\n",
    "X, X_test, y, y_test = train_test_split(X,y, test_size=0.3)\n",
    "\n",
    "reg_tree = RandomForestRegressor(max_depth=25)\n",
    "reg_tree.fit(X, y)\n"
   ]
  },
  {
   "cell_type": "code",
   "execution_count": 18,
   "id": "f6879919",
   "metadata": {},
   "outputs": [
    {
     "data": {
      "text/plain": [
       "array([0.17904096, 0.41098997, 0.09746151, 0.04117842, 0.09616024,\n",
       "       0.08312252, 0.09204639])"
      ]
     },
     "execution_count": 18,
     "metadata": {},
     "output_type": "execute_result"
    }
   ],
   "source": [
    "reg_tree.feature_importances_"
   ]
  },
  {
   "cell_type": "code",
   "execution_count": 19,
   "id": "4eea9a12",
   "metadata": {},
   "outputs": [
    {
     "data": {
      "text/plain": [
       "0.2990270117788939"
      ]
     },
     "execution_count": 19,
     "metadata": {},
     "output_type": "execute_result"
    }
   ],
   "source": [
    "reg_tree.score(X_test,y_test)"
   ]
  },
  {
   "cell_type": "code",
   "execution_count": 75,
   "id": "41a554f4",
   "metadata": {},
   "outputs": [
    {
     "data": {
      "text/html": [
       "<div>\n",
       "<style scoped>\n",
       "    .dataframe tbody tr th:only-of-type {\n",
       "        vertical-align: middle;\n",
       "    }\n",
       "\n",
       "    .dataframe tbody tr th {\n",
       "        vertical-align: top;\n",
       "    }\n",
       "\n",
       "    .dataframe thead th {\n",
       "        text-align: right;\n",
       "    }\n",
       "</style>\n",
       "<table border=\"1\" class=\"dataframe\">\n",
       "  <thead>\n",
       "    <tr style=\"text-align: right;\">\n",
       "      <th></th>\n",
       "      <th>name</th>\n",
       "      <th>url</th>\n",
       "      <th>year</th>\n",
       "      <th>num_owned</th>\n",
       "      <th>rating</th>\n",
       "      <th>weight</th>\n",
       "      <th>player_age</th>\n",
       "      <th>min_players</th>\n",
       "      <th>max_players</th>\n",
       "      <th>min_time</th>\n",
       "      <th>max_time</th>\n",
       "      <th>designers</th>\n",
       "      <th>publishers</th>\n",
       "      <th>categories</th>\n",
       "      <th>mechanics</th>\n",
       "      <th>log_owned</th>\n",
       "    </tr>\n",
       "  </thead>\n",
       "  <tbody>\n",
       "    <tr>\n",
       "      <th>0</th>\n",
       "      <td>The Piggyback Brigade</td>\n",
       "      <td>/boardgame/1806/piggyback-brigade</td>\n",
       "      <td>2000.0</td>\n",
       "      <td>679</td>\n",
       "      <td>6.101</td>\n",
       "      <td>1.05</td>\n",
       "      <td>4.0</td>\n",
       "      <td>2.0</td>\n",
       "      <td>7.0</td>\n",
       "      <td>15.0</td>\n",
       "      <td>25.0</td>\n",
       "      <td>[Alex Randolph]</td>\n",
       "      <td>[Devir, Drei Magier Spiele, G3, Korea Boardgam...</td>\n",
       "      <td>[Action / Dexterity, Children's Game, Dice, Ra...</td>\n",
       "      <td>[Dice Rolling]</td>\n",
       "      <td>2.831870</td>\n",
       "    </tr>\n",
       "    <tr>\n",
       "      <th>1</th>\n",
       "      <td>Skräll</td>\n",
       "      <td>/boardgame/31421/skrall</td>\n",
       "      <td>2007.0</td>\n",
       "      <td>75</td>\n",
       "      <td>5.709</td>\n",
       "      <td>1.75</td>\n",
       "      <td>10.0</td>\n",
       "      <td>2.0</td>\n",
       "      <td>6.0</td>\n",
       "      <td>60.0</td>\n",
       "      <td>60.0</td>\n",
       "      <td>[Anthony Pendleton, Paul Smith]</td>\n",
       "      <td>[Strategic Retreat]</td>\n",
       "      <td>[Science Fiction, Space Exploration, Wargame]</td>\n",
       "      <td>[Dice Rolling, Modular Board, Variable Player ...</td>\n",
       "      <td>1.875061</td>\n",
       "    </tr>\n",
       "    <tr>\n",
       "      <th>3</th>\n",
       "      <td>Castro</td>\n",
       "      <td>/boardgame/149863/castro</td>\n",
       "      <td>2013.0</td>\n",
       "      <td>287</td>\n",
       "      <td>6.515</td>\n",
       "      <td>1.41</td>\n",
       "      <td>8.0</td>\n",
       "      <td>2.0</td>\n",
       "      <td>4.0</td>\n",
       "      <td>20.0</td>\n",
       "      <td>20.0</td>\n",
       "      <td>[Jürgen P. Grunau]</td>\n",
       "      <td>[Noris Spiele]</td>\n",
       "      <td>[Dice]</td>\n",
       "      <td>[Dice Rolling, Pattern Building, Push Your Luck]</td>\n",
       "      <td>2.457882</td>\n",
       "    </tr>\n",
       "    <tr>\n",
       "      <th>4</th>\n",
       "      <td>1655: Habemus Papam</td>\n",
       "      <td>/boardgame/82955/1655-habemus-papam</td>\n",
       "      <td>2010.0</td>\n",
       "      <td>738</td>\n",
       "      <td>6.453</td>\n",
       "      <td>2.16</td>\n",
       "      <td>10.0</td>\n",
       "      <td>3.0</td>\n",
       "      <td>4.0</td>\n",
       "      <td>30.0</td>\n",
       "      <td>30.0</td>\n",
       "      <td>[Christoph Bauer]</td>\n",
       "      <td>[999 Games, DDD Verlag GmbH]</td>\n",
       "      <td>[Card Game, Pike and Shot, Religious]</td>\n",
       "      <td>[Auction/Bidding, Set Collection]</td>\n",
       "      <td>2.868056</td>\n",
       "    </tr>\n",
       "    <tr>\n",
       "      <th>5</th>\n",
       "      <td>Kreus</td>\n",
       "      <td>/boardgame/198110/kreus</td>\n",
       "      <td>2016.0</td>\n",
       "      <td>826</td>\n",
       "      <td>6.696</td>\n",
       "      <td>2.00</td>\n",
       "      <td>10.0</td>\n",
       "      <td>3.0</td>\n",
       "      <td>6.0</td>\n",
       "      <td>20.0</td>\n",
       "      <td>30.0</td>\n",
       "      <td>[Julien Prothière]</td>\n",
       "      <td>[2Tomatoes Games, CMON Global Limited, Sweet G...</td>\n",
       "      <td>[Card Game, Deduction, Mythology]</td>\n",
       "      <td>[Communication Limits, Cooperative Game]</td>\n",
       "      <td>2.916980</td>\n",
       "    </tr>\n",
       "  </tbody>\n",
       "</table>\n",
       "</div>"
      ],
      "text/plain": [
       "                    name                                  url    year  \\\n",
       "0  The Piggyback Brigade    /boardgame/1806/piggyback-brigade  2000.0   \n",
       "1                 Skräll              /boardgame/31421/skrall  2007.0   \n",
       "3                 Castro             /boardgame/149863/castro  2013.0   \n",
       "4    1655: Habemus Papam  /boardgame/82955/1655-habemus-papam  2010.0   \n",
       "5                  Kreus              /boardgame/198110/kreus  2016.0   \n",
       "\n",
       "   num_owned  rating  weight  player_age  min_players  max_players  min_time  \\\n",
       "0        679   6.101    1.05         4.0          2.0          7.0      15.0   \n",
       "1         75   5.709    1.75        10.0          2.0          6.0      60.0   \n",
       "3        287   6.515    1.41         8.0          2.0          4.0      20.0   \n",
       "4        738   6.453    2.16        10.0          3.0          4.0      30.0   \n",
       "5        826   6.696    2.00        10.0          3.0          6.0      20.0   \n",
       "\n",
       "   max_time                        designers  \\\n",
       "0      25.0                  [Alex Randolph]   \n",
       "1      60.0  [Anthony Pendleton, Paul Smith]   \n",
       "3      20.0               [Jürgen P. Grunau]   \n",
       "4      30.0                [Christoph Bauer]   \n",
       "5      30.0               [Julien Prothière]   \n",
       "\n",
       "                                          publishers  \\\n",
       "0  [Devir, Drei Magier Spiele, G3, Korea Boardgam...   \n",
       "1                                [Strategic Retreat]   \n",
       "3                                     [Noris Spiele]   \n",
       "4                       [999 Games, DDD Verlag GmbH]   \n",
       "5  [2Tomatoes Games, CMON Global Limited, Sweet G...   \n",
       "\n",
       "                                          categories  \\\n",
       "0  [Action / Dexterity, Children's Game, Dice, Ra...   \n",
       "1      [Science Fiction, Space Exploration, Wargame]   \n",
       "3                                             [Dice]   \n",
       "4              [Card Game, Pike and Shot, Religious]   \n",
       "5                  [Card Game, Deduction, Mythology]   \n",
       "\n",
       "                                           mechanics  log_owned  \n",
       "0                                     [Dice Rolling]   2.831870  \n",
       "1  [Dice Rolling, Modular Board, Variable Player ...   1.875061  \n",
       "3   [Dice Rolling, Pattern Building, Push Your Luck]   2.457882  \n",
       "4                  [Auction/Bidding, Set Collection]   2.868056  \n",
       "5           [Communication Limits, Cooperative Game]   2.916980  "
      ]
     },
     "execution_count": 75,
     "metadata": {},
     "output_type": "execute_result"
    }
   ],
   "source": [
    "game_df.head()"
   ]
  },
  {
   "cell_type": "markdown",
   "id": "ae25c728",
   "metadata": {},
   "source": [
    "## Are games sold and number owned correlated?\n",
    "\n",
    "We're using number of users who own the game as a proxy for number of games sold, since unfortunately the number of games sold is just not public information. It seems reasonable that these things would be correlated, but are they really? Luckily, one publisher did share their sales data, so we'll use this limited information to see if this assumption is correct."
   ]
  },
  {
   "cell_type": "code",
   "execution_count": 20,
   "id": "cef4be19",
   "metadata": {},
   "outputs": [],
   "source": [
    "num_sold = [[\"Twilight Struggle\", 100000], [\"Battle Line\",40000],[\"Dominant Species\",25000],\n",
    "            [\"Commands & Colors: Ancients\", 20000],[\"Paths of Glory\",16000],[\"Combat Commander: Europe\",13000],\n",
    "            [\"Wilderness War\",11000], [\"Labyrinth: The War on Terror, 2001 – ?\",11000],\n",
    "            [\"Thunder Alley\", 9500], [\"Formula Motor Racing\",9000], [\"Ivanhoe\",9000],\n",
    "            [\"Commands & Colors: Napoleonics\",9000], [\"Washington's War\", 9000],[\"Here I Stand\", 8500]]\n",
    "\n",
    "num_sold_df = pd.DataFrame(num_sold, columns = [\"name\",\"num_sold\"])"
   ]
  },
  {
   "cell_type": "code",
   "execution_count": 21,
   "id": "db846867",
   "metadata": {},
   "outputs": [
    {
     "data": {
      "text/html": [
       "<div>\n",
       "<style scoped>\n",
       "    .dataframe tbody tr th:only-of-type {\n",
       "        vertical-align: middle;\n",
       "    }\n",
       "\n",
       "    .dataframe tbody tr th {\n",
       "        vertical-align: top;\n",
       "    }\n",
       "\n",
       "    .dataframe thead th {\n",
       "        text-align: right;\n",
       "    }\n",
       "</style>\n",
       "<table border=\"1\" class=\"dataframe\">\n",
       "  <thead>\n",
       "    <tr style=\"text-align: right;\">\n",
       "      <th></th>\n",
       "      <th>name</th>\n",
       "      <th>url</th>\n",
       "      <th>year</th>\n",
       "      <th>num_owned</th>\n",
       "      <th>rating</th>\n",
       "      <th>weight</th>\n",
       "      <th>player_age</th>\n",
       "      <th>min_players</th>\n",
       "      <th>max_players</th>\n",
       "      <th>min_time</th>\n",
       "      <th>max_time</th>\n",
       "      <th>designers</th>\n",
       "      <th>publishers</th>\n",
       "      <th>categories</th>\n",
       "      <th>mechanics</th>\n",
       "      <th>log_owned</th>\n",
       "    </tr>\n",
       "  </thead>\n",
       "  <tbody>\n",
       "    <tr>\n",
       "      <th>15694</th>\n",
       "      <td>Washington's War</td>\n",
       "      <td>/boardgame/38996/washingtons-war</td>\n",
       "      <td>2010.0</td>\n",
       "      <td>4499.0</td>\n",
       "      <td>7.636</td>\n",
       "      <td>2.84</td>\n",
       "      <td>12.0</td>\n",
       "      <td>2.0</td>\n",
       "      <td>2.0</td>\n",
       "      <td>90.0</td>\n",
       "      <td>90.0</td>\n",
       "      <td>[Mark Herman]</td>\n",
       "      <td>[GMT Games, Spielworxx]</td>\n",
       "      <td>[Age of Reason, American Revolutionary War, Wa...</td>\n",
       "      <td>[Area Majority / Influence, Campaign / Battle ...</td>\n",
       "      <td>3.653116</td>\n",
       "    </tr>\n",
       "  </tbody>\n",
       "</table>\n",
       "</div>"
      ],
      "text/plain": [
       "                   name                               url    year  num_owned  \\\n",
       "15694  Washington's War  /boardgame/38996/washingtons-war  2010.0     4499.0   \n",
       "\n",
       "       rating  weight  player_age  min_players  max_players  min_time  \\\n",
       "15694   7.636    2.84        12.0          2.0          2.0      90.0   \n",
       "\n",
       "       max_time      designers               publishers  \\\n",
       "15694      90.0  [Mark Herman]  [GMT Games, Spielworxx]   \n",
       "\n",
       "                                              categories  \\\n",
       "15694  [Age of Reason, American Revolutionary War, Wa...   \n",
       "\n",
       "                                               mechanics  log_owned  \n",
       "15694  [Area Majority / Influence, Campaign / Battle ...   3.653116  "
      ]
     },
     "execution_count": 21,
     "metadata": {},
     "output_type": "execute_result"
    }
   ],
   "source": [
    "game_df[(game_df.name == \"Washington's War\")]"
   ]
  },
  {
   "cell_type": "code",
   "execution_count": 22,
   "id": "7b802d83",
   "metadata": {},
   "outputs": [
    {
     "data": {
      "text/html": [
       "<div>\n",
       "<style scoped>\n",
       "    .dataframe tbody tr th:only-of-type {\n",
       "        vertical-align: middle;\n",
       "    }\n",
       "\n",
       "    .dataframe tbody tr th {\n",
       "        vertical-align: top;\n",
       "    }\n",
       "\n",
       "    .dataframe thead th {\n",
       "        text-align: right;\n",
       "    }\n",
       "</style>\n",
       "<table border=\"1\" class=\"dataframe\">\n",
       "  <thead>\n",
       "    <tr style=\"text-align: right;\">\n",
       "      <th></th>\n",
       "      <th>num_sold</th>\n",
       "      <th>url</th>\n",
       "      <th>year</th>\n",
       "      <th>num_owned</th>\n",
       "      <th>rating</th>\n",
       "      <th>weight</th>\n",
       "      <th>player_age</th>\n",
       "      <th>min_players</th>\n",
       "      <th>max_players</th>\n",
       "      <th>min_time</th>\n",
       "      <th>max_time</th>\n",
       "      <th>designers</th>\n",
       "      <th>publishers</th>\n",
       "      <th>categories</th>\n",
       "      <th>mechanics</th>\n",
       "      <th>log_owned</th>\n",
       "    </tr>\n",
       "    <tr>\n",
       "      <th>name</th>\n",
       "      <th></th>\n",
       "      <th></th>\n",
       "      <th></th>\n",
       "      <th></th>\n",
       "      <th></th>\n",
       "      <th></th>\n",
       "      <th></th>\n",
       "      <th></th>\n",
       "      <th></th>\n",
       "      <th></th>\n",
       "      <th></th>\n",
       "      <th></th>\n",
       "      <th></th>\n",
       "      <th></th>\n",
       "      <th></th>\n",
       "      <th></th>\n",
       "    </tr>\n",
       "  </thead>\n",
       "  <tbody>\n",
       "    <tr>\n",
       "      <th>Battle Line</th>\n",
       "      <td>40000</td>\n",
       "      <td>/boardgame/760/battle-line</td>\n",
       "      <td>2000.0</td>\n",
       "      <td>19632.0</td>\n",
       "      <td>7.414</td>\n",
       "      <td>1.90</td>\n",
       "      <td>12.0</td>\n",
       "      <td>2.0</td>\n",
       "      <td>2.0</td>\n",
       "      <td>30.0</td>\n",
       "      <td>30.0</td>\n",
       "      <td>[Reiner Knizia]</td>\n",
       "      <td>[GMT Games, Chrononauts Games, Lavka Games, Ne...</td>\n",
       "      <td>[Ancient, Card Game, Deduction]</td>\n",
       "      <td>[Card Play Conflict Resolution, Hand Managemen...</td>\n",
       "      <td>4.292965</td>\n",
       "    </tr>\n",
       "    <tr>\n",
       "      <th>Combat Commander: Europe</th>\n",
       "      <td>13000</td>\n",
       "      <td>/boardgame/21050/combat-commander-europe</td>\n",
       "      <td>2006.0</td>\n",
       "      <td>8296.0</td>\n",
       "      <td>7.946</td>\n",
       "      <td>3.25</td>\n",
       "      <td>12.0</td>\n",
       "      <td>2.0</td>\n",
       "      <td>2.0</td>\n",
       "      <td>60.0</td>\n",
       "      <td>180.0</td>\n",
       "      <td>[Chad Jensen]</td>\n",
       "      <td>[GMT Games, Devir]</td>\n",
       "      <td>[Wargame, World War II]</td>\n",
       "      <td>[Advantage Token, Campaign / Battle Card Drive...</td>\n",
       "      <td>3.918869</td>\n",
       "    </tr>\n",
       "    <tr>\n",
       "      <th>Commands &amp; Colors: Ancients</th>\n",
       "      <td>20000</td>\n",
       "      <td>/boardgame/14105/commands-colors-ancients</td>\n",
       "      <td>2006.0</td>\n",
       "      <td>10626.0</td>\n",
       "      <td>7.776</td>\n",
       "      <td>2.69</td>\n",
       "      <td>12.0</td>\n",
       "      <td>2.0</td>\n",
       "      <td>2.0</td>\n",
       "      <td>60.0</td>\n",
       "      <td>60.0</td>\n",
       "      <td>[Richard Borg]</td>\n",
       "      <td>[GMT Games, Wargames Club Publishing]</td>\n",
       "      <td>[Ancient, Wargame]</td>\n",
       "      <td>[Campaign / Battle Card Driven, Command Cards,...</td>\n",
       "      <td>4.026370</td>\n",
       "    </tr>\n",
       "    <tr>\n",
       "      <th>Commands &amp; Colors: Napoleonics</th>\n",
       "      <td>9000</td>\n",
       "      <td>/boardgame/62222/commands-colors-napoleonics</td>\n",
       "      <td>2010.0</td>\n",
       "      <td>5073.0</td>\n",
       "      <td>8.009</td>\n",
       "      <td>2.74</td>\n",
       "      <td>14.0</td>\n",
       "      <td>2.0</td>\n",
       "      <td>2.0</td>\n",
       "      <td>90.0</td>\n",
       "      <td>90.0</td>\n",
       "      <td>[Richard Borg]</td>\n",
       "      <td>[GMT Games]</td>\n",
       "      <td>[Napoleonic, Wargame]</td>\n",
       "      <td>[Campaign / Battle Card Driven, Command Cards,...</td>\n",
       "      <td>3.705265</td>\n",
       "    </tr>\n",
       "    <tr>\n",
       "      <th>Dominant Species</th>\n",
       "      <td>25000</td>\n",
       "      <td>/boardgame/62219/dominant-species</td>\n",
       "      <td>2010.0</td>\n",
       "      <td>20123.0</td>\n",
       "      <td>7.841</td>\n",
       "      <td>4.04</td>\n",
       "      <td>14.0</td>\n",
       "      <td>2.0</td>\n",
       "      <td>6.0</td>\n",
       "      <td>120.0</td>\n",
       "      <td>240.0</td>\n",
       "      <td>[Chad Jensen]</td>\n",
       "      <td>[GMT Games, Asmodee, Asterion Press, Filosofia...</td>\n",
       "      <td>[Animals, Environmental, Prehistoric]</td>\n",
       "      <td>[Action Queue, Area Majority / Influence, Card...</td>\n",
       "      <td>4.303693</td>\n",
       "    </tr>\n",
       "    <tr>\n",
       "      <th>Formula Motor Racing</th>\n",
       "      <td>9000</td>\n",
       "      <td>/boardgame/635/formula-motor-racing</td>\n",
       "      <td>1995.0</td>\n",
       "      <td>2320.0</td>\n",
       "      <td>6.408</td>\n",
       "      <td>1.18</td>\n",
       "      <td>8.0</td>\n",
       "      <td>3.0</td>\n",
       "      <td>6.0</td>\n",
       "      <td>20.0</td>\n",
       "      <td>20.0</td>\n",
       "      <td>[Reiner Knizia]</td>\n",
       "      <td>[Egmont Polska, Gibsons, GMT Games, Die Spiege...</td>\n",
       "      <td>[Card Game, Racing, Sports]</td>\n",
       "      <td>[Dice Rolling, Hand Management, Relative Movem...</td>\n",
       "      <td>3.365488</td>\n",
       "    </tr>\n",
       "    <tr>\n",
       "      <th>Here I Stand</th>\n",
       "      <td>8500</td>\n",
       "      <td>/boardgame/17392/here-i-stand</td>\n",
       "      <td>2006.0</td>\n",
       "      <td>5161.0</td>\n",
       "      <td>7.911</td>\n",
       "      <td>4.17</td>\n",
       "      <td>12.0</td>\n",
       "      <td>2.0</td>\n",
       "      <td>6.0</td>\n",
       "      <td>180.0</td>\n",
       "      <td>360.0</td>\n",
       "      <td>[Ed Beach]</td>\n",
       "      <td>[GMT Games, Banana Games, Devir, Udo Grebe Gam...</td>\n",
       "      <td>[Negotiation, Pike and Shot, Political, Religi...</td>\n",
       "      <td>[Campaign / Battle Card Driven, Dice Rolling, ...</td>\n",
       "      <td>3.712734</td>\n",
       "    </tr>\n",
       "    <tr>\n",
       "      <th>Ivanhoe</th>\n",
       "      <td>9000</td>\n",
       "      <td>/boardgame/883/ivanhoe</td>\n",
       "      <td>2000.0</td>\n",
       "      <td>2562.0</td>\n",
       "      <td>6.539</td>\n",
       "      <td>1.61</td>\n",
       "      <td>10.0</td>\n",
       "      <td>2.0</td>\n",
       "      <td>5.0</td>\n",
       "      <td>45.0</td>\n",
       "      <td>45.0</td>\n",
       "      <td>[Reiner Knizia, Andy Lewis]</td>\n",
       "      <td>[Asmodee, GMT Games, Maldón]</td>\n",
       "      <td>[Card Game, Fighting, Medieval]</td>\n",
       "      <td>[Auction/Bidding, Hand Management, Set Collect...</td>\n",
       "      <td>3.408579</td>\n",
       "    </tr>\n",
       "    <tr>\n",
       "      <th>Labyrinth: The War on Terror, 2001 – ?</th>\n",
       "      <td>11000</td>\n",
       "      <td>/boardgame/62227/labyrinth-war-terror-2001</td>\n",
       "      <td>2010.0</td>\n",
       "      <td>8964.0</td>\n",
       "      <td>7.595</td>\n",
       "      <td>3.63</td>\n",
       "      <td>12.0</td>\n",
       "      <td>1.0</td>\n",
       "      <td>2.0</td>\n",
       "      <td>180.0</td>\n",
       "      <td>180.0</td>\n",
       "      <td>[Volko Ruhnke]</td>\n",
       "      <td>[GMT Games, Asterion Press, Bard Centrum Gier,...</td>\n",
       "      <td>[Arabian, Modern Warfare, Political, Wargame]</td>\n",
       "      <td>[Action Points, Action/Event, Area Majority / ...</td>\n",
       "      <td>3.952502</td>\n",
       "    </tr>\n",
       "    <tr>\n",
       "      <th>Paths of Glory</th>\n",
       "      <td>16000</td>\n",
       "      <td>/boardgame/91/paths-glory</td>\n",
       "      <td>1999.0</td>\n",
       "      <td>8850.0</td>\n",
       "      <td>8.057</td>\n",
       "      <td>3.84</td>\n",
       "      <td>14.0</td>\n",
       "      <td>2.0</td>\n",
       "      <td>2.0</td>\n",
       "      <td>480.0</td>\n",
       "      <td>480.0</td>\n",
       "      <td>[Ted Raicer]</td>\n",
       "      <td>[GMT Games, Devir, DiceTree Games, Udo Grebe G...</td>\n",
       "      <td>[Wargame, World War I]</td>\n",
       "      <td>[Campaign / Battle Card Driven, Dice Rolling, ...</td>\n",
       "      <td>3.946943</td>\n",
       "    </tr>\n",
       "    <tr>\n",
       "      <th>Thunder Alley</th>\n",
       "      <td>9500</td>\n",
       "      <td>/boardgame/108906/thunder-alley</td>\n",
       "      <td>2014.0</td>\n",
       "      <td>4169.0</td>\n",
       "      <td>7.321</td>\n",
       "      <td>2.38</td>\n",
       "      <td>10.0</td>\n",
       "      <td>2.0</td>\n",
       "      <td>7.0</td>\n",
       "      <td>90.0</td>\n",
       "      <td>90.0</td>\n",
       "      <td>[Jeff Horger, Carla Horger]</td>\n",
       "      <td>[GMT Games]</td>\n",
       "      <td>[Racing, Sports]</td>\n",
       "      <td>[Hand Management, Race]</td>\n",
       "      <td>3.620032</td>\n",
       "    </tr>\n",
       "    <tr>\n",
       "      <th>Twilight Struggle</th>\n",
       "      <td>100000</td>\n",
       "      <td>/boardgame/12333/twilight-struggle</td>\n",
       "      <td>2005.0</td>\n",
       "      <td>58790.0</td>\n",
       "      <td>8.283</td>\n",
       "      <td>3.59</td>\n",
       "      <td>13.0</td>\n",
       "      <td>2.0</td>\n",
       "      <td>2.0</td>\n",
       "      <td>120.0</td>\n",
       "      <td>180.0</td>\n",
       "      <td>[Ananda Gupta, Jason Matthews]</td>\n",
       "      <td>[GMT Games, (Self-Published), Asterion Press, ...</td>\n",
       "      <td>[Modern Warfare, Political, Wargame]</td>\n",
       "      <td>[Action/Event, Advantage Token, Area Majority ...</td>\n",
       "      <td>4.769303</td>\n",
       "    </tr>\n",
       "    <tr>\n",
       "      <th>Washington's War</th>\n",
       "      <td>9000</td>\n",
       "      <td>/boardgame/38996/washingtons-war</td>\n",
       "      <td>2010.0</td>\n",
       "      <td>4499.0</td>\n",
       "      <td>7.636</td>\n",
       "      <td>2.84</td>\n",
       "      <td>12.0</td>\n",
       "      <td>2.0</td>\n",
       "      <td>2.0</td>\n",
       "      <td>90.0</td>\n",
       "      <td>90.0</td>\n",
       "      <td>[Mark Herman]</td>\n",
       "      <td>[GMT Games, Spielworxx]</td>\n",
       "      <td>[Age of Reason, American Revolutionary War, Wa...</td>\n",
       "      <td>[Area Majority / Influence, Campaign / Battle ...</td>\n",
       "      <td>3.653116</td>\n",
       "    </tr>\n",
       "    <tr>\n",
       "      <th>Wilderness War</th>\n",
       "      <td>11000</td>\n",
       "      <td>/boardgame/1822/wilderness-war</td>\n",
       "      <td>2001.0</td>\n",
       "      <td>3977.0</td>\n",
       "      <td>7.714</td>\n",
       "      <td>3.30</td>\n",
       "      <td>12.0</td>\n",
       "      <td>2.0</td>\n",
       "      <td>2.0</td>\n",
       "      <td>180.0</td>\n",
       "      <td>180.0</td>\n",
       "      <td>[Volko Ruhnke]</td>\n",
       "      <td>[GMT Games]</td>\n",
       "      <td>[Age of Reason, American Indian Wars, Wargame]</td>\n",
       "      <td>[Campaign / Battle Card Driven, Dice Rolling, ...</td>\n",
       "      <td>3.599556</td>\n",
       "    </tr>\n",
       "  </tbody>\n",
       "</table>\n",
       "</div>"
      ],
      "text/plain": [
       "                                        num_sold  \\\n",
       "name                                               \n",
       "Battle Line                                40000   \n",
       "Combat Commander: Europe                   13000   \n",
       "Commands & Colors: Ancients                20000   \n",
       "Commands & Colors: Napoleonics              9000   \n",
       "Dominant Species                           25000   \n",
       "Formula Motor Racing                        9000   \n",
       "Here I Stand                                8500   \n",
       "Ivanhoe                                     9000   \n",
       "Labyrinth: The War on Terror, 2001 – ?     11000   \n",
       "Paths of Glory                             16000   \n",
       "Thunder Alley                               9500   \n",
       "Twilight Struggle                         100000   \n",
       "Washington's War                            9000   \n",
       "Wilderness War                             11000   \n",
       "\n",
       "                                                                                 url  \\\n",
       "name                                                                                   \n",
       "Battle Line                                               /boardgame/760/battle-line   \n",
       "Combat Commander: Europe                    /boardgame/21050/combat-commander-europe   \n",
       "Commands & Colors: Ancients                /boardgame/14105/commands-colors-ancients   \n",
       "Commands & Colors: Napoleonics          /boardgame/62222/commands-colors-napoleonics   \n",
       "Dominant Species                                   /boardgame/62219/dominant-species   \n",
       "Formula Motor Racing                             /boardgame/635/formula-motor-racing   \n",
       "Here I Stand                                           /boardgame/17392/here-i-stand   \n",
       "Ivanhoe                                                       /boardgame/883/ivanhoe   \n",
       "Labyrinth: The War on Terror, 2001 – ?    /boardgame/62227/labyrinth-war-terror-2001   \n",
       "Paths of Glory                                             /boardgame/91/paths-glory   \n",
       "Thunder Alley                                        /boardgame/108906/thunder-alley   \n",
       "Twilight Struggle                                 /boardgame/12333/twilight-struggle   \n",
       "Washington's War                                    /boardgame/38996/washingtons-war   \n",
       "Wilderness War                                        /boardgame/1822/wilderness-war   \n",
       "\n",
       "                                          year  num_owned  rating  weight  \\\n",
       "name                                                                        \n",
       "Battle Line                             2000.0    19632.0   7.414    1.90   \n",
       "Combat Commander: Europe                2006.0     8296.0   7.946    3.25   \n",
       "Commands & Colors: Ancients             2006.0    10626.0   7.776    2.69   \n",
       "Commands & Colors: Napoleonics          2010.0     5073.0   8.009    2.74   \n",
       "Dominant Species                        2010.0    20123.0   7.841    4.04   \n",
       "Formula Motor Racing                    1995.0     2320.0   6.408    1.18   \n",
       "Here I Stand                            2006.0     5161.0   7.911    4.17   \n",
       "Ivanhoe                                 2000.0     2562.0   6.539    1.61   \n",
       "Labyrinth: The War on Terror, 2001 – ?  2010.0     8964.0   7.595    3.63   \n",
       "Paths of Glory                          1999.0     8850.0   8.057    3.84   \n",
       "Thunder Alley                           2014.0     4169.0   7.321    2.38   \n",
       "Twilight Struggle                       2005.0    58790.0   8.283    3.59   \n",
       "Washington's War                        2010.0     4499.0   7.636    2.84   \n",
       "Wilderness War                          2001.0     3977.0   7.714    3.30   \n",
       "\n",
       "                                        player_age  min_players  max_players  \\\n",
       "name                                                                           \n",
       "Battle Line                                   12.0          2.0          2.0   \n",
       "Combat Commander: Europe                      12.0          2.0          2.0   \n",
       "Commands & Colors: Ancients                   12.0          2.0          2.0   \n",
       "Commands & Colors: Napoleonics                14.0          2.0          2.0   \n",
       "Dominant Species                              14.0          2.0          6.0   \n",
       "Formula Motor Racing                           8.0          3.0          6.0   \n",
       "Here I Stand                                  12.0          2.0          6.0   \n",
       "Ivanhoe                                       10.0          2.0          5.0   \n",
       "Labyrinth: The War on Terror, 2001 – ?        12.0          1.0          2.0   \n",
       "Paths of Glory                                14.0          2.0          2.0   \n",
       "Thunder Alley                                 10.0          2.0          7.0   \n",
       "Twilight Struggle                             13.0          2.0          2.0   \n",
       "Washington's War                              12.0          2.0          2.0   \n",
       "Wilderness War                                12.0          2.0          2.0   \n",
       "\n",
       "                                        min_time  max_time  \\\n",
       "name                                                         \n",
       "Battle Line                                 30.0      30.0   \n",
       "Combat Commander: Europe                    60.0     180.0   \n",
       "Commands & Colors: Ancients                 60.0      60.0   \n",
       "Commands & Colors: Napoleonics              90.0      90.0   \n",
       "Dominant Species                           120.0     240.0   \n",
       "Formula Motor Racing                        20.0      20.0   \n",
       "Here I Stand                               180.0     360.0   \n",
       "Ivanhoe                                     45.0      45.0   \n",
       "Labyrinth: The War on Terror, 2001 – ?     180.0     180.0   \n",
       "Paths of Glory                             480.0     480.0   \n",
       "Thunder Alley                               90.0      90.0   \n",
       "Twilight Struggle                          120.0     180.0   \n",
       "Washington's War                            90.0      90.0   \n",
       "Wilderness War                             180.0     180.0   \n",
       "\n",
       "                                                             designers  \\\n",
       "name                                                                     \n",
       "Battle Line                                            [Reiner Knizia]   \n",
       "Combat Commander: Europe                                 [Chad Jensen]   \n",
       "Commands & Colors: Ancients                             [Richard Borg]   \n",
       "Commands & Colors: Napoleonics                          [Richard Borg]   \n",
       "Dominant Species                                         [Chad Jensen]   \n",
       "Formula Motor Racing                                   [Reiner Knizia]   \n",
       "Here I Stand                                                [Ed Beach]   \n",
       "Ivanhoe                                    [Reiner Knizia, Andy Lewis]   \n",
       "Labyrinth: The War on Terror, 2001 – ?                  [Volko Ruhnke]   \n",
       "Paths of Glory                                            [Ted Raicer]   \n",
       "Thunder Alley                              [Jeff Horger, Carla Horger]   \n",
       "Twilight Struggle                       [Ananda Gupta, Jason Matthews]   \n",
       "Washington's War                                         [Mark Herman]   \n",
       "Wilderness War                                          [Volko Ruhnke]   \n",
       "\n",
       "                                                                               publishers  \\\n",
       "name                                                                                        \n",
       "Battle Line                             [GMT Games, Chrononauts Games, Lavka Games, Ne...   \n",
       "Combat Commander: Europe                                               [GMT Games, Devir]   \n",
       "Commands & Colors: Ancients                         [GMT Games, Wargames Club Publishing]   \n",
       "Commands & Colors: Napoleonics                                                [GMT Games]   \n",
       "Dominant Species                        [GMT Games, Asmodee, Asterion Press, Filosofia...   \n",
       "Formula Motor Racing                    [Egmont Polska, Gibsons, GMT Games, Die Spiege...   \n",
       "Here I Stand                            [GMT Games, Banana Games, Devir, Udo Grebe Gam...   \n",
       "Ivanhoe                                                      [Asmodee, GMT Games, Maldón]   \n",
       "Labyrinth: The War on Terror, 2001 – ?  [GMT Games, Asterion Press, Bard Centrum Gier,...   \n",
       "Paths of Glory                          [GMT Games, Devir, DiceTree Games, Udo Grebe G...   \n",
       "Thunder Alley                                                                 [GMT Games]   \n",
       "Twilight Struggle                       [GMT Games, (Self-Published), Asterion Press, ...   \n",
       "Washington's War                                                  [GMT Games, Spielworxx]   \n",
       "Wilderness War                                                                [GMT Games]   \n",
       "\n",
       "                                                                               categories  \\\n",
       "name                                                                                        \n",
       "Battle Line                                               [Ancient, Card Game, Deduction]   \n",
       "Combat Commander: Europe                                          [Wargame, World War II]   \n",
       "Commands & Colors: Ancients                                            [Ancient, Wargame]   \n",
       "Commands & Colors: Napoleonics                                      [Napoleonic, Wargame]   \n",
       "Dominant Species                                    [Animals, Environmental, Prehistoric]   \n",
       "Formula Motor Racing                                          [Card Game, Racing, Sports]   \n",
       "Here I Stand                            [Negotiation, Pike and Shot, Political, Religi...   \n",
       "Ivanhoe                                                   [Card Game, Fighting, Medieval]   \n",
       "Labyrinth: The War on Terror, 2001 – ?      [Arabian, Modern Warfare, Political, Wargame]   \n",
       "Paths of Glory                                                     [Wargame, World War I]   \n",
       "Thunder Alley                                                            [Racing, Sports]   \n",
       "Twilight Struggle                                    [Modern Warfare, Political, Wargame]   \n",
       "Washington's War                        [Age of Reason, American Revolutionary War, Wa...   \n",
       "Wilderness War                             [Age of Reason, American Indian Wars, Wargame]   \n",
       "\n",
       "                                                                                mechanics  \\\n",
       "name                                                                                        \n",
       "Battle Line                             [Card Play Conflict Resolution, Hand Managemen...   \n",
       "Combat Commander: Europe                [Advantage Token, Campaign / Battle Card Drive...   \n",
       "Commands & Colors: Ancients             [Campaign / Battle Card Driven, Command Cards,...   \n",
       "Commands & Colors: Napoleonics          [Campaign / Battle Card Driven, Command Cards,...   \n",
       "Dominant Species                        [Action Queue, Area Majority / Influence, Card...   \n",
       "Formula Motor Racing                    [Dice Rolling, Hand Management, Relative Movem...   \n",
       "Here I Stand                            [Campaign / Battle Card Driven, Dice Rolling, ...   \n",
       "Ivanhoe                                 [Auction/Bidding, Hand Management, Set Collect...   \n",
       "Labyrinth: The War on Terror, 2001 – ?  [Action Points, Action/Event, Area Majority / ...   \n",
       "Paths of Glory                          [Campaign / Battle Card Driven, Dice Rolling, ...   \n",
       "Thunder Alley                                                     [Hand Management, Race]   \n",
       "Twilight Struggle                       [Action/Event, Advantage Token, Area Majority ...   \n",
       "Washington's War                        [Area Majority / Influence, Campaign / Battle ...   \n",
       "Wilderness War                          [Campaign / Battle Card Driven, Dice Rolling, ...   \n",
       "\n",
       "                                        log_owned  \n",
       "name                                               \n",
       "Battle Line                              4.292965  \n",
       "Combat Commander: Europe                 3.918869  \n",
       "Commands & Colors: Ancients              4.026370  \n",
       "Commands & Colors: Napoleonics           3.705265  \n",
       "Dominant Species                         4.303693  \n",
       "Formula Motor Racing                     3.365488  \n",
       "Here I Stand                             3.712734  \n",
       "Ivanhoe                                  3.408579  \n",
       "Labyrinth: The War on Terror, 2001 – ?   3.952502  \n",
       "Paths of Glory                           3.946943  \n",
       "Thunder Alley                            3.620032  \n",
       "Twilight Struggle                        4.769303  \n",
       "Washington's War                         3.653116  \n",
       "Wilderness War                           3.599556  "
      ]
     },
     "execution_count": 22,
     "metadata": {},
     "output_type": "execute_result"
    }
   ],
   "source": [
    "gt_df = num_sold_df.set_index(\"name\").join(game_df.set_index(\"name\"))\n",
    "gt_df"
   ]
  },
  {
   "cell_type": "code",
   "execution_count": 23,
   "id": "4d7c54fc",
   "metadata": {},
   "outputs": [
    {
     "data": {
      "image/png": "[encoded data removed]",
      "text/plain": [
       "<Figure size 432x288 with 1 Axes>"
      ]
     },
     "metadata": {
      "needs_background": "light"
     },
     "output_type": "display_data"
    }
   ],
   "source": [
    "\n",
    "ax = gt_df.plot(x='num_owned', y='num_sold', kind='scatter')\n",
    "ax.plot(x, np.exp(game_model.params.const + game_model.params.weight * x), color = \"red\")\n"
   ]
  },
  {
   "cell_type": "code",
   "execution_count": 89,
   "id": "1b645814",
   "metadata": {},
   "outputs": [
    {
     "name": "stderr",
     "output_type": "stream",
     "text": [
      "/Users/rsolava/opt/anaconda3/lib/python3.8/site-packages/scipy/stats/stats.py:1603: UserWarning: kurtosistest only valid for n>=20 ... continuing anyway, n=14\n",
      "  warnings.warn(\"kurtosistest only valid for n>=20 ... continuing \"\n"
     ]
    },
    {
     "data": {
      "text/html": [
       "<table class=\"simpletable\">\n",
       "<caption>OLS Regression Results</caption>\n",
       "<tr>\n",
       "  <th>Dep. Variable:</th>        <td>num_sold</td>     <th>  R-squared:         </th> <td>   0.974</td>\n",
       "</tr>\n",
       "<tr>\n",
       "  <th>Model:</th>                   <td>OLS</td>       <th>  Adj. R-squared:    </th> <td>   0.972</td>\n",
       "</tr>\n",
       "<tr>\n",
       "  <th>Method:</th>             <td>Least Squares</td>  <th>  F-statistic:       </th> <td>   444.3</td>\n",
       "</tr>\n",
       "<tr>\n",
       "  <th>Date:</th>             <td>Tue, 09 Nov 2021</td> <th>  Prob (F-statistic):</th> <td>7.55e-11</td>\n",
       "</tr>\n",
       "<tr>\n",
       "  <th>Time:</th>                 <td>19:33:59</td>     <th>  Log-Likelihood:    </th> <td> -135.34</td>\n",
       "</tr>\n",
       "<tr>\n",
       "  <th>No. Observations:</th>      <td>    14</td>      <th>  AIC:               </th> <td>   274.7</td>\n",
       "</tr>\n",
       "<tr>\n",
       "  <th>Df Residuals:</th>          <td>    12</td>      <th>  BIC:               </th> <td>   276.0</td>\n",
       "</tr>\n",
       "<tr>\n",
       "  <th>Df Model:</th>              <td>     1</td>      <th>                     </th>     <td> </td>   \n",
       "</tr>\n",
       "<tr>\n",
       "  <th>Covariance Type:</th>      <td>nonrobust</td>    <th>                     </th>     <td> </td>   \n",
       "</tr>\n",
       "</table>\n",
       "<table class=\"simpletable\">\n",
       "<tr>\n",
       "      <td></td>         <th>coef</th>     <th>std err</th>      <th>t</th>      <th>P>|t|</th>  <th>[0.025</th>    <th>0.975]</th>  \n",
       "</tr>\n",
       "<tr>\n",
       "  <th>const</th>     <td> 1589.9024</td> <td> 1428.204</td> <td>    1.113</td> <td> 0.287</td> <td>-1521.886</td> <td> 4701.691</td>\n",
       "</tr>\n",
       "<tr>\n",
       "  <th>num_owned</th> <td>    1.6422</td> <td>    0.078</td> <td>   21.078</td> <td> 0.000</td> <td>    1.472</td> <td>    1.812</td>\n",
       "</tr>\n",
       "</table>\n",
       "<table class=\"simpletable\">\n",
       "<tr>\n",
       "  <th>Omnibus:</th>       <td> 5.015</td> <th>  Durbin-Watson:     </th> <td>   2.434</td>\n",
       "</tr>\n",
       "<tr>\n",
       "  <th>Prob(Omnibus):</th> <td> 0.081</td> <th>  Jarque-Bera (JB):  </th> <td>   2.290</td>\n",
       "</tr>\n",
       "<tr>\n",
       "  <th>Skew:</th>          <td>-0.913</td> <th>  Prob(JB):          </th> <td>   0.318</td>\n",
       "</tr>\n",
       "<tr>\n",
       "  <th>Kurtosis:</th>      <td> 3.771</td> <th>  Cond. No.          </th> <td>2.37e+04</td>\n",
       "</tr>\n",
       "</table><br/><br/>Notes:<br/>[1] Standard Errors assume that the covariance matrix of the errors is correctly specified.<br/>[2] The condition number is large, 2.37e+04. This might indicate that there are<br/>strong multicollinearity or other numerical problems."
      ],
      "text/plain": [
       "<class 'statsmodels.iolib.summary.Summary'>\n",
       "\"\"\"\n",
       "                            OLS Regression Results                            \n",
       "==============================================================================\n",
       "Dep. Variable:               num_sold   R-squared:                       0.974\n",
       "Model:                            OLS   Adj. R-squared:                  0.972\n",
       "Method:                 Least Squares   F-statistic:                     444.3\n",
       "Date:                Tue, 09 Nov 2021   Prob (F-statistic):           7.55e-11\n",
       "Time:                        19:33:59   Log-Likelihood:                -135.34\n",
       "No. Observations:                  14   AIC:                             274.7\n",
       "Df Residuals:                      12   BIC:                             276.0\n",
       "Df Model:                           1                                         \n",
       "Covariance Type:            nonrobust                                         \n",
       "==============================================================================\n",
       "                 coef    std err          t      P>|t|      [0.025      0.975]\n",
       "------------------------------------------------------------------------------\n",
       "const       1589.9024   1428.204      1.113      0.287   -1521.886    4701.691\n",
       "num_owned      1.6422      0.078     21.078      0.000       1.472       1.812\n",
       "==============================================================================\n",
       "Omnibus:                        5.015   Durbin-Watson:                   2.434\n",
       "Prob(Omnibus):                  0.081   Jarque-Bera (JB):                2.290\n",
       "Skew:                          -0.913   Prob(JB):                        0.318\n",
       "Kurtosis:                       3.771   Cond. No.                     2.37e+04\n",
       "==============================================================================\n",
       "\n",
       "Notes:\n",
       "[1] Standard Errors assume that the covariance matrix of the errors is correctly specified.\n",
       "[2] The condition number is large, 2.37e+04. This might indicate that there are\n",
       "strong multicollinearity or other numerical problems.\n",
       "\"\"\""
      ]
     },
     "execution_count": 89,
     "metadata": {},
     "output_type": "execute_result"
    }
   ],
   "source": [
    "y = gt_df.num_sold\n",
    "X = gt_df.num_owned\n",
    "X = sm.add_constant(X)\n",
    "\n",
    "model = sm.OLS(y,X)\n",
    "game_model = model.fit()\n",
    "\n",
    "game_model.summary()"
   ]
  },
  {
   "cell_type": "code",
   "execution_count": 100,
   "id": "b0453465",
   "metadata": {},
   "outputs": [
    {
     "data": {
      "image/png": "[encoded data removed]",
      "text/plain": [
       "<Figure size 432x288 with 1 Axes>"
      ]
     },
     "metadata": {
      "needs_background": "light"
     },
     "output_type": "display_data"
    }
   ],
   "source": [
    "x = np.arange(0, 60000)\n",
    "\n",
    "ax = gt_df.plot(x='num_owned', y='num_sold', kind='scatter')\n",
    "ax.plot(x, game_model.params.const + game_model.params.num_owned * x, color = \"red\")\n",
    "\n",
    "plt.title(\"Sales data for publisher GMT Games\")\n",
    "plt.ylabel(\"Number of copies sold\")\n",
    "plt.xlabel(\"Number owned by BGG users\")\n",
    "\n",
    "plt.savefig(\"owned_v_sales.png\",bbox_inches=\"tight\")\n"
   ]
  },
  {
   "cell_type": "code",
   "execution_count": 25,
   "id": "178f10cc",
   "metadata": {},
   "outputs": [
    {
     "data": {
      "text/plain": [
       "0.986762754618917"
      ]
     },
     "execution_count": 25,
     "metadata": {},
     "output_type": "execute_result"
    }
   ],
   "source": [
    "gt_df.num_owned.corr(gt_df.num_sold)"
   ]
  },
  {
   "cell_type": "markdown",
   "id": "2d23771d",
   "metadata": {},
   "source": [
    "There is a strong linear relationship between games sold and games owned for this publisher. That's very promising for our analysis, although it may not hold as strongly for all games. It is a very small sample and not representative."
   ]
  },
  {
   "cell_type": "code",
   "execution_count": 26,
   "id": "3382c0a7",
   "metadata": {},
   "outputs": [
    {
     "data": {
      "image/png": "[encoded data removed]",
      "text/plain": [
       "<Figure size 432x288 with 1 Axes>"
      ]
     },
     "metadata": {
      "needs_background": "light"
     },
     "output_type": "display_data"
    }
   ],
   "source": [
    "ax = plt.scatter(game_df.weight*game_df.weight,game_df.num_owned)"
   ]
  },
  {
   "cell_type": "code",
   "execution_count": 30,
   "id": "4f5d02bb",
   "metadata": {},
   "outputs": [
    {
     "data": {
      "text/plain": [
       "0.08607119106869912"
      ]
     },
     "execution_count": 30,
     "metadata": {},
     "output_type": "execute_result"
    }
   ],
   "source": [
    "game_df.num_owned.corr(game_df.weight*game_df.weight)"
   ]
  },
  {
   "cell_type": "code",
   "execution_count": 31,
   "id": "46466a06",
   "metadata": {},
   "outputs": [
    {
     "data": {
      "text/plain": [
       "0.09418162849367459"
      ]
     },
     "execution_count": 31,
     "metadata": {},
     "output_type": "execute_result"
    }
   ],
   "source": [
    "game_df.num_owned.corr(game_df.weight)"
   ]
  },
  {
   "cell_type": "code",
   "execution_count": 27,
   "id": "60026ac0",
   "metadata": {},
   "outputs": [
    {
     "data": {
      "text/plain": [
       "<AxesSubplot:xlabel='num_owned', ylabel='Count'>"
      ]
     },
     "execution_count": 27,
     "metadata": {},
     "output_type": "execute_result"
    },
    {
     "data": {
      "image/png": "[encoded data removed]",
      "text/plain": [
       "<Figure size 432x288 with 1 Axes>"
      ]
     },
     "metadata": {
      "needs_background": "light"
     },
     "output_type": "display_data"
    }
   ],
   "source": [
    "import seaborn as sns\n",
    "sns.histplot(game_df[\"num_owned\"], log_scale=True)"
   ]
  },
  {
   "cell_type": "code",
   "execution_count": 103,
   "id": "56f2b69b",
   "metadata": {},
   "outputs": [
    {
     "data": {
      "image/png": "[encoded data removed]",
      "text/plain": [
       "<Figure size 432x288 with 1 Axes>"
      ]
     },
     "metadata": {
      "needs_background": "light"
     },
     "output_type": "display_data"
    }
   ],
   "source": [
    "sns.histplot(x=game_df[\"num_owned\"],bins=50, log_scale=(False,True))\n",
    "\n",
    "plt.xlabel(\"Number owned by BGG users\")\n",
    "\n",
    "plt.title(\"Distribution of number of games owned\")\n",
    "\n",
    "\n",
    "plt.savefig(\"owned_dist.png\",bbox_inches=\"tight\")"
   ]
  },
  {
   "cell_type": "code",
   "execution_count": 32,
   "id": "c237b07b",
   "metadata": {},
   "outputs": [
    {
     "data": {
      "text/plain": [
       "<AxesSubplot:xlabel='num_owned'>"
      ]
     },
     "execution_count": 32,
     "metadata": {},
     "output_type": "execute_result"
    },
    {
     "data": {
      "image/png": "[encoded data removed]",
      "text/plain": [
       "<Figure size 432x288 with 1 Axes>"
      ]
     },
     "metadata": {
      "needs_background": "light"
     },
     "output_type": "display_data"
    }
   ],
   "source": [
    "\n",
    "sns.boxplot(x=np.log(game_df[\"num_owned\"]))"
   ]
  },
  {
   "cell_type": "markdown",
   "id": "33bc3c3f",
   "metadata": {},
   "source": [
    "Dealing with categorical data"
   ]
  },
  {
   "cell_type": "code",
   "execution_count": 33,
   "id": "ed314838",
   "metadata": {},
   "outputs": [],
   "source": [
    "all_publishers = set(game_df.publishers.dropna().sum())\n",
    "all_designers = set(game_df.designers.dropna().sum())\n",
    "all_categories = set(game_df.categories.dropna().sum())\n",
    "all_mechanics = set(game_df.mechanics.dropna().sum())"
   ]
  },
  {
   "cell_type": "code",
   "execution_count": 34,
   "id": "36b0d3fb",
   "metadata": {},
   "outputs": [
    {
     "name": "stdout",
     "output_type": "stream",
     "text": [
      "5148 different publishers.\n",
      "8669 different designers.\n",
      "83 different categories.\n",
      "182 different mechanics.\n"
     ]
    }
   ],
   "source": [
    "print(\"{} different publishers.\".format(len(all_publishers)))\n",
    "print(\"{} different designers.\".format(len(all_designers)))\n",
    "print(\"{} different categories.\".format(len(all_categories)))\n",
    "print(\"{} different mechanics.\".format(len(all_mechanics)))"
   ]
  },
  {
   "cell_type": "code",
   "execution_count": 49,
   "id": "3a530ae9",
   "metadata": {},
   "outputs": [],
   "source": [
    "cat_stats = {} #Key categories ,values are (count, mean owned, median owned)\n",
    "for cat in all_categories:\n",
    "    mask = game_df[\"categories\"].apply(lambda x: False if x is None else cat in x)\n",
    "    owned = game_df[mask].num_owned\n",
    "    cat_stats[cat] = (mask.sum(), stats.gmean(owned), owned.mean(), owned.median(), owned.std())\n",
    "\n",
    "cat_list = list(all_categories)\n",
    "cat_list.sort(key=lambda x:cat_stats[x][0], reverse=True)\n",
    "top10cats = cat_list[:10]\n",
    "top5cats = cat_list[:5]"
   ]
  },
  {
   "cell_type": "code",
   "execution_count": 125,
   "id": "1d660cd4",
   "metadata": {},
   "outputs": [
    {
     "data": {
      "image/png": "[encoded data removed]",
      "text/plain": [
       "<Figure size 432x288 with 1 Axes>"
      ]
     },
     "metadata": {
      "needs_background": "light"
     },
     "output_type": "display_data"
    }
   ],
   "source": [
    "top10cats.sort(key=lambda x:cat_stats[x][1])\n",
    "graph = sns.barplot(y= top10cats, x = [cat_stats[s][1] for s in top10cats])\n",
    "graph.axvline(stats.gmean(game_df.num_owned), color = \"red\")\n",
    "\n",
    "plt.ylabel(\"Genre\")\n",
    "plt.xlabel(\"Geometric mean of number owned\")\n",
    "\n",
    "plt.savefig(\"genre_owned.png\",bbox_inches=\"tight\")"
   ]
  },
  {
   "cell_type": "code",
   "execution_count": 51,
   "id": "0fcc3f8e",
   "metadata": {},
   "outputs": [],
   "source": [
    "mech_stats = {} #Key categories ,values are (count, mean owned, median owned)\n",
    "for mech in all_mechanics:\n",
    "    mask = game_df[\"mechanics\"].apply(lambda x: False if x is None else mech in x)\n",
    "    owned = game_df[mask].num_owned\n",
    "    mech_stats[mech] = (mask.sum(), stats.gmean(owned), owned.mean(), owned.median(), owned.std())\n",
    "    \n",
    "mech_list = list(all_mechanics)\n",
    "mech_list.sort(key=lambda x:mech_stats[x][0], reverse=True)\n",
    "top10mechs = mech_list[:10]\n",
    "top5mechs = mech_list[:5]"
   ]
  },
  {
   "cell_type": "code",
   "execution_count": 124,
   "id": "9ca58015",
   "metadata": {},
   "outputs": [
    {
     "data": {
      "image/png": "[encoded data removed]",
      "text/plain": [
       "<Figure size 432x288 with 1 Axes>"
      ]
     },
     "metadata": {
      "needs_background": "light"
     },
     "output_type": "display_data"
    }
   ],
   "source": [
    "top10mechs.sort(key=lambda x:mech_stats[x][1])\n",
    "graph = sns.barplot(y= top10mechs, x = [mech_stats[s][1] for s in top10mechs])\n",
    "graph.axvline(stats.gmean(game_df.num_owned), color = \"red\")\n",
    "\n",
    "plt.ylabel(\"Mechanics\")\n",
    "plt.xlabel(\"Geometric mean of number owned\")\n",
    "\n",
    "plt.savefig(\"mechs_owned.png\",bbox_inches=\"tight\")"
   ]
  },
  {
   "cell_type": "code",
   "execution_count": 57,
   "id": "bb237cdf",
   "metadata": {},
   "outputs": [],
   "source": [
    "pub_stats = {} #Key categories ,values are (count, mean owned, median owned)\n",
    "for pub in all_publishers:\n",
    "    mask = game_df[\"publishers\"].apply(lambda x: False if x is None else pub in x)\n",
    "    owned = game_df[mask].num_owned\n",
    "    pub_stats[pub] = (mask.sum(), stats.gmean(owned), owned.mean(), owned.median(), owned.std())\n",
    "\n",
    "pub_list = list(all_publishers)\n",
    "pub_list.sort(key=lambda x:pub_stats[x][0], reverse=True)\n",
    "top10pubs = pub_list[:10]\n",
    "top5pubs = pub_list[:5]"
   ]
  },
  {
   "cell_type": "code",
   "execution_count": 123,
   "id": "64d79ea0",
   "metadata": {},
   "outputs": [
    {
     "data": {
      "image/png": "[encoded data removed]",
      "text/plain": [
       "<Figure size 432x288 with 1 Axes>"
      ]
     },
     "metadata": {
      "needs_background": "light"
     },
     "output_type": "display_data"
    }
   ],
   "source": [
    "top10pubs.sort(key=lambda x:pub_stats[x][1])\n",
    "graph = sns.barplot(y= top10pubs, x = [pub_stats[s][1] for s in top10pubs])\n",
    "graph.axvline(stats.gmean(game_df.num_owned), color = \"red\")\n",
    "plt.ylabel(\"Publisher\")\n",
    "plt.xlabel(\"Geometric mean of number owned\")\n",
    "\n",
    "plt.savefig(\"pub_owned.png\",bbox_inches=\"tight\")"
   ]
  },
  {
   "cell_type": "markdown",
   "id": "ac890801",
   "metadata": {},
   "source": [
    "Let's add those top categories/mechanics as rows to the dataframe"
   ]
  },
  {
   "cell_type": "code",
   "execution_count": 45,
   "id": "88e1f8c8",
   "metadata": {},
   "outputs": [],
   "source": [
    "des_stats = {} #Key categories ,values are (count, mean owned, median owned)\n",
    "for des in all_designers:\n",
    "    mask = game_df[\"designers\"].apply(lambda x: False if x is None else des in x)\n",
    "    owned = game_df[mask].num_owned\n",
    "    des_stats[des] = (mask.sum(), stats.gmean(owned), owned.mean(), owned.median(), owned.std())\n",
    "\n",
    "des_list = list(all_designers)\n",
    "des_list.sort(key=lambda x:des_stats[x][0], reverse=True)\n",
    "top10dess = des_list[:10]"
   ]
  },
  {
   "cell_type": "code",
   "execution_count": 122,
   "id": "3e74d4b6",
   "metadata": {},
   "outputs": [
    {
     "data": {
      "image/png": "[encoded data removed]",
      "text/plain": [
       "<Figure size 432x288 with 1 Axes>"
      ]
     },
     "metadata": {
      "needs_background": "light"
     },
     "output_type": "display_data"
    }
   ],
   "source": [
    "top10dess.sort(key=lambda x:des_stats[x][1])\n",
    "graph = sns.barplot(y= top10dess, x = [des_stats[s][1] for s in top10dess])\n",
    "graph.axvline(stats.gmean(game_df.num_owned), color = \"red\")\n",
    "\n",
    "plt.ylabel(\"Designer\")\n",
    "plt.xlabel(\"Geometric mean of number owned\")\n",
    "\n",
    "plt.savefig(\"designer_owned.png\",bbox_inches=\"tight\")"
   ]
  },
  {
   "cell_type": "markdown",
   "id": "2e6c94b7",
   "metadata": {},
   "source": [
    "Add rows for the top 5 most common categories, mechanics, and publishers, as well as Uncredited in the designer feature."
   ]
  },
  {
   "cell_type": "code",
   "execution_count": 58,
   "id": "503889f6",
   "metadata": {},
   "outputs": [],
   "source": [
    "for cat in top5cats:\n",
    "    game_df[cat] = game_df.categories.apply(lambda x: 0 if x is None or cat not in x else 1)\n",
    "\n",
    "for mech in top5mechs:\n",
    "    game_df[mech] = game_df.mechanics.apply(lambda x: 0 if x is None or mech not in x else 1)\n",
    "    \n",
    "for pub in top5pubs:\n",
    "    game_df[pub] = game_df.publishers.apply(lambda x: 0 if x is None or pub not in x else 1)\n",
    "\n",
    "game_df[\"(Uncredited)\"] = game_df.designers.apply(lambda x: 0 if x is None or \"(Uncredited)\" not in x else 1)"
   ]
  },
  {
   "cell_type": "code",
   "execution_count": 59,
   "id": "5af2c44e",
   "metadata": {},
   "outputs": [
    {
     "data": {
      "text/plain": [
       "(18678, 32)"
      ]
     },
     "execution_count": 59,
     "metadata": {},
     "output_type": "execute_result"
    }
   ],
   "source": [
    "game_df.shape"
   ]
  },
  {
   "cell_type": "code",
   "execution_count": 116,
   "id": "5b882b95",
   "metadata": {},
   "outputs": [
    {
     "data": {
      "text/html": [
       "<table class=\"simpletable\">\n",
       "<caption>OLS Regression Results</caption>\n",
       "<tr>\n",
       "  <th>Dep. Variable:</th>        <td>log_owned</td>    <th>  R-squared:         </th> <td>   0.283</td> \n",
       "</tr>\n",
       "<tr>\n",
       "  <th>Model:</th>                   <td>OLS</td>       <th>  Adj. R-squared:    </th> <td>   0.282</td> \n",
       "</tr>\n",
       "<tr>\n",
       "  <th>Method:</th>             <td>Least Squares</td>  <th>  F-statistic:       </th> <td>   234.7</td> \n",
       "</tr>\n",
       "<tr>\n",
       "  <th>Date:</th>             <td>Tue, 09 Nov 2021</td> <th>  Prob (F-statistic):</th>  <td>  0.00</td>  \n",
       "</tr>\n",
       "<tr>\n",
       "  <th>Time:</th>                 <td>21:28:04</td>     <th>  Log-Likelihood:    </th> <td> -9705.9</td> \n",
       "</tr>\n",
       "<tr>\n",
       "  <th>No. Observations:</th>      <td> 13074</td>      <th>  AIC:               </th> <td>1.946e+04</td>\n",
       "</tr>\n",
       "<tr>\n",
       "  <th>Df Residuals:</th>          <td> 13051</td>      <th>  BIC:               </th> <td>1.963e+04</td>\n",
       "</tr>\n",
       "<tr>\n",
       "  <th>Df Model:</th>              <td>    22</td>      <th>                     </th>     <td> </td>    \n",
       "</tr>\n",
       "<tr>\n",
       "  <th>Covariance Type:</th>      <td>nonrobust</td>    <th>                     </th>     <td> </td>    \n",
       "</tr>\n",
       "</table>\n",
       "<table class=\"simpletable\">\n",
       "<tr>\n",
       "             <td></td>               <th>coef</th>     <th>std err</th>      <th>t</th>      <th>P>|t|</th>  <th>[0.025</th>    <th>0.975]</th>  \n",
       "</tr>\n",
       "<tr>\n",
       "  <th>const</th>                  <td>   10.8735</td> <td>    1.064</td> <td>   10.223</td> <td> 0.000</td> <td>    8.789</td> <td>   12.958</td>\n",
       "</tr>\n",
       "<tr>\n",
       "  <th>year</th>                   <td>   -0.0049</td> <td>    0.001</td> <td>   -9.199</td> <td> 0.000</td> <td>   -0.006</td> <td>   -0.004</td>\n",
       "</tr>\n",
       "<tr>\n",
       "  <th>rating</th>                 <td>    0.1913</td> <td>    0.007</td> <td>   29.359</td> <td> 0.000</td> <td>    0.179</td> <td>    0.204</td>\n",
       "</tr>\n",
       "<tr>\n",
       "  <th>weight</th>                 <td>    0.0965</td> <td>    0.008</td> <td>   12.362</td> <td> 0.000</td> <td>    0.081</td> <td>    0.112</td>\n",
       "</tr>\n",
       "<tr>\n",
       "  <th>player_age</th>             <td>    0.0147</td> <td>    0.002</td> <td>    7.707</td> <td> 0.000</td> <td>    0.011</td> <td>    0.018</td>\n",
       "</tr>\n",
       "<tr>\n",
       "  <th>Card Game</th>              <td>    0.0064</td> <td>    0.011</td> <td>    0.563</td> <td> 0.574</td> <td>   -0.016</td> <td>    0.029</td>\n",
       "</tr>\n",
       "<tr>\n",
       "  <th>Wargame</th>                <td>   -0.2414</td> <td>    0.018</td> <td>  -13.515</td> <td> 0.000</td> <td>   -0.276</td> <td>   -0.206</td>\n",
       "</tr>\n",
       "<tr>\n",
       "  <th>Fantasy</th>                <td>    0.0470</td> <td>    0.014</td> <td>    3.339</td> <td> 0.001</td> <td>    0.019</td> <td>    0.075</td>\n",
       "</tr>\n",
       "<tr>\n",
       "  <th>Party Game</th>             <td>    0.0446</td> <td>    0.016</td> <td>    2.703</td> <td> 0.007</td> <td>    0.012</td> <td>    0.077</td>\n",
       "</tr>\n",
       "<tr>\n",
       "  <th>Dice</th>                   <td>    0.0452</td> <td>    0.018</td> <td>    2.453</td> <td> 0.014</td> <td>    0.009</td> <td>    0.081</td>\n",
       "</tr>\n",
       "<tr>\n",
       "  <th>Dice Rolling</th>           <td>    0.0639</td> <td>    0.013</td> <td>    5.037</td> <td> 0.000</td> <td>    0.039</td> <td>    0.089</td>\n",
       "</tr>\n",
       "<tr>\n",
       "  <th>Hand Management</th>        <td>    0.1720</td> <td>    0.012</td> <td>   14.039</td> <td> 0.000</td> <td>    0.148</td> <td>    0.196</td>\n",
       "</tr>\n",
       "<tr>\n",
       "  <th>Set Collection</th>         <td>    0.1607</td> <td>    0.013</td> <td>   11.993</td> <td> 0.000</td> <td>    0.134</td> <td>    0.187</td>\n",
       "</tr>\n",
       "<tr>\n",
       "  <th>Variable Player Powers</th> <td>    0.1330</td> <td>    0.015</td> <td>    9.050</td> <td> 0.000</td> <td>    0.104</td> <td>    0.162</td>\n",
       "</tr>\n",
       "<tr>\n",
       "  <th>Hexagon Grid</th>           <td>   -0.0289</td> <td>    0.020</td> <td>   -1.455</td> <td> 0.146</td> <td>   -0.068</td> <td>    0.010</td>\n",
       "</tr>\n",
       "<tr>\n",
       "  <th>Asmodee</th>                <td>    0.6439</td> <td>    0.028</td> <td>   23.388</td> <td> 0.000</td> <td>    0.590</td> <td>    0.698</td>\n",
       "</tr>\n",
       "<tr>\n",
       "  <th>Hasbro</th>                 <td>    0.3918</td> <td>    0.028</td> <td>   13.893</td> <td> 0.000</td> <td>    0.337</td> <td>    0.447</td>\n",
       "</tr>\n",
       "<tr>\n",
       "  <th>(Self-Published)</th>       <td>   -0.3214</td> <td>    0.028</td> <td>  -11.297</td> <td> 0.000</td> <td>   -0.377</td> <td>   -0.266</td>\n",
       "</tr>\n",
       "<tr>\n",
       "  <th>(Web published)</th>        <td>   -0.2864</td> <td>    0.029</td> <td>  -10.000</td> <td> 0.000</td> <td>   -0.343</td> <td>   -0.230</td>\n",
       "</tr>\n",
       "<tr>\n",
       "  <th>999 Games</th>              <td>    0.7108</td> <td>    0.030</td> <td>   23.650</td> <td> 0.000</td> <td>    0.652</td> <td>    0.770</td>\n",
       "</tr>\n",
       "<tr>\n",
       "  <th>(Uncredited)</th>           <td>   -0.1530</td> <td>    0.020</td> <td>   -7.485</td> <td> 0.000</td> <td>   -0.193</td> <td>   -0.113</td>\n",
       "</tr>\n",
       "<tr>\n",
       "  <th>avg_time</th>               <td>-7.688e-06</td> <td> 2.62e-05</td> <td>   -0.294</td> <td> 0.769</td> <td> -5.9e-05</td> <td> 4.36e-05</td>\n",
       "</tr>\n",
       "<tr>\n",
       "  <th>avg_players</th>            <td>    0.0006</td> <td>    0.001</td> <td>    0.969</td> <td> 0.333</td> <td>   -0.001</td> <td>    0.002</td>\n",
       "</tr>\n",
       "</table>\n",
       "<table class=\"simpletable\">\n",
       "<tr>\n",
       "  <th>Omnibus:</th>       <td>294.368</td> <th>  Durbin-Watson:     </th> <td>   1.973</td>\n",
       "</tr>\n",
       "<tr>\n",
       "  <th>Prob(Omnibus):</th> <td> 0.000</td>  <th>  Jarque-Bera (JB):  </th> <td> 358.879</td>\n",
       "</tr>\n",
       "<tr>\n",
       "  <th>Skew:</th>          <td> 0.306</td>  <th>  Prob(JB):          </th> <td>1.18e-78</td>\n",
       "</tr>\n",
       "<tr>\n",
       "  <th>Kurtosis:</th>      <td> 3.533</td>  <th>  Cond. No.          </th> <td>4.80e+05</td>\n",
       "</tr>\n",
       "</table><br/><br/>Notes:<br/>[1] Standard Errors assume that the covariance matrix of the errors is correctly specified.<br/>[2] The condition number is large, 4.8e+05. This might indicate that there are<br/>strong multicollinearity or other numerical problems."
      ],
      "text/plain": [
       "<class 'statsmodels.iolib.summary.Summary'>\n",
       "\"\"\"\n",
       "                            OLS Regression Results                            \n",
       "==============================================================================\n",
       "Dep. Variable:              log_owned   R-squared:                       0.283\n",
       "Model:                            OLS   Adj. R-squared:                  0.282\n",
       "Method:                 Least Squares   F-statistic:                     234.7\n",
       "Date:                Tue, 09 Nov 2021   Prob (F-statistic):               0.00\n",
       "Time:                        21:28:04   Log-Likelihood:                -9705.9\n",
       "No. Observations:               13074   AIC:                         1.946e+04\n",
       "Df Residuals:                   13051   BIC:                         1.963e+04\n",
       "Df Model:                          22                                         \n",
       "Covariance Type:            nonrobust                                         \n",
       "==========================================================================================\n",
       "                             coef    std err          t      P>|t|      [0.025      0.975]\n",
       "------------------------------------------------------------------------------------------\n",
       "const                     10.8735      1.064     10.223      0.000       8.789      12.958\n",
       "year                      -0.0049      0.001     -9.199      0.000      -0.006      -0.004\n",
       "rating                     0.1913      0.007     29.359      0.000       0.179       0.204\n",
       "weight                     0.0965      0.008     12.362      0.000       0.081       0.112\n",
       "player_age                 0.0147      0.002      7.707      0.000       0.011       0.018\n",
       "Card Game                  0.0064      0.011      0.563      0.574      -0.016       0.029\n",
       "Wargame                   -0.2414      0.018    -13.515      0.000      -0.276      -0.206\n",
       "Fantasy                    0.0470      0.014      3.339      0.001       0.019       0.075\n",
       "Party Game                 0.0446      0.016      2.703      0.007       0.012       0.077\n",
       "Dice                       0.0452      0.018      2.453      0.014       0.009       0.081\n",
       "Dice Rolling               0.0639      0.013      5.037      0.000       0.039       0.089\n",
       "Hand Management            0.1720      0.012     14.039      0.000       0.148       0.196\n",
       "Set Collection             0.1607      0.013     11.993      0.000       0.134       0.187\n",
       "Variable Player Powers     0.1330      0.015      9.050      0.000       0.104       0.162\n",
       "Hexagon Grid              -0.0289      0.020     -1.455      0.146      -0.068       0.010\n",
       "Asmodee                    0.6439      0.028     23.388      0.000       0.590       0.698\n",
       "Hasbro                     0.3918      0.028     13.893      0.000       0.337       0.447\n",
       "(Self-Published)          -0.3214      0.028    -11.297      0.000      -0.377      -0.266\n",
       "(Web published)           -0.2864      0.029    -10.000      0.000      -0.343      -0.230\n",
       "999 Games                  0.7108      0.030     23.650      0.000       0.652       0.770\n",
       "(Uncredited)              -0.1530      0.020     -7.485      0.000      -0.193      -0.113\n",
       "avg_time               -7.688e-06   2.62e-05     -0.294      0.769    -5.9e-05    4.36e-05\n",
       "avg_players                0.0006      0.001      0.969      0.333      -0.001       0.002\n",
       "==============================================================================\n",
       "Omnibus:                      294.368   Durbin-Watson:                   1.973\n",
       "Prob(Omnibus):                  0.000   Jarque-Bera (JB):              358.879\n",
       "Skew:                           0.306   Prob(JB):                     1.18e-78\n",
       "Kurtosis:                       3.533   Cond. No.                     4.80e+05\n",
       "==============================================================================\n",
       "\n",
       "Notes:\n",
       "[1] Standard Errors assume that the covariance matrix of the errors is correctly specified.\n",
       "[2] The condition number is large, 4.8e+05. This might indicate that there are\n",
       "strong multicollinearity or other numerical problems.\n",
       "\"\"\""
      ]
     },
     "execution_count": 116,
     "metadata": {},
     "output_type": "execute_result"
    }
   ],
   "source": [
    "X =game_df.drop(columns =[\"name\",\"url\",\"num_owned\",\"designers\",\"publishers\",\"categories\",\"mechanics\",\"log_owned\"])\n",
    "#X[\"weight_sq\"] = X.weight*X.weight\n",
    "#X = X.drop(columns=\"weight\")\n",
    "X[\"avg_time\"] = (X.min_time + X.max_time)/2\n",
    "X = X.drop(columns=[\"min_time\",\"max_time\"])\n",
    "X[\"avg_players\"] = (X.min_players + X.max_players)/2\n",
    "X = X.drop(columns=[\"min_players\",\"max_players\"])\n",
    "y = game_df.log_owned\n",
    "X = sm.add_constant(X)\n",
    "\n",
    "X, X_test, y, y_test = train_test_split(X,y, test_size=0.3)\n",
    "\n",
    "model = sm.OLS(y,X)\n",
    "game_model = model.fit()\n",
    "\n",
    "game_model.summary()"
   ]
  },
  {
   "cell_type": "code",
   "execution_count": 126,
   "id": "eaff6dcf",
   "metadata": {},
   "outputs": [
    {
     "data": {
      "image/png": "[encoded data removed]",
      "text/plain": [
       "<Figure size 432x288 with 1 Axes>"
      ]
     },
     "metadata": {
      "needs_background": "light"
     },
     "output_type": "display_data"
    }
   ],
   "source": [
    "y_pred = game_model.predict(X_test)\n",
    "residuals = y_test - y_pred\n",
    "\n",
    "plt.scatter(y_pred, residuals)\n",
    "\n",
    "plt.xlabel(\"Fitted values\")\n",
    "plt.ylabel(\"Residual\")\n",
    "\n",
    "\n",
    "plt.savefig(\"heteroskadicity.png\",bbox_inches=\"tight\")"
   ]
  },
  {
   "cell_type": "code",
   "execution_count": null,
   "id": "587cf758",
   "metadata": {},
   "outputs": [],
   "source": []
  },
  {
   "cell_type": "code",
   "execution_count": null,
   "id": "c63be562",
   "metadata": {},
   "outputs": [],
   "source": []
  },
  {
   "cell_type": "code",
   "execution_count": 45,
   "id": "82be1747",
   "metadata": {},
   "outputs": [
    {
     "data": {
      "text/plain": [
       "<AxesSubplot:xlabel='year', ylabel='num_owned'>"
      ]
     },
     "execution_count": 45,
     "metadata": {},
     "output_type": "execute_result"
    },
    {
     "data": {
      "image/png": "[encoded data removed]",
      "text/plain": [
       "<Figure size 432x288 with 1 Axes>"
      ]
     },
     "metadata": {
      "needs_background": "light"
     },
     "output_type": "display_data"
    }
   ],
   "source": [
    "vals = game_df.sort_values(by=\"year\").groupby(by=\"year\").num_owned.median()\n",
    "sns.lineplot(x = vals.index, y = vals)"
   ]
  },
  {
   "cell_type": "code",
   "execution_count": 46,
   "id": "fd576dac",
   "metadata": {},
   "outputs": [],
   "source": [
    "#game_df[game_df.year==1630]"
   ]
  },
  {
   "cell_type": "code",
   "execution_count": 75,
   "id": "79e312cd",
   "metadata": {},
   "outputs": [
    {
     "data": {
      "text/plain": [
       "RandomForestRegressor(max_depth=100, max_features=None)"
      ]
     },
     "execution_count": 75,
     "metadata": {},
     "output_type": "execute_result"
    }
   ],
   "source": [
    "y = game_df.log_owned\n",
    "X = game_df.drop(columns =[\"name\",\"url\",\"num_owned\",\"designers\",\n",
    "                           \"publishers\",\"categories\",\"mechanics\",\"log_owned\"])\n",
    "\n",
    "X, X_test, y, y_test = train_test_split(X,y, test_size=0.3)\n",
    "\n",
    "reg_tree = RandomForestRegressor(max_depth=100,n_estimators = 100,max_features=None)\n",
    "reg_tree.fit(X, y)"
   ]
  },
  {
   "cell_type": "code",
   "execution_count": 76,
   "id": "41e165ea",
   "metadata": {},
   "outputs": [
    {
     "data": {
      "text/plain": [
       "0.4588581819552201"
      ]
     },
     "execution_count": 76,
     "metadata": {},
     "output_type": "execute_result"
    }
   ],
   "source": [
    "reg_tree.score(X_test,y_test)"
   ]
  },
  {
   "cell_type": "code",
   "execution_count": 66,
   "id": "bb9fdaa3",
   "metadata": {},
   "outputs": [],
   "source": [
    "y_pred = reg_tree.predict(X_test)\n",
    "residuals = y_test - y_pred"
   ]
  },
  {
   "cell_type": "code",
   "execution_count": 67,
   "id": "4b9f16f7",
   "metadata": {},
   "outputs": [
    {
     "data": {
      "image/png": "[encoded data removed]",
      "text/plain": [
       "<Figure size 432x288 with 1 Axes>"
      ]
     },
     "metadata": {
      "needs_background": "light"
     },
     "output_type": "display_data"
    }
   ],
   "source": [
    "from statsmodels.graphics.gofplots import qqplot\n",
    "\n",
    "qp = qqplot(residuals, line = 'q')"
   ]
  },
  {
   "cell_type": "code",
   "execution_count": 68,
   "id": "150c703e",
   "metadata": {},
   "outputs": [
    {
     "data": {
      "text/plain": [
       "<matplotlib.collections.PathCollection at 0x1a29ef2b0>"
      ]
     },
     "execution_count": 68,
     "metadata": {},
     "output_type": "execute_result"
    },
    {
     "data": {
      "image/png": "[encoded data removed]",
      "text/plain": [
       "<Figure size 432x288 with 1 Axes>"
      ]
     },
     "metadata": {
      "needs_background": "light"
     },
     "output_type": "display_data"
    }
   ],
   "source": [
    "plt.scatter(y_test, residuals)"
   ]
  },
  {
   "cell_type": "code",
   "execution_count": 69,
   "id": "7920661b",
   "metadata": {},
   "outputs": [
    {
     "data": {
      "text/plain": [
       "array([0.12291669, 0.3271045 , 0.07028551, 0.03147653, 0.06578217,\n",
       "       0.05760102, 0.06876673, 0.01641372, 0.01011061, 0.01444497,\n",
       "       0.00755012, 0.01005713, 0.01559797, 0.01848169, 0.01703609,\n",
       "       0.02012112, 0.00883316, 0.04612147, 0.00721124, 0.00823228,\n",
       "       0.00772112, 0.04071279, 0.00742138])"
      ]
     },
     "execution_count": 69,
     "metadata": {},
     "output_type": "execute_result"
    }
   ],
   "source": [
    "reg_tree.feature_importances_"
   ]
  },
  {
   "cell_type": "code",
   "execution_count": 71,
   "id": "16907948",
   "metadata": {},
   "outputs": [],
   "source": [
    "from sklearn.inspection import permutation_importance\n",
    "\n",
    "result = permutation_importance(reg_tree, X, y, n_repeats=10)"
   ]
  },
  {
   "cell_type": "code",
   "execution_count": 72,
   "id": "a9a7fe53",
   "metadata": {},
   "outputs": [
    {
     "data": {
      "text/plain": [
       "{'importances_mean': array([0.29384146, 0.92076188, 0.17256168, 0.05408161, 0.14973852,\n",
       "        0.14109201, 0.24018507, 0.02888382, 0.0498965 , 0.02660935,\n",
       "        0.01618004, 0.01525439, 0.03857762, 0.16883147, 0.06217166,\n",
       "        0.13005699, 0.01919834, 0.10534696, 0.01745561, 0.01256313,\n",
       "        0.01091112, 0.10475558, 0.02156174]),\n",
       " 'importances_std': array([0.0038007 , 0.0073547 , 0.00255616, 0.0008331 , 0.00162216,\n",
       "        0.00222762, 0.00385062, 0.00049023, 0.0016332 , 0.00089466,\n",
       "        0.00045416, 0.00030033, 0.00083289, 0.0023574 , 0.00161652,\n",
       "        0.00269667, 0.00121799, 0.00355438, 0.00071259, 0.00108956,\n",
       "        0.00052197, 0.00216156, 0.0006232 ]),\n",
       " 'importances': array([[0.28769582, 0.29042561, 0.29508048, 0.29807504, 0.29392092,\n",
       "         0.29312764, 0.29046383, 0.29142334, 0.29799147, 0.30021044],\n",
       "        [0.91822937, 0.92955599, 0.93416532, 0.92624608, 0.9172388 ,\n",
       "         0.91010474, 0.91056086, 0.92114543, 0.92306527, 0.91730693],\n",
       "        [0.1688157 , 0.16850125, 0.17170208, 0.1769682 , 0.17162737,\n",
       "         0.17327946, 0.17183677, 0.1754319 , 0.17467468, 0.17277936],\n",
       "        [0.05558868, 0.05472948, 0.05373567, 0.05470791, 0.05289522,\n",
       "         0.05418526, 0.05482236, 0.05337585, 0.05299422, 0.05378143],\n",
       "        [0.15198193, 0.15068056, 0.14961864, 0.15040343, 0.14727945,\n",
       "         0.15138924, 0.1506201 , 0.14654754, 0.1493377 , 0.14952661],\n",
       "        [0.13935239, 0.1416291 , 0.14025353, 0.14349228, 0.1416036 ,\n",
       "         0.13674421, 0.14251948, 0.13857025, 0.14433508, 0.14242024],\n",
       "        [0.23643907, 0.24607182, 0.23685823, 0.24090904, 0.23771446,\n",
       "         0.24369961, 0.23365441, 0.24101288, 0.24018724, 0.24530399],\n",
       "        [0.02906535, 0.02900961, 0.02814511, 0.02905912, 0.02907873,\n",
       "         0.02935249, 0.02889251, 0.02859843, 0.02966406, 0.02797274],\n",
       "        [0.05311591, 0.04860174, 0.05014722, 0.0501219 , 0.0506366 ,\n",
       "         0.04687084, 0.04897858, 0.04858242, 0.05101248, 0.05089729],\n",
       "        [0.02588661, 0.02680579, 0.02614161, 0.02693587, 0.0245649 ,\n",
       "         0.02812509, 0.02719198, 0.02714159, 0.02656462, 0.02673539],\n",
       "        [0.01671552, 0.0161474 , 0.01536755, 0.01642118, 0.01599538,\n",
       "         0.0160508 , 0.01544103, 0.01649642, 0.01671561, 0.0164495 ],\n",
       "        [0.01475256, 0.01547522, 0.01522569, 0.01519817, 0.01535925,\n",
       "         0.01496397, 0.01549035, 0.0148964 , 0.01580495, 0.01537729],\n",
       "        [0.038515  , 0.03633576, 0.03870692, 0.03966986, 0.03828585,\n",
       "         0.03848028, 0.0390395 , 0.03907233, 0.03875836, 0.03891238],\n",
       "        [0.16926876, 0.16597962, 0.17071786, 0.17092583, 0.17078958,\n",
       "         0.17117928, 0.17048267, 0.16680493, 0.16808522, 0.16408092],\n",
       "        [0.06046996, 0.06152138, 0.06309221, 0.06086101, 0.06164079,\n",
       "         0.06439482, 0.0612954 , 0.06072052, 0.06206481, 0.06565567],\n",
       "        [0.13009492, 0.13186528, 0.12540886, 0.13300756, 0.12852519,\n",
       "         0.1327863 , 0.13272966, 0.12824831, 0.1260809 , 0.13182295],\n",
       "        [0.01972915, 0.01920953, 0.01991111, 0.01808249, 0.02057031,\n",
       "         0.01961813, 0.01900718, 0.02086238, 0.0185319 , 0.01646123],\n",
       "        [0.10255837, 0.10577578, 0.10047476, 0.10357912, 0.10751351,\n",
       "         0.10608979, 0.11168881, 0.10958587, 0.10010195, 0.10610162],\n",
       "        [0.01661777, 0.01894085, 0.01687945, 0.01743008, 0.01664923,\n",
       "         0.01739985, 0.01754669, 0.01777843, 0.01695317, 0.01836062],\n",
       "        [0.01196826, 0.01508128, 0.01187901, 0.0111482 , 0.01214414,\n",
       "         0.01197333, 0.01323344, 0.01378149, 0.01223612, 0.01218599],\n",
       "        [0.01119824, 0.00954139, 0.01097945, 0.01118057, 0.01093597,\n",
       "         0.01084846, 0.01116011, 0.01146494, 0.01050406, 0.01129801],\n",
       "        [0.10728794, 0.10005317, 0.10633056, 0.10429228, 0.10540592,\n",
       "         0.10757882, 0.10475129, 0.10471441, 0.10210452, 0.10503694],\n",
       "        [0.02175078, 0.02187727, 0.02222194, 0.02175333, 0.02135543,\n",
       "         0.02072242, 0.02048029, 0.02143197, 0.02269648, 0.02132746]])}"
      ]
     },
     "execution_count": 72,
     "metadata": {},
     "output_type": "execute_result"
    }
   ],
   "source": [
    "result"
   ]
  },
  {
   "cell_type": "code",
   "execution_count": 70,
   "id": "20480efe",
   "metadata": {},
   "outputs": [
    {
     "data": {
      "text/plain": [
       "Index(['year', 'weight', 'player_age', 'min_players', 'max_players',\n",
       "       'min_time', 'max_time', 'Card Game', 'Wargame', 'Fantasy', 'Party Game',\n",
       "       'Dice', 'Dice Rolling', 'Hand Management', 'Set Collection',\n",
       "       'Variable Player Powers', 'Hexagon Grid', 'Asmodee', 'Hasbro',\n",
       "       '(Self-Published)', '(Web published)', '999 Games', '(Uncredited)'],\n",
       "      dtype='object')"
      ]
     },
     "execution_count": 70,
     "metadata": {},
     "output_type": "execute_result"
    }
   ],
   "source": [
    "X.columns"
   ]
  },
  {
   "cell_type": "code",
   "execution_count": 132,
   "id": "2a02c5cc",
   "metadata": {},
   "outputs": [],
   "source": [
    "lr = LinearRegression()\n",
    "\n",
    "lr.fit(X, np.log10(y))\n",
    "y_pred = lr.predict(X_test)"
   ]
  },
  {
   "cell_type": "code",
   "execution_count": 133,
   "id": "8043c93f",
   "metadata": {},
   "outputs": [],
   "source": [
    "residuals = np.log10(y_test) - y_pred"
   ]
  },
  {
   "cell_type": "code",
   "execution_count": 134,
   "id": "9a42e0cc",
   "metadata": {},
   "outputs": [
    {
     "data": {
      "image/png": "[encoded data removed]",
      "text/plain": [
       "<Figure size 432x288 with 1 Axes>"
      ]
     },
     "metadata": {
      "needs_background": "light"
     },
     "output_type": "display_data"
    }
   ],
   "source": [
    "from statsmodels.graphics.gofplots import qqplot\n",
    "\n",
    "qp = qqplot(residuals, line = 'q')"
   ]
  },
  {
   "cell_type": "code",
   "execution_count": 136,
   "id": "bda2a296",
   "metadata": {},
   "outputs": [
    {
     "data": {
      "text/plain": [
       "<matplotlib.collections.PathCollection at 0x131f510a0>"
      ]
     },
     "execution_count": 136,
     "metadata": {},
     "output_type": "execute_result"
    },
    {
     "data": {
      "image/png": "[encoded data removed]",
      "text/plain": [
       "<Figure size 432x288 with 1 Axes>"
      ]
     },
     "metadata": {
      "needs_background": "light"
     },
     "output_type": "display_data"
    }
   ],
   "source": [
    "plt.scatter(y_pred, residuals)"
   ]
  },
  {
   "cell_type": "code",
   "execution_count": null,
   "id": "ca394ed5",
   "metadata": {},
   "outputs": [],
   "source": []
  },
  {
   "cell_type": "code",
   "execution_count": 128,
   "id": "aea4d105",
   "metadata": {},
   "outputs": [],
   "source": [
    "from sklearn import preprocessing\n",
    "scaler = preprocessing.StandardScaler().fit(X)\n",
    "X_scaled = scaler.transform(X)\n",
    "\n",
    "lr = HuberRegressor()\n",
    "\n",
    "lr.fit(X_scaled, np.log10(y))\n",
    "y_pred = lr.predict(scaler.transform(X_test))"
   ]
  },
  {
   "cell_type": "code",
   "execution_count": 129,
   "id": "1f22e2a8",
   "metadata": {},
   "outputs": [],
   "source": [
    "residuals = np.log10(y_test) - y_pred"
   ]
  },
  {
   "cell_type": "code",
   "execution_count": 130,
   "id": "24e2207e",
   "metadata": {},
   "outputs": [
    {
     "data": {
      "image/png": "[encoded data removed]",
      "text/plain": [
       "<Figure size 432x288 with 1 Axes>"
      ]
     },
     "metadata": {
      "needs_background": "light"
     },
     "output_type": "display_data"
    }
   ],
   "source": [
    "qp = qqplot(residuals, line = 'q')"
   ]
  },
  {
   "cell_type": "code",
   "execution_count": 131,
   "id": "790ee7b4",
   "metadata": {},
   "outputs": [
    {
     "data": {
      "text/plain": [
       "<matplotlib.collections.PathCollection at 0x13214af40>"
      ]
     },
     "execution_count": 131,
     "metadata": {},
     "output_type": "execute_result"
    },
    {
     "data": {
      "image/png": "[encoded data removed]",
      "text/plain": [
       "<Figure size 432x288 with 1 Axes>"
      ]
     },
     "metadata": {
      "needs_background": "light"
     },
     "output_type": "display_data"
    }
   ],
   "source": [
    "plt.scatter(y_pred, residuals)"
   ]
  },
  {
   "cell_type": "code",
   "execution_count": null,
   "id": "05d7b10b",
   "metadata": {},
   "outputs": [],
   "source": []
  },
  {
   "cell_type": "code",
   "execution_count": null,
   "id": "2164ad17",
   "metadata": {},
   "outputs": [],
   "source": []
  }
 ],
 "metadata": {
  "kernelspec": {
   "display_name": "Python 3",
   "language": "python",
   "name": "python3"
  },
  "language_info": {
   "codemirror_mode": {
    "name": "ipython",
    "version": 3
   },
   "file_extension": ".py",
   "mimetype": "text/x-python",
   "name": "python",
   "nbconvert_exporter": "python",
   "pygments_lexer": "ipython3",
   "version": "3.8.8"
  }
 },
 "nbformat": 4,
 "nbformat_minor": 5
}
